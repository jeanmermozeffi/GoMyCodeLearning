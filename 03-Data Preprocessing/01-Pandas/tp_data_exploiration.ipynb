{
 "cells": [
  {
   "cell_type": "code",
   "execution_count": null,
   "id": "0",
   "metadata": {},
   "outputs": [],
   "source": [
    "!pip install Faker"
   ]
  },
  {
   "cell_type": "markdown",
   "id": "1",
   "metadata": {},
   "source": [
    "## Importation des bibliotheque"
   ]
  },
  {
   "cell_type": "code",
   "execution_count": null,
   "id": "2",
   "metadata": {},
   "outputs": [],
   "source": [
    "import pandas as pd\n",
    "from faker import Faker\n",
    "import random"
   ]
  },
  {
   "cell_type": "markdown",
   "id": "3",
   "metadata": {},
   "source": [
    "## Géneration des donées avec Faker"
   ]
  },
  {
   "cell_type": "code",
   "execution_count": null,
   "id": "4",
   "metadata": {},
   "outputs": [],
   "source": [
    "departments_functions = {\n",
    "    'IT': [\n",
    "        'Développeur logiciel',\n",
    "        'Administrateur système',\n",
    "        'Ingénieur réseau',\n",
    "        'Spécialiste en cybersécurité',\n",
    "        'Analyste en support technique',\n",
    "        'Architecte cloud',\n",
    "        'Ingénieur DevOps',\n",
    "        'Chef de projet IT',\n",
    "        'Analyste de données',\n",
    "        'Spécialiste en bases de données'\n",
    "    ],\n",
    "    'Engineering': [\n",
    "        'Ingénieur en génie civil',\n",
    "        'Ingénieur en mécanique',\n",
    "        'Ingénieur en électricité',\n",
    "        'Ingénieur en électronique',\n",
    "        'Ingénieur en aéronautique',\n",
    "        'Ingénieur en environnement',\n",
    "        'Ingénieur chimiste',\n",
    "        'Ingénieur industriel',\n",
    "        'Ingénieur en robotique',\n",
    "        'Ingénieur en matériaux'\n",
    "    ],\n",
    "    'Finance': [\n",
    "        'Analyste financier',\n",
    "        'Comptable',\n",
    "        'Contrôleur de gestion',\n",
    "        'Auditeur financier',\n",
    "        'Trésorier',\n",
    "        'Conseiller en investissements',\n",
    "        'Responsable des risques financiers',\n",
    "        'Analyste de crédit',\n",
    "        'Gestionnaire de portefeuille',\n",
    "        'Chef de projet finance'\n",
    "    ],\n",
    "    'HR': [\n",
    "        'Responsable RH',\n",
    "        'Chargé de recrutement',\n",
    "        'Responsable formation',\n",
    "        'Gestionnaire de paie',\n",
    "        'Responsable des relations sociales',\n",
    "        'HR Business Partner',\n",
    "        'Consultant en gestion des talents',\n",
    "        'Responsable de la diversité et de l\\'inclusion',\n",
    "        'Conseiller en relations de travail',\n",
    "        'Spécialiste en développement organisationnel'\n",
    "    ],\n",
    "    'Marketing': [\n",
    "        'Responsable marketing',\n",
    "        'Chef de produit',\n",
    "        'Analyste marketing',\n",
    "        'Spécialiste en marketing digital',\n",
    "        'Community manager',\n",
    "        'Responsable de la communication',\n",
    "        'Spécialiste en relations publiques',\n",
    "        'Directeur de la marque',\n",
    "        'Responsable SEO/SEM',\n",
    "        'Consultant en stratégie marketing'\n",
    "    ]\n",
    "}\n",
    "\n",
    "villes_cote_divoire = [\n",
    "    'Abidjan',\n",
    "    'Yamoussoukro',\n",
    "    'Bouaké',\n",
    "    'Daloa',\n",
    "    'San Pedro',\n",
    "    'Korhogo',\n",
    "    'Man',\n",
    "    'Divo',\n",
    "    'Gagnoa',\n",
    "    'Abengourou',\n",
    "    'Agboville',\n",
    "    'Bondoukou',\n",
    "    'Odienné',\n",
    "    'Sassandra',\n",
    "    'Séguéla'\n",
    "]"
   ]
  },
  {
   "cell_type": "code",
   "execution_count": null,
   "id": "5",
   "metadata": {},
   "outputs": [],
   "source": [
    "departments_functions['IT']"
   ]
  },
  {
   "cell_type": "code",
   "execution_count": null,
   "id": "6",
   "metadata": {},
   "outputs": [],
   "source": [
    "# Initialisez Faker pour générer des données synthétiques\n",
    "fake = Faker('fr_FR')\n",
    "\n",
    "# Définir la graine seed() pour la reproductibilité\n",
    "Faker.seed(42)\n",
    "\n",
    "# Générer des données synthétiques\n",
    "data = []\n",
    "for _ in range(5000):\n",
    "    employe = {\n",
    "        'Age': random.randint(18, 70),\n",
    "        'Email': fake.email(),\n",
    "        'Phone': fake.phone_number(),\n",
    "        'Address': fake.address(),\n",
    "        'Salary': random.randint(20000, 150000),\n",
    "        'Join_Date': fake.date_this_decade(),\n",
    "        'Employment_Status': random.choice(['Full-Time', 'Part-Time', 'CDD', 'CDI']),\n",
    "        'Gender': random.choice(['M', 'F']),\n",
    "        'Department': random.choice(['IT', 'Engineering','Finance', 'HR', 'Marketing']),\n",
    "        'Ville': random.choice(villes_cote_divoire)\n",
    "    }\n",
    "    djob_tilte = departments_functions[employe['Department']]\n",
    "    employe['Djob_tilte'] = random.choice(djob_tilte),\n",
    "\n",
    "    if employe['Gender'] == 'M':\n",
    "        employe['Fist Name'] = fake.first_name_male()\n",
    "        employe['Last Name'] = fake.last_name_male()\n",
    "    else:\n",
    "        employe['Fist Name'] = fake.last_name_female()\n",
    "        employe['Last Name'] = fake.last_name_female()\n",
    "    \n",
    "    data.append(employe)"
   ]
  },
  {
   "cell_type": "code",
   "execution_count": null,
   "id": "7",
   "metadata": {},
   "outputs": [],
   "source": [
    "len(data)"
   ]
  },
  {
   "cell_type": "code",
   "execution_count": null,
   "id": "8",
   "metadata": {},
   "outputs": [],
   "source": [
    "data[0]"
   ]
  },
  {
   "cell_type": "code",
   "execution_count": null,
   "id": "9",
   "metadata": {},
   "outputs": [],
   "source": [
    "len(data[0])"
   ]
  },
  {
   "cell_type": "code",
   "execution_count": null,
   "id": "10",
   "metadata": {},
   "outputs": [],
   "source": [
    "# Modifions un peu les enregistrements !\n",
    "# Introduire les valeurs manquantes\n",
    "for i in random.sample(range(len(data)), 50):\n",
    "    data[i]['Email'] = None\n",
    "\n",
    "# Introduire des enregistrements en double\n",
    "data.extend(random.sample(data, 100))\n",
    "\n",
    "# Introduire des valeurs aberrantes\n",
    "for i in random.sample(range(len(data)), 20):\n",
    "    data[i]['Salary'] = random.randint(200000, 500000)"
   ]
  },
  {
   "cell_type": "code",
   "execution_count": null,
   "id": "11",
   "metadata": {},
   "outputs": [],
   "source": [
    "# Créer une trame de données\n",
    "df = pd.DataFrame(data)"
   ]
  },
  {
   "cell_type": "code",
   "execution_count": null,
   "id": "12",
   "metadata": {},
   "outputs": [],
   "source": [
    "df.head(10)"
   ]
  },
  {
   "cell_type": "code",
   "execution_count": null,
   "id": "13",
   "metadata": {},
   "outputs": [],
   "source": [
    "df.shape"
   ]
  },
  {
   "cell_type": "code",
   "execution_count": null,
   "id": "14",
   "metadata": {},
   "outputs": [],
   "source": [
    "df.to_csv('fiche_employes.csv', index=False)"
   ]
  },
  {
   "cell_type": "markdown",
   "id": "15",
   "metadata": {},
   "source": [
    "## Étape 1 : Comprendre les données"
   ]
  },
  {
   "cell_type": "code",
   "execution_count": null,
   "id": "16",
   "metadata": {},
   "outputs": [],
   "source": []
  },
  {
   "cell_type": "code",
   "execution_count": null,
   "id": "17",
   "metadata": {},
   "outputs": [],
   "source": []
  },
  {
   "cell_type": "markdown",
   "id": "18",
   "metadata": {},
   "source": [
    "## Étape 2 : Gérer les doublons"
   ]
  },
  {
   "cell_type": "code",
   "execution_count": null,
   "id": "19",
   "metadata": {},
   "outputs": [],
   "source": []
  },
  {
   "cell_type": "code",
   "execution_count": null,
   "id": "20",
   "metadata": {},
   "outputs": [],
   "source": []
  },
  {
   "cell_type": "markdown",
   "id": "21",
   "metadata": {},
   "source": [
    "## Étape 3 : Gestion des données manquantes"
   ]
  },
  {
   "cell_type": "code",
   "execution_count": null,
   "id": "22",
   "metadata": {},
   "outputs": [],
   "source": []
  },
  {
   "cell_type": "code",
   "execution_count": null,
   "id": "23",
   "metadata": {},
   "outputs": [],
   "source": []
  },
  {
   "cell_type": "markdown",
   "id": "24",
   "metadata": {},
   "source": [
    "## Étape 4 : Transformer les données"
   ]
  },
  {
   "cell_type": "code",
   "execution_count": null,
   "id": "25",
   "metadata": {},
   "outputs": [],
   "source": []
  },
  {
   "cell_type": "code",
   "execution_count": null,
   "id": "26",
   "metadata": {},
   "outputs": [],
   "source": []
  },
  {
   "cell_type": "markdown",
   "id": "27",
   "metadata": {},
   "source": [
    "## Étape 5 : Nettoyage des données texte"
   ]
  },
  {
   "cell_type": "code",
   "execution_count": null,
   "id": "28",
   "metadata": {},
   "outputs": [],
   "source": []
  },
  {
   "cell_type": "code",
   "execution_count": null,
   "id": "29",
   "metadata": {},
   "outputs": [],
   "source": []
  },
  {
   "cell_type": "markdown",
   "id": "30",
   "metadata": {},
   "source": [
    "## Étape 6 : Gestion des valeurs aberrantes"
   ]
  },
  {
   "cell_type": "code",
   "execution_count": null,
   "id": "31",
   "metadata": {},
   "outputs": [],
   "source": []
  },
  {
   "cell_type": "markdown",
   "id": "32",
   "metadata": {},
   "source": [
    "## Étape 7 : Fusionner les données"
   ]
  },
  {
   "cell_type": "code",
   "execution_count": null,
   "id": "33",
   "metadata": {},
   "outputs": [],
   "source": []
  },
  {
   "cell_type": "code",
   "execution_count": null,
   "id": "34",
   "metadata": {},
   "outputs": [],
   "source": []
  }
 ],
 "metadata": {
  "kernelspec": {
   "display_name": "Python 3 (ipykernel)",
   "language": "python",
   "name": "python3"
  },
  "language_info": {
   "codemirror_mode": {
    "name": "ipython",
    "version": 3
   },
   "file_extension": ".py",
   "mimetype": "text/x-python",
   "name": "python",
   "nbconvert_exporter": "python",
   "pygments_lexer": "ipython3",
   "version": "3.11.7"
  }
 },
 "nbformat": 4,
 "nbformat_minor": 5
}
