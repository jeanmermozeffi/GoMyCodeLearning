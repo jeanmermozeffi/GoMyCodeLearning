{
 "cells": [
  {
   "cell_type": "code",
   "execution_count": null,
   "id": "0",
   "metadata": {},
   "outputs": [],
   "source": [
    "!pip install Faker"
   ]
  },
  {
   "cell_type": "code",
   "execution_count": null,
   "id": "1",
   "metadata": {},
   "outputs": [],
   "source": [
    "!pip install handcalcs"
   ]
  },
  {
   "cell_type": "code",
   "execution_count": null,
   "id": "2",
   "metadata": {},
   "outputs": [],
   "source": [
    "!pip install forallpeople"
   ]
  },
  {
   "cell_type": "code",
   "execution_count": null,
   "id": "3",
   "metadata": {},
   "outputs": [],
   "source": []
  },
  {
   "cell_type": "markdown",
   "id": "4",
   "metadata": {},
   "source": [
    "## Importation des bibliotheque"
   ]
  },
  {
   "cell_type": "code",
   "execution_count": null,
   "id": "5",
   "metadata": {},
   "outputs": [],
   "source": [
    "import pandas as pd\n",
    "import numpy as np\n",
    "from faker import Faker\n",
    "import random\n",
    "\n",
    "import handcalcs.render\n",
    "import sympy as sp\n",
    "from handcalcs.decorator import handcalc\n",
    "\n",
    "from math import sqrt, sin, pi, asin"
   ]
  },
  {
   "cell_type": "markdown",
   "id": "6",
   "metadata": {},
   "source": [
    "## Géneration des donées avec Faker"
   ]
  },
  {
   "cell_type": "code",
   "execution_count": null,
   "id": "7",
   "metadata": {},
   "outputs": [],
   "source": [
    "departments_functions = {\n",
    "    'IT': [\n",
    "        'Développeur logiciel',\n",
    "        'Administrateur système',\n",
    "        'Ingénieur réseau',\n",
    "        'Spécialiste en cybersécurité',\n",
    "        'Analyste en support technique',\n",
    "        'Architecte cloud',\n",
    "        'Ingénieur DevOps',\n",
    "        'Chef de projet IT',\n",
    "        'Analyste de données',\n",
    "        'Spécialiste en bases de données'\n",
    "    ],\n",
    "    'Engineering': [\n",
    "        'Ingénieur en génie civil',\n",
    "        'Ingénieur en mécanique',\n",
    "        'Ingénieur en électricité',\n",
    "        'Ingénieur en électronique',\n",
    "        'Ingénieur en aéronautique',\n",
    "        'Ingénieur en environnement',\n",
    "        'Ingénieur chimiste',\n",
    "        'Ingénieur industriel',\n",
    "        'Ingénieur en robotique',\n",
    "        'Ingénieur en matériaux'\n",
    "    ],\n",
    "    'Finance': [\n",
    "        'Analyste financier',\n",
    "        'Comptable',\n",
    "        'Contrôleur de gestion',\n",
    "        'Auditeur financier',\n",
    "        'Trésorier',\n",
    "        'Conseiller en investissements',\n",
    "        'Responsable des risques financiers',\n",
    "        'Analyste de crédit',\n",
    "        'Gestionnaire de portefeuille',\n",
    "        'Chef de projet finance'\n",
    "    ],\n",
    "    'HR': [\n",
    "        'Responsable RH',\n",
    "        'Chargé de recrutement',\n",
    "        'Responsable formation',\n",
    "        'Gestionnaire de paie',\n",
    "        'Responsable des relations sociales',\n",
    "        'HR Business Partner',\n",
    "        'Consultant en gestion des talents',\n",
    "        'Responsable de la diversité et de l\\'inclusion',\n",
    "        'Conseiller en relations de travail',\n",
    "        'Spécialiste en développement organisationnel'\n",
    "    ],\n",
    "    'Marketing': [\n",
    "        'Responsable marketing',\n",
    "        'Chef de produit',\n",
    "        'Analyste marketing',\n",
    "        'Spécialiste en marketing digital',\n",
    "        'Community manager',\n",
    "        'Responsable de la communication',\n",
    "        'Spécialiste en relations publiques',\n",
    "        'Directeur de la marque',\n",
    "        'Responsable SEO/SEM',\n",
    "        'Consultant en stratégie marketing'\n",
    "    ]\n",
    "}\n",
    "\n",
    "villes_cote_divoire = [\n",
    "    'Abidjan',\n",
    "    'Yamoussoukro',\n",
    "    'Bouaké',\n",
    "    'Daloa',\n",
    "    'San Pedro',\n",
    "    'Korhogo',\n",
    "    'Man',\n",
    "    'Divo',\n",
    "    'Gagnoa',\n",
    "    'Abengourou',\n",
    "    'Agboville',\n",
    "    'Bondoukou',\n",
    "    'Odienné',\n",
    "    'Sassandra',\n",
    "    'Séguéla'\n",
    "]"
   ]
  },
  {
   "cell_type": "code",
   "execution_count": null,
   "id": "8",
   "metadata": {},
   "outputs": [],
   "source": [
    "departments_functions['IT']"
   ]
  },
  {
   "cell_type": "code",
   "execution_count": null,
   "id": "9",
   "metadata": {},
   "outputs": [],
   "source": [
    "# Initialisez Faker pour générer des données synthétiques\n",
    "fake = Faker('fr_FR')\n",
    "\n",
    "# Définir la graine seed() pour la reproductibilité\n",
    "Faker.seed(42)\n",
    "\n",
    "# Générer des données synthétiques\n",
    "data = []\n",
    "for _ in range(5000):\n",
    "    employe = {\n",
    "        'Age': random.randint(18, 70),\n",
    "        'Email': fake.email(),\n",
    "        'Phone': fake.phone_number(),\n",
    "        'Address': fake.address(),\n",
    "        'Salary': random.randint(20000, 150000),\n",
    "        'Join_Date': fake.date_this_decade(),\n",
    "        'Employment_Status': random.choice(['Full-Time', 'Part-Time', 'CDD', 'CDI']),\n",
    "        'Gender': random.choice(['M', 'F']),\n",
    "        'Department': random.choice(['IT', 'Engineering','Finance', 'HR', 'Marketing']),\n",
    "        'Ville': random.choice(villes_cote_divoire)\n",
    "    }\n",
    "    djob_tilte = departments_functions[employe['Department']]\n",
    "    employe['Djob_tilte'] = random.choice(djob_tilte),\n",
    "\n",
    "    if employe['Gender'] == 'M':\n",
    "        employe['Fist Name'] = fake.first_name_male()\n",
    "        employe['Last Name'] = fake.last_name_male()\n",
    "    else:\n",
    "        employe['Fist Name'] = fake.last_name_female()\n",
    "        employe['Last Name'] = fake.last_name_female()\n",
    "    \n",
    "    data.append(employe)"
   ]
  },
  {
   "cell_type": "code",
   "execution_count": null,
   "id": "10",
   "metadata": {},
   "outputs": [],
   "source": [
    "data[0]"
   ]
  },
  {
   "cell_type": "code",
   "execution_count": null,
   "id": "11",
   "metadata": {},
   "outputs": [],
   "source": [
    "len(data[0])"
   ]
  },
  {
   "cell_type": "code",
   "execution_count": null,
   "id": "12",
   "metadata": {},
   "outputs": [],
   "source": [
    "# Modifions un peu les enregistrements !\n",
    "# Introduire les valeurs manquantes\n",
    "for i in random.sample(range(len(data)), 50):\n",
    "    data[i]['Email'] = None\n",
    "\n",
    "# Introduire des enregistrements en double\n",
    "data.extend(random.sample(data, 100))\n",
    "\n",
    "# Introduire des valeurs aberrantes\n",
    "for i in random.sample(range(len(data)), 20):\n",
    "    data[i]['Salary'] = random.randint(200000, 500000)"
   ]
  },
  {
   "cell_type": "code",
   "execution_count": null,
   "id": "13",
   "metadata": {},
   "outputs": [],
   "source": [
    "# Créer une trame de données\n",
    "df = pd.DataFrame(data)"
   ]
  },
  {
   "cell_type": "code",
   "execution_count": null,
   "id": "14",
   "metadata": {},
   "outputs": [],
   "source": [
    "df.head(5)"
   ]
  },
  {
   "cell_type": "code",
   "execution_count": null,
   "id": "15",
   "metadata": {},
   "outputs": [],
   "source": [
    "df.shape"
   ]
  },
  {
   "cell_type": "code",
   "execution_count": null,
   "id": "16",
   "metadata": {},
   "outputs": [],
   "source": [
    "df.to_csv('fiche_employes.csv', index=False)"
   ]
  },
  {
   "cell_type": "markdown",
   "id": "17",
   "metadata": {},
   "source": [
    "## Chargement des données"
   ]
  },
  {
   "cell_type": "code",
   "execution_count": null,
   "id": "18",
   "metadata": {},
   "outputs": [],
   "source": [
    "data_path = '../../DataSets/fiche_employes.csv'"
   ]
  },
  {
   "cell_type": "code",
   "execution_count": null,
   "id": "19",
   "metadata": {},
   "outputs": [],
   "source": [
    "df_raw = pd.read_csv(data_path)"
   ]
  },
  {
   "cell_type": "code",
   "execution_count": null,
   "id": "20",
   "metadata": {},
   "outputs": [],
   "source": [
    "df = df_raw.copy()"
   ]
  },
  {
   "cell_type": "code",
   "execution_count": null,
   "id": "21",
   "metadata": {},
   "outputs": [],
   "source": [
    "df.head()"
   ]
  },
  {
   "cell_type": "code",
   "execution_count": null,
   "id": "22",
   "metadata": {},
   "outputs": [],
   "source": [
    "df.shape"
   ]
  },
  {
   "cell_type": "markdown",
   "id": "23",
   "metadata": {},
   "source": [
    "## Étape 1 : Comprendre les données"
   ]
  },
  {
   "cell_type": "code",
   "execution_count": null,
   "id": "24",
   "metadata": {},
   "outputs": [],
   "source": [
    "df.info()"
   ]
  },
  {
   "cell_type": "markdown",
   "id": "25",
   "metadata": {},
   "source": [
    "## Étape 2 : Gérer les doublons"
   ]
  },
  {
   "cell_type": "code",
   "execution_count": null,
   "id": "26",
   "metadata": {},
   "outputs": [],
   "source": [
    "# Vérifier les lignes en double\n",
    "duplicates = df.duplicated().sum()\n",
    "print(f\"nombre de lignes en doublons: {duplicates}\")"
   ]
  },
  {
   "cell_type": "code",
   "execution_count": null,
   "id": "27",
   "metadata": {},
   "outputs": [],
   "source": [
    "df_duplicates_rows = df[df.duplicated()]\n",
    "df_duplicates_rows.head()"
   ]
  },
  {
   "cell_type": "code",
   "execution_count": null,
   "id": "28",
   "metadata": {},
   "outputs": [],
   "source": [
    "df_duplicates_rows.shape"
   ]
  },
  {
   "cell_type": "code",
   "execution_count": null,
   "id": "29",
   "metadata": {},
   "outputs": [],
   "source": [
    "df.drop_duplicates(inplace=True)"
   ]
  },
  {
   "cell_type": "code",
   "execution_count": null,
   "id": "30",
   "metadata": {},
   "outputs": [],
   "source": [
    "df.shape"
   ]
  },
  {
   "cell_type": "code",
   "execution_count": null,
   "id": "31",
   "metadata": {},
   "outputs": [],
   "source": []
  },
  {
   "cell_type": "code",
   "execution_count": null,
   "id": "32",
   "metadata": {},
   "outputs": [],
   "source": []
  },
  {
   "cell_type": "code",
   "execution_count": null,
   "id": "33",
   "metadata": {},
   "outputs": [],
   "source": []
  },
  {
   "cell_type": "code",
   "execution_count": null,
   "id": "34",
   "metadata": {},
   "outputs": [],
   "source": []
  },
  {
   "cell_type": "code",
   "execution_count": null,
   "id": "35",
   "metadata": {},
   "outputs": [],
   "source": []
  },
  {
   "cell_type": "markdown",
   "id": "36",
   "metadata": {},
   "source": [
    "## Étape 3 : Gestion des données manquantes"
   ]
  },
  {
   "cell_type": "code",
   "execution_count": null,
   "id": "37",
   "metadata": {},
   "outputs": [],
   "source": [
    "# Rechercher les valeurs manquantes\n",
    "missing_values = df.isna().sum()\n",
    "print(f\"Nombre de valeurs null/NA :\\n {missing_values}\")"
   ]
  },
  {
   "cell_type": "code",
   "execution_count": null,
   "id": "38",
   "metadata": {},
   "outputs": [],
   "source": [
    "df.columns"
   ]
  },
  {
   "cell_type": "code",
   "execution_count": null,
   "id": "39",
   "metadata": {},
   "outputs": [],
   "source": [
    "# Gestion des valeurs manquantes en remplissant avec un espace réservé\n",
    "df[['Last Name', 'Fist Name']]"
   ]
  },
  {
   "cell_type": "code",
   "execution_count": null,
   "id": "40",
   "metadata": {},
   "outputs": [],
   "source": []
  },
  {
   "cell_type": "code",
   "execution_count": null,
   "id": "41",
   "metadata": {},
   "outputs": [],
   "source": [
    "df['Email'].fillna(df['Last Name'].str.lower() + df['Fist Name'].str.lower() + '@gomycode.ci', inplace=True)"
   ]
  },
  {
   "cell_type": "code",
   "execution_count": null,
   "id": "42",
   "metadata": {},
   "outputs": [],
   "source": [
    "df.isna().sum()"
   ]
  },
  {
   "cell_type": "code",
   "execution_count": null,
   "id": "43",
   "metadata": {},
   "outputs": [],
   "source": [
    "df[df['Email'] == '@gomycode.ci']"
   ]
  },
  {
   "cell_type": "code",
   "execution_count": null,
   "id": "44",
   "metadata": {},
   "outputs": [],
   "source": [
    "# Methode str.endswith()\n",
    "\n",
    "df[df['Email'].str.endswith('@gomycode.ci')]"
   ]
  },
  {
   "cell_type": "code",
   "execution_count": null,
   "id": "45",
   "metadata": {},
   "outputs": [],
   "source": []
  },
  {
   "cell_type": "markdown",
   "id": "46",
   "metadata": {},
   "source": [
    "## Étape 4 : Transformer les données"
   ]
  },
  {
   "cell_type": "code",
   "execution_count": null,
   "id": "47",
   "metadata": {},
   "outputs": [],
   "source": [
    "# Convertir 'Join_Date' en datetime\n",
    "df['Join_Date'].head()"
   ]
  },
  {
   "cell_type": "code",
   "execution_count": null,
   "id": "48",
   "metadata": {},
   "outputs": [],
   "source": [
    "df['Join_Date'] = pd.to_datetime(df['Join_Date'])\n",
    "print(\"Join_Date après la conversion :\")\n",
    "df['Join_Date'].head()"
   ]
  },
  {
   "cell_type": "code",
   "execution_count": null,
   "id": "49",
   "metadata": {},
   "outputs": [],
   "source": [
    "print(pd.Timestamp.now().year)"
   ]
  },
  {
   "cell_type": "code",
   "execution_count": null,
   "id": "50",
   "metadata": {},
   "outputs": [],
   "source": [
    "df['Join_Date'].dt.year"
   ]
  },
  {
   "cell_type": "code",
   "execution_count": null,
   "id": "51",
   "metadata": {},
   "outputs": [],
   "source": [
    "# Création d'une nouvelle colonne 'Years_Employed' basée sur 'Join_Date'\n",
    "df['Years_Employed'] = pd.Timestamp.now().year - df['Join_Date'].dt.year"
   ]
  },
  {
   "cell_type": "code",
   "execution_count": null,
   "id": "52",
   "metadata": {},
   "outputs": [],
   "source": [
    "df[['Join_Date', 'Years_Employed']].head()"
   ]
  },
  {
   "cell_type": "code",
   "execution_count": null,
   "id": "53",
   "metadata": {},
   "outputs": [],
   "source": [
    "df.head()"
   ]
  },
  {
   "cell_type": "code",
   "execution_count": null,
   "id": "54",
   "metadata": {},
   "outputs": [],
   "source": []
  },
  {
   "cell_type": "markdown",
   "id": "55",
   "metadata": {},
   "source": [
    "## Étape 5 : Nettoyage des données texte"
   ]
  },
  {
   "cell_type": "code",
   "execution_count": null,
   "id": "56",
   "metadata": {},
   "outputs": [],
   "source": [
    "df['Address'].str.replace('\\n', ' ')"
   ]
  },
  {
   "cell_type": "code",
   "execution_count": null,
   "id": "57",
   "metadata": {},
   "outputs": [],
   "source": []
  },
  {
   "cell_type": "code",
   "execution_count": null,
   "id": "58",
   "metadata": {},
   "outputs": [],
   "source": [
    "# Nettoyer les chaînes de la colonne adress\n",
    "df['Address'] = df['Address'].str.replace('\\n', ' ')"
   ]
  },
  {
   "cell_type": "code",
   "execution_count": null,
   "id": "59",
   "metadata": {},
   "outputs": [],
   "source": [
    "df['Address'].head()"
   ]
  },
  {
   "cell_type": "code",
   "execution_count": null,
   "id": "60",
   "metadata": {},
   "outputs": [],
   "source": [
    "df['Djob_tilte'].head()"
   ]
  },
  {
   "cell_type": "code",
   "execution_count": null,
   "id": "61",
   "metadata": {},
   "outputs": [],
   "source": [
    "df['Djob_tilte'].str.strip(\"(),'\")"
   ]
  },
  {
   "cell_type": "code",
   "execution_count": null,
   "id": "62",
   "metadata": {},
   "outputs": [],
   "source": [
    "df['Djob_tilte'].str.extract(r\"\\('([^']+)'\")"
   ]
  },
  {
   "cell_type": "code",
   "execution_count": null,
   "id": "63",
   "metadata": {},
   "outputs": [],
   "source": [
    "# Nettoyer les chaînes de la colonne Djob_tilte\n",
    "df['Djob_tilte'] = df['Djob_tilte'].str.strip(\"(),'\")"
   ]
  },
  {
   "cell_type": "code",
   "execution_count": null,
   "id": "64",
   "metadata": {},
   "outputs": [],
   "source": [
    "df['Djob_tilte'].head()"
   ]
  },
  {
   "cell_type": "code",
   "execution_count": null,
   "id": "65",
   "metadata": {},
   "outputs": [],
   "source": [
    "df.head()"
   ]
  },
  {
   "cell_type": "code",
   "execution_count": null,
   "id": "66",
   "metadata": {},
   "outputs": [],
   "source": []
  },
  {
   "cell_type": "markdown",
   "id": "67",
   "metadata": {},
   "source": [
    "## Étape 6 : Gestion des valeurs aberrantes"
   ]
  },
  {
   "cell_type": "code",
   "execution_count": null,
   "id": "68",
   "metadata": {},
   "outputs": [],
   "source": [
    "from sympy import symbols"
   ]
  },
  {
   "cell_type": "code",
   "execution_count": null,
   "id": "69",
   "metadata": {},
   "outputs": [],
   "source": [
    "%%render\n",
    "#Symbolic\n",
    "# Le z-score d'une valeur x est calculé par la formule suivante :\n",
    "\n",
    "z = (x - mu) / sigma # Le z-score d'une valeur x est calculé par la formule suivante\n"
   ]
  },
  {
   "cell_type": "markdown",
   "id": "70",
   "metadata": {},
   "source": [
    "#### où :\n",
    "\n",
    "- x est la valeur de la donnée,\n",
    "- μ est la moyenne de l'ensemble de données,\n",
    "- σ est l'écart-type de l'ensemble de données\n",
    "\n",
    "#### Interprétation du z-score\n",
    "- Un z-score proche de 0 signifie que la donnée est proche de la moyenne.\n",
    "- Un z-score supérieur à 3 ou inférieur à -3 est souvent considéré comme une valeur aberrante car cela signifie que la donnée est à plus de trois écart-types de la moyenne.\n",
    "\n",
    "#### Étapes\n",
    "- Calculer la moyenne et l'écart-type du jeu de données.\n",
    "- Calculer le z-score pour chaque valeur du jeu de données.\n",
    "- Identifier les valeurs aberrantes : Les valeurs avec un z-score supérieur à un certain seuil (généralement 3 ou -3).\n",
    "- Gérer les valeurs aberrantes : En fonction du contexte, les valeurs aberrantes peuvent être supprimées, corrigées, ou traitées d'une manière spécifique."
   ]
  },
  {
   "cell_type": "code",
   "execution_count": null,
   "id": "71",
   "metadata": {},
   "outputs": [],
   "source": [
    "df['Salary']"
   ]
  },
  {
   "cell_type": "code",
   "execution_count": null,
   "id": "72",
   "metadata": {},
   "outputs": [],
   "source": [
    "(df['Salary'] - df['Salary'].mean()) / df['Salary'].std()"
   ]
  },
  {
   "cell_type": "code",
   "execution_count": null,
   "id": "73",
   "metadata": {},
   "outputs": [],
   "source": [
    "# Détection des valeurs aberrantes à l'aide du z-score\n",
    "z_scores = (df['Salary'] - df['Salary'].mean()) / df['Salary'].std()"
   ]
  },
  {
   "cell_type": "code",
   "execution_count": null,
   "id": "74",
   "metadata": {},
   "outputs": [],
   "source": [
    "z_scores"
   ]
  },
  {
   "cell_type": "code",
   "execution_count": null,
   "id": "75",
   "metadata": {},
   "outputs": [],
   "source": [
    "len(z_scores)"
   ]
  },
  {
   "cell_type": "code",
   "execution_count": null,
   "id": "76",
   "metadata": {},
   "outputs": [],
   "source": [
    "df['Z_Score'] = (df['Salary'] - df['Salary'].mean()) / df['Salary'].std()"
   ]
  },
  {
   "cell_type": "code",
   "execution_count": null,
   "id": "77",
   "metadata": {},
   "outputs": [],
   "source": [
    "df.head()"
   ]
  },
  {
   "cell_type": "code",
   "execution_count": null,
   "id": "78",
   "metadata": {},
   "outputs": [],
   "source": [
    "df['Is_Outlier'] = np.abs(df['Z_Score'] > 3)"
   ]
  },
  {
   "cell_type": "code",
   "execution_count": null,
   "id": "79",
   "metadata": {},
   "outputs": [],
   "source": [
    "df.head()"
   ]
  },
  {
   "cell_type": "code",
   "execution_count": null,
   "id": "80",
   "metadata": {},
   "outputs": [],
   "source": [
    "df[df['Is_Outlier'] == True]"
   ]
  },
  {
   "cell_type": "code",
   "execution_count": null,
   "id": "81",
   "metadata": {},
   "outputs": [],
   "source": []
  },
  {
   "cell_type": "code",
   "execution_count": null,
   "id": "82",
   "metadata": {},
   "outputs": [],
   "source": []
  },
  {
   "cell_type": "code",
   "execution_count": null,
   "id": "83",
   "metadata": {},
   "outputs": [],
   "source": []
  },
  {
   "cell_type": "code",
   "execution_count": null,
   "id": "84",
   "metadata": {},
   "outputs": [],
   "source": []
  },
  {
   "cell_type": "code",
   "execution_count": null,
   "id": "85",
   "metadata": {},
   "outputs": [],
   "source": []
  },
  {
   "cell_type": "markdown",
   "id": "86",
   "metadata": {},
   "source": [
    "#### Détection des valeurs aberrantes"
   ]
  },
  {
   "cell_type": "code",
   "execution_count": null,
   "id": "87",
   "metadata": {},
   "outputs": [],
   "source": [
    "df_aberantes = df[abs(z_scores) > 3]"
   ]
  },
  {
   "cell_type": "code",
   "execution_count": null,
   "id": "88",
   "metadata": {},
   "outputs": [],
   "source": [
    "df_aberantes.shape"
   ]
  },
  {
   "cell_type": "code",
   "execution_count": null,
   "id": "89",
   "metadata": {},
   "outputs": [],
   "source": [
    "df_aberantes['Salary'].head(20)"
   ]
  },
  {
   "cell_type": "code",
   "execution_count": null,
   "id": "90",
   "metadata": {},
   "outputs": [],
   "source": [
    "df_aberantes['Salary'].min()"
   ]
  },
  {
   "cell_type": "code",
   "execution_count": null,
   "id": "91",
   "metadata": {},
   "outputs": [],
   "source": [
    "df['Salary'][35]"
   ]
  },
  {
   "cell_type": "code",
   "execution_count": null,
   "id": "92",
   "metadata": {},
   "outputs": [],
   "source": [
    "df['Salary'].mean()"
   ]
  },
  {
   "cell_type": "code",
   "execution_count": null,
   "id": "93",
   "metadata": {},
   "outputs": [],
   "source": [
    "df.loc[~df['Is_Outlier'], 'Salary'].mean()"
   ]
  },
  {
   "cell_type": "code",
   "execution_count": null,
   "id": "94",
   "metadata": {},
   "outputs": [],
   "source": []
  },
  {
   "cell_type": "code",
   "execution_count": null,
   "id": "95",
   "metadata": {},
   "outputs": [],
   "source": [
    "# Calculer la moyenne des valeurs non aberrantes\n",
    "mean_non_outliers = df.loc[~df['Is_Outlier'], 'Salary'].mean()"
   ]
  },
  {
   "cell_type": "code",
   "execution_count": null,
   "id": "96",
   "metadata": {},
   "outputs": [],
   "source": [
    "print(mean_non_outlier)"
   ]
  },
  {
   "cell_type": "code",
   "execution_count": null,
   "id": "97",
   "metadata": {},
   "outputs": [],
   "source": [
    "df.loc[df['Is_Outlier'], 'Salary'] = mean_non_outliers"
   ]
  },
  {
   "cell_type": "code",
   "execution_count": null,
   "id": "98",
   "metadata": {},
   "outputs": [],
   "source": [
    "df.head()"
   ]
  },
  {
   "cell_type": "code",
   "execution_count": null,
   "id": "99",
   "metadata": {},
   "outputs": [],
   "source": [
    "df = df.drop(columns=['Z_Score', 'Is_Outlier'])"
   ]
  },
  {
   "cell_type": "code",
   "execution_count": null,
   "id": "100",
   "metadata": {},
   "outputs": [],
   "source": [
    "df.head()"
   ]
  },
  {
   "cell_type": "code",
   "execution_count": null,
   "id": "101",
   "metadata": {},
   "outputs": [],
   "source": [
    "df[df['Salary'] == mean_non_outlier]"
   ]
  },
  {
   "cell_type": "code",
   "execution_count": null,
   "id": "102",
   "metadata": {},
   "outputs": [],
   "source": [
    "df['Salary'] = df['Salary'].astype(int)"
   ]
  },
  {
   "cell_type": "code",
   "execution_count": null,
   "id": "103",
   "metadata": {},
   "outputs": [],
   "source": [
    "df['Salary']"
   ]
  },
  {
   "cell_type": "code",
   "execution_count": null,
   "id": "104",
   "metadata": {},
   "outputs": [],
   "source": [
    "df.to_csv('/Users/jeanmermozeffi/Documents/GOMYCODE/GoMyCodeLearning/DataSets/cleaned_fiche_employes.csv', index=False)"
   ]
  },
  {
   "cell_type": "code",
   "execution_count": null,
   "id": "105",
   "metadata": {},
   "outputs": [],
   "source": []
  },
  {
   "cell_type": "code",
   "execution_count": null,
   "id": "106",
   "metadata": {},
   "outputs": [],
   "source": []
  },
  {
   "cell_type": "markdown",
   "id": "107",
   "metadata": {},
   "source": [
    "## Étape 7 : Fusionner les données"
   ]
  },
  {
   "cell_type": "code",
   "execution_count": null,
   "id": "108",
   "metadata": {},
   "outputs": [],
   "source": []
  },
  {
   "cell_type": "code",
   "execution_count": null,
   "id": "109",
   "metadata": {},
   "outputs": [],
   "source": []
  },
  {
   "cell_type": "code",
   "execution_count": null,
   "id": "110",
   "metadata": {},
   "outputs": [],
   "source": []
  },
  {
   "cell_type": "code",
   "execution_count": null,
   "id": "111",
   "metadata": {},
   "outputs": [],
   "source": []
  },
  {
   "cell_type": "code",
   "execution_count": null,
   "id": "112",
   "metadata": {},
   "outputs": [],
   "source": []
  },
  {
   "cell_type": "code",
   "execution_count": null,
   "id": "113",
   "metadata": {},
   "outputs": [],
   "source": []
  },
  {
   "cell_type": "code",
   "execution_count": null,
   "id": "114",
   "metadata": {},
   "outputs": [],
   "source": []
  }
 ],
 "metadata": {
  "kernelspec": {
   "display_name": "Python 3 (ipykernel)",
   "language": "python",
   "name": "python3"
  },
  "language_info": {
   "codemirror_mode": {
    "name": "ipython",
    "version": 3
   },
   "file_extension": ".py",
   "mimetype": "text/x-python",
   "name": "python",
   "nbconvert_exporter": "python",
   "pygments_lexer": "ipython3",
   "version": "3.11.7"
  }
 },
 "nbformat": 4,
 "nbformat_minor": 5
}
