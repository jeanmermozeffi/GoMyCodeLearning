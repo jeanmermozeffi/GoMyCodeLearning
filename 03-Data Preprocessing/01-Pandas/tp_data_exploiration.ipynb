{
 "cells": [
  {
   "cell_type": "code",
   "execution_count": null,
   "id": "0",
   "metadata": {},
   "outputs": [],
   "source": [
    "!pip install Faker"
   ]
  },
  {
   "cell_type": "markdown",
   "id": "1",
   "metadata": {},
   "source": [
    "## Importation des bibliotheque"
   ]
  },
  {
   "cell_type": "code",
   "execution_count": 23,
   "id": "2",
   "metadata": {},
   "outputs": [],
   "source": [
    "import pandas as pd\n",
    "from faker import Faker\n",
    "import random"
   ]
  },
  {
   "cell_type": "markdown",
   "id": "3",
   "metadata": {},
   "source": [
    "## Géneration des donées avec Faker"
   ]
  },
  {
   "cell_type": "code",
   "execution_count": 24,
   "id": "4",
   "metadata": {},
   "outputs": [],
   "source": [
    "departments_functions = {\n",
    "    'IT': [\n",
    "        'Développeur logiciel',\n",
    "        'Administrateur système',\n",
    "        'Ingénieur réseau',\n",
    "        'Spécialiste en cybersécurité',\n",
    "        'Analyste en support technique',\n",
    "        'Architecte cloud',\n",
    "        'Ingénieur DevOps',\n",
    "        'Chef de projet IT',\n",
    "        'Analyste de données',\n",
    "        'Spécialiste en bases de données'\n",
    "    ],\n",
    "    'Engineering': [\n",
    "        'Ingénieur en génie civil',\n",
    "        'Ingénieur en mécanique',\n",
    "        'Ingénieur en électricité',\n",
    "        'Ingénieur en électronique',\n",
    "        'Ingénieur en aéronautique',\n",
    "        'Ingénieur en environnement',\n",
    "        'Ingénieur chimiste',\n",
    "        'Ingénieur industriel',\n",
    "        'Ingénieur en robotique',\n",
    "        'Ingénieur en matériaux'\n",
    "    ],\n",
    "    'Finance': [\n",
    "        'Analyste financier',\n",
    "        'Comptable',\n",
    "        'Contrôleur de gestion',\n",
    "        'Auditeur financier',\n",
    "        'Trésorier',\n",
    "        'Conseiller en investissements',\n",
    "        'Responsable des risques financiers',\n",
    "        'Analyste de crédit',\n",
    "        'Gestionnaire de portefeuille',\n",
    "        'Chef de projet finance'\n",
    "    ],\n",
    "    'HR': [\n",
    "        'Responsable RH',\n",
    "        'Chargé de recrutement',\n",
    "        'Responsable formation',\n",
    "        'Gestionnaire de paie',\n",
    "        'Responsable des relations sociales',\n",
    "        'HR Business Partner',\n",
    "        'Consultant en gestion des talents',\n",
    "        'Responsable de la diversité et de l\\'inclusion',\n",
    "        'Conseiller en relations de travail',\n",
    "        'Spécialiste en développement organisationnel'\n",
    "    ],\n",
    "    'Marketing': [\n",
    "        'Responsable marketing',\n",
    "        'Chef de produit',\n",
    "        'Analyste marketing',\n",
    "        'Spécialiste en marketing digital',\n",
    "        'Community manager',\n",
    "        'Responsable de la communication',\n",
    "        'Spécialiste en relations publiques',\n",
    "        'Directeur de la marque',\n",
    "        'Responsable SEO/SEM',\n",
    "        'Consultant en stratégie marketing'\n",
    "    ]\n",
    "}\n",
    "\n",
    "villes_cote_divoire = [\n",
    "    'Abidjan',\n",
    "    'Yamoussoukro',\n",
    "    'Bouaké',\n",
    "    'Daloa',\n",
    "    'San Pedro',\n",
    "    'Korhogo',\n",
    "    'Man',\n",
    "    'Divo',\n",
    "    'Gagnoa',\n",
    "    'Abengourou',\n",
    "    'Agboville',\n",
    "    'Bondoukou',\n",
    "    'Odienné',\n",
    "    'Sassandra',\n",
    "    'Séguéla'\n",
    "]"
   ]
  },
  {
   "cell_type": "code",
   "execution_count": 25,
   "id": "5",
   "metadata": {},
   "outputs": [
    {
     "data": {
      "text/plain": [
       "['Développeur logiciel',\n",
       " 'Administrateur système',\n",
       " 'Ingénieur réseau',\n",
       " 'Spécialiste en cybersécurité',\n",
       " 'Analyste en support technique',\n",
       " 'Architecte cloud',\n",
       " 'Ingénieur DevOps',\n",
       " 'Chef de projet IT',\n",
       " 'Analyste de données',\n",
       " 'Spécialiste en bases de données']"
      ]
     },
     "execution_count": 25,
     "metadata": {},
     "output_type": "execute_result"
    }
   ],
   "source": [
    "departments_functions['IT']"
   ]
  },
  {
   "cell_type": "code",
   "execution_count": 26,
   "id": "6",
   "metadata": {},
   "outputs": [],
   "source": [
    "# Initialisez Faker pour générer des données synthétiques\n",
    "fake = Faker('fr_FR')\n",
    "\n",
    "# Définir la graine seed() pour la reproductibilité\n",
    "Faker.seed(42)\n",
    "\n",
    "# Générer des données synthétiques\n",
    "data = []\n",
    "for _ in range(5000):\n",
    "    employe = {\n",
    "        'Age': random.randint(18, 70),\n",
    "        'Email': fake.email(),\n",
    "        'Phone': fake.phone_number(),\n",
    "        'Address': fake.address(),\n",
    "        'Salary': random.randint(20000, 150000),\n",
    "        'Join_Date': fake.date_this_decade(),\n",
    "        'Employment_Status': random.choice(['Full-Time', 'Part-Time', 'CDD', 'CDI']),\n",
    "        'Gender': random.choice(['M', 'F']),\n",
    "        'Department': random.choice(['IT', 'Engineering','Finance', 'HR', 'Marketing']),\n",
    "        'Ville': random.choice(villes_cote_divoire)\n",
    "    }\n",
    "    djob_tilte = departments_functions[employe['Department']]\n",
    "    employe['Djob_tilte'] = random.choice(djob_tilte),\n",
    "\n",
    "    if employe['Gender'] == 'M':\n",
    "        employe['Fist Name'] = fake.first_name_male()\n",
    "        employe['Last Name'] = fake.last_name_male()\n",
    "    else:\n",
    "        employe['Fist Name'] = fake.last_name_female()\n",
    "        employe['Last Name'] = fake.last_name_female()\n",
    "    \n",
    "    data.append(employe)"
   ]
  },
  {
   "cell_type": "code",
   "execution_count": 27,
   "id": "7",
   "metadata": {},
   "outputs": [
    {
     "data": {
      "text/plain": [
       "5000"
      ]
     },
     "execution_count": 27,
     "metadata": {},
     "output_type": "execute_result"
    }
   ],
   "source": [
    "len(data)"
   ]
  },
  {
   "cell_type": "code",
   "execution_count": 28,
   "id": "8",
   "metadata": {},
   "outputs": [
    {
     "data": {
      "text/plain": [
       "{'Age': 61,\n",
       " 'Email': 'laurentnicole@example.com',\n",
       " 'Phone': '+33 3 68 21 81 96',\n",
       " 'Address': 'rue Rey\\n64716 Saint Michelle',\n",
       " 'Salary': 120433,\n",
       " 'Join_Date': datetime.date(2023, 7, 27),\n",
       " 'Employment_Status': 'Full-Time',\n",
       " 'Gender': 'M',\n",
       " 'Department': 'IT',\n",
       " 'Ville': 'Korhogo',\n",
       " 'Djob_tilte': ('Spécialiste en bases de données',),\n",
       " 'Fist Name': 'Frédéric',\n",
       " 'Last Name': 'Pons'}"
      ]
     },
     "execution_count": 28,
     "metadata": {},
     "output_type": "execute_result"
    }
   ],
   "source": [
    "data[0]"
   ]
  },
  {
   "cell_type": "code",
   "execution_count": 29,
   "id": "9",
   "metadata": {},
   "outputs": [
    {
     "data": {
      "text/plain": [
       "13"
      ]
     },
     "execution_count": 29,
     "metadata": {},
     "output_type": "execute_result"
    }
   ],
   "source": [
    "len(data[0])"
   ]
  },
  {
   "cell_type": "code",
   "execution_count": 30,
   "id": "10",
   "metadata": {},
   "outputs": [],
   "source": [
    "# Modifions un peu les enregistrements !\n",
    "# Introduire les valeurs manquantes\n",
    "for i in random.sample(range(len(data)), 50):\n",
    "    data[i]['Email'] = None\n",
    "\n",
    "# Introduire des enregistrements en double\n",
    "data.extend(random.sample(data, 100))\n",
    "\n",
    "# Introduire des valeurs aberrantes\n",
    "for i in random.sample(range(len(data)), 20):\n",
    "    data[i]['Salary'] = random.randint(200000, 500000)"
   ]
  },
  {
   "cell_type": "code",
   "execution_count": 31,
   "id": "11",
   "metadata": {},
   "outputs": [],
   "source": [
    "# Créer une trame de données\n",
    "df = pd.DataFrame(data)"
   ]
  },
  {
   "cell_type": "code",
   "execution_count": 32,
   "id": "12",
   "metadata": {},
   "outputs": [
    {
     "data": {
      "text/html": [
       "<div>\n",
       "<style scoped>\n",
       "    .dataframe tbody tr th:only-of-type {\n",
       "        vertical-align: middle;\n",
       "    }\n",
       "\n",
       "    .dataframe tbody tr th {\n",
       "        vertical-align: top;\n",
       "    }\n",
       "\n",
       "    .dataframe thead th {\n",
       "        text-align: right;\n",
       "    }\n",
       "</style>\n",
       "<table border=\"1\" class=\"dataframe\">\n",
       "  <thead>\n",
       "    <tr style=\"text-align: right;\">\n",
       "      <th></th>\n",
       "      <th>Age</th>\n",
       "      <th>Email</th>\n",
       "      <th>Phone</th>\n",
       "      <th>Address</th>\n",
       "      <th>Salary</th>\n",
       "      <th>Join_Date</th>\n",
       "      <th>Employment_Status</th>\n",
       "      <th>Gender</th>\n",
       "      <th>Department</th>\n",
       "      <th>Ville</th>\n",
       "      <th>Djob_tilte</th>\n",
       "      <th>Fist Name</th>\n",
       "      <th>Last Name</th>\n",
       "    </tr>\n",
       "  </thead>\n",
       "  <tbody>\n",
       "    <tr>\n",
       "      <th>0</th>\n",
       "      <td>61</td>\n",
       "      <td>laurentnicole@example.com</td>\n",
       "      <td>+33 3 68 21 81 96</td>\n",
       "      <td>rue Rey\\n64716 Saint Michelle</td>\n",
       "      <td>120433</td>\n",
       "      <td>2023-07-27</td>\n",
       "      <td>Full-Time</td>\n",
       "      <td>M</td>\n",
       "      <td>IT</td>\n",
       "      <td>Korhogo</td>\n",
       "      <td>(Spécialiste en bases de données,)</td>\n",
       "      <td>Frédéric</td>\n",
       "      <td>Pons</td>\n",
       "    </tr>\n",
       "    <tr>\n",
       "      <th>1</th>\n",
       "      <td>67</td>\n",
       "      <td>suzanne02@example.net</td>\n",
       "      <td>04 83 42 35 11</td>\n",
       "      <td>chemin Josette Aubry\\n06847 RegnierBourg</td>\n",
       "      <td>51051</td>\n",
       "      <td>2023-03-22</td>\n",
       "      <td>Part-Time</td>\n",
       "      <td>M</td>\n",
       "      <td>IT</td>\n",
       "      <td>San Pedro</td>\n",
       "      <td>(Analyste de données,)</td>\n",
       "      <td>Augustin</td>\n",
       "      <td>Courtois</td>\n",
       "    </tr>\n",
       "    <tr>\n",
       "      <th>2</th>\n",
       "      <td>36</td>\n",
       "      <td>veronique95@example.net</td>\n",
       "      <td>+33 2 18 03 41 31</td>\n",
       "      <td>35, chemin Marc Leconte\\n34818 Saint Élisabeth...</td>\n",
       "      <td>56039</td>\n",
       "      <td>2021-05-22</td>\n",
       "      <td>CDD</td>\n",
       "      <td>M</td>\n",
       "      <td>IT</td>\n",
       "      <td>Séguéla</td>\n",
       "      <td>(Analyste en support technique,)</td>\n",
       "      <td>Nicolas</td>\n",
       "      <td>Gillet</td>\n",
       "    </tr>\n",
       "    <tr>\n",
       "      <th>3</th>\n",
       "      <td>36</td>\n",
       "      <td>lucie83@example.net</td>\n",
       "      <td>0179305641</td>\n",
       "      <td>83, avenue Guy Aubry\\n18352 Tanguy-la-Forêt</td>\n",
       "      <td>116674</td>\n",
       "      <td>2023-08-24</td>\n",
       "      <td>CDD</td>\n",
       "      <td>F</td>\n",
       "      <td>Marketing</td>\n",
       "      <td>Korhogo</td>\n",
       "      <td>(Directeur de la marque,)</td>\n",
       "      <td>Guillon</td>\n",
       "      <td>Alexandre</td>\n",
       "    </tr>\n",
       "    <tr>\n",
       "      <th>4</th>\n",
       "      <td>40</td>\n",
       "      <td>matthieu28@example.com</td>\n",
       "      <td>+33 (0)1 75 12 26 91</td>\n",
       "      <td>578, rue de Bazin\\n92217 Hamel-la-Forêt</td>\n",
       "      <td>65448</td>\n",
       "      <td>2022-11-22</td>\n",
       "      <td>CDD</td>\n",
       "      <td>M</td>\n",
       "      <td>HR</td>\n",
       "      <td>Odienné</td>\n",
       "      <td>(Responsable de la diversité et de l'inclusion,)</td>\n",
       "      <td>Bertrand</td>\n",
       "      <td>Cousin</td>\n",
       "    </tr>\n",
       "    <tr>\n",
       "      <th>5</th>\n",
       "      <td>40</td>\n",
       "      <td>dbarbier@example.org</td>\n",
       "      <td>0327814893</td>\n",
       "      <td>98, boulevard Breton\\n62119 Sainte Véronique-l...</td>\n",
       "      <td>137948</td>\n",
       "      <td>2022-01-13</td>\n",
       "      <td>CDI</td>\n",
       "      <td>M</td>\n",
       "      <td>Finance</td>\n",
       "      <td>Agboville</td>\n",
       "      <td>(Trésorier,)</td>\n",
       "      <td>Antoine</td>\n",
       "      <td>Guillot</td>\n",
       "    </tr>\n",
       "    <tr>\n",
       "      <th>6</th>\n",
       "      <td>20</td>\n",
       "      <td>clementnath@example.com</td>\n",
       "      <td>+33 (0)2 54 27 82 48</td>\n",
       "      <td>734, chemin de Navarro\\n66562 Saint MauriceBourg</td>\n",
       "      <td>25476</td>\n",
       "      <td>2022-11-16</td>\n",
       "      <td>CDD</td>\n",
       "      <td>F</td>\n",
       "      <td>HR</td>\n",
       "      <td>Agboville</td>\n",
       "      <td>(Responsable RH,)</td>\n",
       "      <td>Lefebvre</td>\n",
       "      <td>Pruvost</td>\n",
       "    </tr>\n",
       "    <tr>\n",
       "      <th>7</th>\n",
       "      <td>63</td>\n",
       "      <td>jacquelinevasseur@example.org</td>\n",
       "      <td>+33 (0)1 81 31 05 18</td>\n",
       "      <td>93, boulevard Verdier\\n60348 Cordier-sur-Mer</td>\n",
       "      <td>108097</td>\n",
       "      <td>2020-10-20</td>\n",
       "      <td>Full-Time</td>\n",
       "      <td>M</td>\n",
       "      <td>IT</td>\n",
       "      <td>San Pedro</td>\n",
       "      <td>(Analyste de données,)</td>\n",
       "      <td>Benoît</td>\n",
       "      <td>Delmas</td>\n",
       "    </tr>\n",
       "    <tr>\n",
       "      <th>8</th>\n",
       "      <td>19</td>\n",
       "      <td>bmonnier@example.com</td>\n",
       "      <td>01 78 10 65 13</td>\n",
       "      <td>772, chemin Pinto\\n31995 Sainte SusanBourg</td>\n",
       "      <td>89373</td>\n",
       "      <td>2020-06-06</td>\n",
       "      <td>Part-Time</td>\n",
       "      <td>M</td>\n",
       "      <td>Finance</td>\n",
       "      <td>Séguéla</td>\n",
       "      <td>(Chef de projet finance,)</td>\n",
       "      <td>Victor</td>\n",
       "      <td>Gimenez</td>\n",
       "    </tr>\n",
       "    <tr>\n",
       "      <th>9</th>\n",
       "      <td>57</td>\n",
       "      <td>morinodette@example.org</td>\n",
       "      <td>+33 5 54 77 36 02</td>\n",
       "      <td>chemin Sabine De Sousa\\n36533 Peltierdan</td>\n",
       "      <td>125842</td>\n",
       "      <td>2021-04-25</td>\n",
       "      <td>CDI</td>\n",
       "      <td>F</td>\n",
       "      <td>Engineering</td>\n",
       "      <td>Man</td>\n",
       "      <td>(Ingénieur en matériaux,)</td>\n",
       "      <td>Aubert</td>\n",
       "      <td>Collet</td>\n",
       "    </tr>\n",
       "  </tbody>\n",
       "</table>\n",
       "</div>"
      ],
      "text/plain": [
       "   Age                          Email                 Phone  \\\n",
       "0   61      laurentnicole@example.com     +33 3 68 21 81 96   \n",
       "1   67          suzanne02@example.net        04 83 42 35 11   \n",
       "2   36        veronique95@example.net     +33 2 18 03 41 31   \n",
       "3   36            lucie83@example.net            0179305641   \n",
       "4   40         matthieu28@example.com  +33 (0)1 75 12 26 91   \n",
       "5   40           dbarbier@example.org            0327814893   \n",
       "6   20        clementnath@example.com  +33 (0)2 54 27 82 48   \n",
       "7   63  jacquelinevasseur@example.org  +33 (0)1 81 31 05 18   \n",
       "8   19           bmonnier@example.com        01 78 10 65 13   \n",
       "9   57        morinodette@example.org     +33 5 54 77 36 02   \n",
       "\n",
       "                                             Address  Salary   Join_Date  \\\n",
       "0                      rue Rey\\n64716 Saint Michelle  120433  2023-07-27   \n",
       "1           chemin Josette Aubry\\n06847 RegnierBourg   51051  2023-03-22   \n",
       "2  35, chemin Marc Leconte\\n34818 Saint Élisabeth...   56039  2021-05-22   \n",
       "3        83, avenue Guy Aubry\\n18352 Tanguy-la-Forêt  116674  2023-08-24   \n",
       "4            578, rue de Bazin\\n92217 Hamel-la-Forêt   65448  2022-11-22   \n",
       "5  98, boulevard Breton\\n62119 Sainte Véronique-l...  137948  2022-01-13   \n",
       "6   734, chemin de Navarro\\n66562 Saint MauriceBourg   25476  2022-11-16   \n",
       "7       93, boulevard Verdier\\n60348 Cordier-sur-Mer  108097  2020-10-20   \n",
       "8         772, chemin Pinto\\n31995 Sainte SusanBourg   89373  2020-06-06   \n",
       "9           chemin Sabine De Sousa\\n36533 Peltierdan  125842  2021-04-25   \n",
       "\n",
       "  Employment_Status Gender   Department      Ville  \\\n",
       "0         Full-Time      M           IT    Korhogo   \n",
       "1         Part-Time      M           IT  San Pedro   \n",
       "2               CDD      M           IT    Séguéla   \n",
       "3               CDD      F    Marketing    Korhogo   \n",
       "4               CDD      M           HR    Odienné   \n",
       "5               CDI      M      Finance  Agboville   \n",
       "6               CDD      F           HR  Agboville   \n",
       "7         Full-Time      M           IT  San Pedro   \n",
       "8         Part-Time      M      Finance    Séguéla   \n",
       "9               CDI      F  Engineering        Man   \n",
       "\n",
       "                                         Djob_tilte Fist Name  Last Name  \n",
       "0                (Spécialiste en bases de données,)  Frédéric       Pons  \n",
       "1                            (Analyste de données,)  Augustin   Courtois  \n",
       "2                  (Analyste en support technique,)   Nicolas     Gillet  \n",
       "3                         (Directeur de la marque,)   Guillon  Alexandre  \n",
       "4  (Responsable de la diversité et de l'inclusion,)  Bertrand     Cousin  \n",
       "5                                      (Trésorier,)   Antoine    Guillot  \n",
       "6                                 (Responsable RH,)  Lefebvre    Pruvost  \n",
       "7                            (Analyste de données,)    Benoît     Delmas  \n",
       "8                         (Chef de projet finance,)    Victor    Gimenez  \n",
       "9                         (Ingénieur en matériaux,)    Aubert     Collet  "
      ]
     },
     "execution_count": 32,
     "metadata": {},
     "output_type": "execute_result"
    }
   ],
   "source": [
    "df.head(10)"
   ]
  },
  {
   "cell_type": "code",
   "execution_count": 33,
   "id": "13",
   "metadata": {},
   "outputs": [
    {
     "data": {
      "text/plain": [
       "(5100, 13)"
      ]
     },
     "execution_count": 33,
     "metadata": {},
     "output_type": "execute_result"
    }
   ],
   "source": [
    "df.shape"
   ]
  },
  {
   "cell_type": "code",
   "execution_count": null,
   "id": "14",
   "metadata": {},
   "outputs": [],
   "source": [
    "df.to_csv('fiche_employes.csv', index=False)"
   ]
  },
  {
   "cell_type": "markdown",
   "id": "15",
   "metadata": {},
   "source": [
    "## Étape 1 : Comprendre les données"
   ]
  },
  {
   "cell_type": "code",
   "execution_count": 21,
   "id": "16",
   "metadata": {},
   "outputs": [
    {
     "name": "stdout",
     "output_type": "stream",
     "text": [
      "<class 'pandas.core.frame.DataFrame'>\n",
      "RangeIndex: 5100 entries, 0 to 5099\n",
      "Data columns (total 13 columns):\n",
      " #   Column             Non-Null Count  Dtype \n",
      "---  ------             --------------  ----- \n",
      " 0   Age                5100 non-null   int64 \n",
      " 1   Email              5049 non-null   object\n",
      " 2   Phone              5100 non-null   object\n",
      " 3   Address            5100 non-null   object\n",
      " 4   Salary             5100 non-null   int64 \n",
      " 5   Join_Date          5100 non-null   object\n",
      " 6   Employment_Status  5100 non-null   object\n",
      " 7   Gender             5100 non-null   object\n",
      " 8   Department         5100 non-null   object\n",
      " 9   Ville              5100 non-null   object\n",
      " 10  Djob_tilte         5100 non-null   object\n",
      " 11  First Name         5100 non-null   object\n",
      " 12  Last Name          5100 non-null   object\n",
      "dtypes: int64(2), object(11)\n",
      "memory usage: 518.1+ KB\n"
     ]
    }
   ],
   "source": [
    "df.info()"
   ]
  },
  {
   "cell_type": "code",
   "execution_count": null,
   "id": "17",
   "metadata": {},
   "outputs": [],
   "source": []
  },
  {
   "cell_type": "markdown",
   "id": "18",
   "metadata": {},
   "source": [
    "## Étape 2 : Gérer les doublons"
   ]
  },
  {
   "cell_type": "code",
   "execution_count": null,
   "id": "19",
   "metadata": {},
   "outputs": [],
   "source": []
  },
  {
   "cell_type": "code",
   "execution_count": null,
   "id": "20",
   "metadata": {},
   "outputs": [],
   "source": []
  },
  {
   "cell_type": "markdown",
   "id": "21",
   "metadata": {},
   "source": [
    "## Étape 3 : Gestion des données manquantes"
   ]
  },
  {
   "cell_type": "code",
   "execution_count": null,
   "id": "22",
   "metadata": {},
   "outputs": [],
   "source": []
  },
  {
   "cell_type": "code",
   "execution_count": null,
   "id": "23",
   "metadata": {},
   "outputs": [],
   "source": []
  },
  {
   "cell_type": "markdown",
   "id": "24",
   "metadata": {},
   "source": [
    "## Étape 4 : Transformer les données"
   ]
  },
  {
   "cell_type": "code",
   "execution_count": null,
   "id": "25",
   "metadata": {},
   "outputs": [],
   "source": []
  },
  {
   "cell_type": "code",
   "execution_count": null,
   "id": "26",
   "metadata": {},
   "outputs": [],
   "source": []
  },
  {
   "cell_type": "markdown",
   "id": "27",
   "metadata": {},
   "source": [
    "## Étape 5 : Nettoyage des données texte"
   ]
  },
  {
   "cell_type": "code",
   "execution_count": null,
   "id": "28",
   "metadata": {},
   "outputs": [],
   "source": []
  },
  {
   "cell_type": "code",
   "execution_count": null,
   "id": "29",
   "metadata": {},
   "outputs": [],
   "source": []
  },
  {
   "cell_type": "markdown",
   "id": "30",
   "metadata": {},
   "source": [
    "## Étape 6 : Gestion des valeurs aberrantes"
   ]
  },
  {
   "cell_type": "code",
   "execution_count": null,
   "id": "31",
   "metadata": {},
   "outputs": [],
   "source": []
  },
  {
   "cell_type": "markdown",
   "id": "32",
   "metadata": {},
   "source": [
    "## Étape 7 : Fusionner les données"
   ]
  },
  {
   "cell_type": "code",
   "execution_count": null,
   "id": "33",
   "metadata": {},
   "outputs": [],
   "source": []
  },
  {
   "cell_type": "code",
   "execution_count": null,
   "id": "34",
   "metadata": {},
   "outputs": [],
   "source": []
  }
 ],
 "metadata": {
  "kernelspec": {
   "display_name": "Python 3 (ipykernel)",
   "language": "python",
   "name": "python3"
  },
  "language_info": {
   "codemirror_mode": {
    "name": "ipython",
    "version": 3
   },
   "file_extension": ".py",
   "mimetype": "text/x-python",
   "name": "python",
   "nbconvert_exporter": "python",
   "pygments_lexer": "ipython3",
   "version": "3.11.7"
  }
 },
 "nbformat": 4,
 "nbformat_minor": 5
}
