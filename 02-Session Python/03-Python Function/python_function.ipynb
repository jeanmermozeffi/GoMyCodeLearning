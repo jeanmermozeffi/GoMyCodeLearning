{
 "cells": [
  {
   "cell_type": "markdown",
   "id": "30a5c6df-ffa1-48e7-a051-65858e970e97",
   "metadata": {},
   "source": [
    "## Les fonctions"
   ]
  },
  {
   "cell_type": "markdown",
   "id": "86311b9a-1b9c-4caf-8c63-9976beafa181",
   "metadata": {},
   "source": [
    "#### Notion de fonction"
   ]
  },
  {
   "cell_type": "code",
   "execution_count": 2,
   "id": "fd72e076-3c87-4395-854b-7c97cc259ebf",
   "metadata": {},
   "outputs": [
    {
     "name": "stdout",
     "output_type": "stream",
     "text": [
      "3\n"
     ]
    }
   ],
   "source": [
    "liste1 = [1,2,3]\n",
    "length = 0 \n",
    "for i in liste1 :\n",
    "    length +=1\n",
    "    \n",
    "print(length)"
   ]
  },
  {
   "cell_type": "code",
   "execution_count": 3,
   "id": "ce6ce70e-8f50-4c8a-a245-1cdc1b289192",
   "metadata": {},
   "outputs": [
    {
     "name": "stdout",
     "output_type": "stream",
     "text": [
      "5\n"
     ]
    }
   ],
   "source": [
    "skills = ['JavaScript', 'React', 'Node', 'MongoDB', 'Python']\n",
    "length = 0 \n",
    "for skill in skills :\n",
    "    length +=1\n",
    "    \n",
    "print(length)"
   ]
  },
  {
   "cell_type": "code",
   "execution_count": 4,
   "id": "b77a30d7-db8c-4dc6-9f2d-5c1889047aa1",
   "metadata": {},
   "outputs": [
    {
     "name": "stdout",
     "output_type": "stream",
     "text": [
      "3\n",
      "5\n"
     ]
    }
   ],
   "source": [
    "# fonctions intégées\n",
    "print(len(liste1))\n",
    "print(len(skills))"
   ]
  },
  {
   "cell_type": "markdown",
   "id": "eeea75d5-f500-4127-bc85-183d6ab03767",
   "metadata": {},
   "source": [
    "#### Déclarer et appeler une fonction"
   ]
  },
  {
   "cell_type": "code",
   "execution_count": null,
   "id": "33200274-f799-422b-917d-0dc93d1ba1cf",
   "metadata": {},
   "outputs": [],
   "source": [
    "# syntax\n",
    "# Declaring a function\n",
    "def function_name():\n",
    "    codes\n",
    "    codes\n",
    "\n",
    "# Calling a function\n",
    "function_name()"
   ]
  },
  {
   "cell_type": "code",
   "execution_count": 5,
   "id": "7588fd0b-b13a-4df3-88fd-2edbb3ffaeec",
   "metadata": {},
   "outputs": [],
   "source": [
    "def get_hello():\n",
    "    print(\"Hello World, this is my first function\")"
   ]
  },
  {
   "cell_type": "code",
   "execution_count": 6,
   "id": "def15c9f-0697-4784-aeed-69d6126aeefb",
   "metadata": {},
   "outputs": [
    {
     "name": "stdout",
     "output_type": "stream",
     "text": [
      "Hello World, this is my first function\n"
     ]
    }
   ],
   "source": [
    "get_hello()"
   ]
  },
  {
   "cell_type": "markdown",
   "id": "f9735da2-34eb-4fc1-b6b7-ad599af4df4d",
   "metadata": {},
   "source": [
    "### Fonction sans paramètres"
   ]
  },
  {
   "cell_type": "code",
   "execution_count": 7,
   "id": "4a3b696e-e82b-4af9-b37c-7614c5c99f78",
   "metadata": {},
   "outputs": [
    {
     "name": "stdout",
     "output_type": "stream",
     "text": [
      "EFFI Jean Mermoz\n"
     ]
    }
   ],
   "source": [
    "# Exemple \n",
    "def generate_full_name():\n",
    "    first_name = 'EFFI'\n",
    "    last_name = 'Jean Mermoz'\n",
    "    space = ' '\n",
    "    full_name = first_name + space + last_name\n",
    "    print(full_name)\n",
    "\n",
    "generate_full_name()"
   ]
  },
  {
   "cell_type": "code",
   "execution_count": 8,
   "id": "b9f153ab-1bb6-4453-b26f-00fd66a8762f",
   "metadata": {},
   "outputs": [
    {
     "name": "stdout",
     "output_type": "stream",
     "text": [
      "10\n"
     ]
    }
   ],
   "source": [
    "def add_two_numbers():\n",
    "    num_one = 3\n",
    "    num_two = 7\n",
    "    total = num_one + num_two\n",
    "    print(total)\n",
    "\n",
    "add_two_numbers()"
   ]
  },
  {
   "cell_type": "markdown",
   "id": "16267623-01c4-4c2e-bca7-4df7c111f89a",
   "metadata": {},
   "source": [
    "### Fonction renvoyant une valeur - Partie 1"
   ]
  },
  {
   "cell_type": "code",
   "execution_count": 9,
   "id": "257868fc-72e0-4590-b548-f4c18f9bff3d",
   "metadata": {},
   "outputs": [],
   "source": [
    "# Exemple \n",
    "def generate_full_name():\n",
    "    first_name = 'EFFI'\n",
    "    last_name = 'Jean Mermoz'\n",
    "    space = ' '\n",
    "    full_name = first_name + space + last_name\n",
    "\n",
    "    return full_name"
   ]
  },
  {
   "cell_type": "code",
   "execution_count": 11,
   "id": "f4531f09-a1ca-4f30-bd5e-65497352935f",
   "metadata": {},
   "outputs": [
    {
     "name": "stdout",
     "output_type": "stream",
     "text": [
      "EFFI Jean Mermoz\n"
     ]
    }
   ],
   "source": [
    "print(generate_full_name())"
   ]
  },
  {
   "cell_type": "code",
   "execution_count": 12,
   "id": "f5304384-128b-42d1-94b8-97495513d494",
   "metadata": {},
   "outputs": [
    {
     "name": "stdout",
     "output_type": "stream",
     "text": [
      "EFFI Jean Mermoz\n"
     ]
    }
   ],
   "source": [
    "full_name = generate_full_name()\n",
    "print(full_name)"
   ]
  },
  {
   "cell_type": "markdown",
   "id": "071c1490-f9bd-46da-9a30-eda5cb8a110e",
   "metadata": {},
   "source": [
    "### Fonction avec paramètres"
   ]
  },
  {
   "cell_type": "markdown",
   "id": "3eb66e60-6e8a-4348-9225-27a168433552",
   "metadata": {},
   "source": [
    "##### Paramètre unique"
   ]
  },
  {
   "cell_type": "code",
   "execution_count": null,
   "id": "f4e680ac-1cde-4ec7-ac8e-fe6a6c3fdd69",
   "metadata": {},
   "outputs": [],
   "source": [
    "# syntax\n",
    "# Declaring a function\n",
    "def function_name(paramater):\n",
    "    codes\n",
    "    codes\n",
    "\n",
    "# Calling a function\n",
    "function_name(argument)"
   ]
  },
  {
   "cell_type": "code",
   "execution_count": 2,
   "id": "f3f6bb8e-c1f8-424d-a4c9-52ea7ba4279e",
   "metadata": {},
   "outputs": [],
   "source": [
    "def greeting(name):\n",
    "    message = f\"{name}, Soyez le bienvenu dans ce cours de Python\"\n",
    "    return message"
   ]
  },
  {
   "cell_type": "code",
   "execution_count": 3,
   "id": "b63074b3-5730-4811-8fe8-dbe764ff485d",
   "metadata": {},
   "outputs": [
    {
     "name": "stdout",
     "output_type": "stream",
     "text": [
      "Serge, Soyez le bienvenu dans ce cours de Python\n"
     ]
    }
   ],
   "source": [
    "name = 'EFFI Jean Mermoz'\n",
    "print(greeting('Serge'))"
   ]
  },
  {
   "cell_type": "code",
   "execution_count": 19,
   "id": "ed68191b-a825-4d99-8a1c-25931f10c474",
   "metadata": {},
   "outputs": [
    {
     "name": "stdout",
     "output_type": "stream",
     "text": [
      "25\n"
     ]
    }
   ],
   "source": [
    "def square_number(x):\n",
    "    return x * x\n",
    "\n",
    "print(square_number(5))"
   ]
  },
  {
   "cell_type": "code",
   "execution_count": 20,
   "id": "a269a6c5-5336-40c5-b56f-ce64e896fbe8",
   "metadata": {},
   "outputs": [],
   "source": [
    "def area_of_circle(r):\n",
    "    PI = 3.14\n",
    "    area = PI * r ** 2\n",
    "\n",
    "    return area"
   ]
  },
  {
   "cell_type": "code",
   "execution_count": 21,
   "id": "5c4fd9dd-725e-4013-b319-574cfe7d204a",
   "metadata": {},
   "outputs": [
    {
     "name": "stdout",
     "output_type": "stream",
     "text": [
      "50.24\n"
     ]
    }
   ],
   "source": [
    "area = area_of_circle(4)\n",
    "print(area)"
   ]
  },
  {
   "cell_type": "code",
   "execution_count": 22,
   "id": "84930f57-7943-4e52-a201-cc290b75aea9",
   "metadata": {},
   "outputs": [
    {
     "name": "stdout",
     "output_type": "stream",
     "text": [
      "314.0\n"
     ]
    }
   ],
   "source": [
    "area = area_of_circle(10)\n",
    "print(area)"
   ]
  },
  {
   "cell_type": "code",
   "execution_count": 28,
   "id": "4458a5a3-8f0b-4896-b502-6a372291d333",
   "metadata": {},
   "outputs": [],
   "source": [
    "def sum_of_numbers(n):\n",
    "    total = 0\n",
    "    for i in range(n+1):\n",
    "        total+=i\n",
    "    print(total)\n",
    "    "
   ]
  },
  {
   "cell_type": "code",
   "execution_count": 29,
   "id": "e26651e5-8e6c-4c43-8ec2-51e74d474247",
   "metadata": {},
   "outputs": [
    {
     "name": "stdout",
     "output_type": "stream",
     "text": [
      "55\n"
     ]
    }
   ],
   "source": [
    "sum_of_numbers(10)"
   ]
  },
  {
   "cell_type": "markdown",
   "id": "8d1cd611-bed5-40ae-88a7-6174c6830082",
   "metadata": {},
   "source": [
    "##### Deux paramètres "
   ]
  },
  {
   "cell_type": "code",
   "execution_count": null,
   "id": "81ff3c48-7e07-4dda-ad72-d606249cb64a",
   "metadata": {},
   "outputs": [],
   "source": [
    "# syntax\n",
    "# Declaring a function\n",
    "def function_name(para1, para2):\n",
    "    codes\n",
    "    codes\n",
    "\n",
    "# Calling a function\n",
    "function_name(arg1, arg2)"
   ]
  },
  {
   "cell_type": "code",
   "execution_count": 30,
   "id": "aaeb91c2-27c1-4231-9e11-c262e2770f03",
   "metadata": {},
   "outputs": [],
   "source": [
    "# Exemple \n",
    "def generate_full_name(first_name, last_name):\n",
    "    space = ' '\n",
    "    full_name = first_name + space + last_name\n",
    "\n",
    "    return full_name"
   ]
  },
  {
   "cell_type": "code",
   "execution_count": 31,
   "id": "26427a95-94c4-4c44-9e1d-db1bccb28b21",
   "metadata": {},
   "outputs": [
    {
     "name": "stdout",
     "output_type": "stream",
     "text": [
      "EFFI Jean Mermoz\n"
     ]
    }
   ],
   "source": [
    "print(generate_full_name('EFFI', 'Jean Mermoz'))"
   ]
  },
  {
   "cell_type": "code",
   "execution_count": 32,
   "id": "5e131434-6e8a-4b59-9b4a-43abe3729f52",
   "metadata": {},
   "outputs": [],
   "source": [
    "def calutate_age(current_year, birth_year):\n",
    "    age = current_year - birth_year\n",
    "    return age"
   ]
  },
  {
   "cell_type": "code",
   "execution_count": 34,
   "id": "9a88f735-28c8-42d1-bbdb-b2d9288241e9",
   "metadata": {},
   "outputs": [
    {
     "name": "stdout",
     "output_type": "stream",
     "text": [
      "Vôtre âge est : 205 ans\n"
     ]
    }
   ],
   "source": [
    "print('Vôtre âge est :', calutate_age(2024, 1819), 'ans')"
   ]
  },
  {
   "cell_type": "markdown",
   "id": "e0d249f8-c927-44cf-9bc5-723a8db56e77",
   "metadata": {},
   "source": [
    "### Passer des arguments avec clé et valeur"
   ]
  },
  {
   "cell_type": "code",
   "execution_count": null,
   "id": "518a1667-a0dc-4021-b441-aa125ffef604",
   "metadata": {},
   "outputs": [],
   "source": [
    "# syntax\n",
    "# Declaring a function\n",
    "def function_name(para1, para2):\n",
    "    codes\n",
    "    codes\n",
    "\n",
    "# Calling a function\n",
    "function_name(para1=arg1, para2=arg2)"
   ]
  },
  {
   "cell_type": "code",
   "execution_count": 36,
   "id": "948212fb-7561-4d07-ad62-a03553459ea9",
   "metadata": {},
   "outputs": [
    {
     "name": "stdout",
     "output_type": "stream",
     "text": [
      "Jean Mermoz EFFI\n"
     ]
    }
   ],
   "source": [
    "print(generate_full_name('Jean Mermoz', 'EFFI'))"
   ]
  },
  {
   "cell_type": "code",
   "execution_count": 35,
   "id": "2e39762f-1868-4acc-9c5f-3a30d5e73518",
   "metadata": {},
   "outputs": [
    {
     "name": "stdout",
     "output_type": "stream",
     "text": [
      "EFFI Jean Mermoz\n"
     ]
    }
   ],
   "source": [
    "print(generate_full_name(last_name='Jean Mermoz', first_name='EFFI'))"
   ]
  },
  {
   "cell_type": "markdown",
   "id": "c2e51c95-8643-43cc-8c7a-93e0654780aa",
   "metadata": {},
   "source": [
    "#### Renvoyer un booléen"
   ]
  },
  {
   "cell_type": "code",
   "execution_count": 4,
   "id": "0c3ac441-4ba3-41a8-a0f6-73ab0a157a47",
   "metadata": {},
   "outputs": [],
   "source": [
    "def is_even(n):\n",
    "    if n % 2 == 0:\n",
    "        return True\n",
    "    return False"
   ]
  },
  {
   "cell_type": "code",
   "execution_count": 5,
   "id": "898b7597-eda2-4a14-92d4-0a60b25d0c11",
   "metadata": {},
   "outputs": [
    {
     "data": {
      "text/plain": [
       "True"
      ]
     },
     "execution_count": 5,
     "metadata": {},
     "output_type": "execute_result"
    }
   ],
   "source": [
    "is_even(10)"
   ]
  },
  {
   "cell_type": "code",
   "execution_count": 39,
   "id": "e6ae36cd-c98b-484d-a25f-8162b1e59b86",
   "metadata": {},
   "outputs": [
    {
     "data": {
      "text/plain": [
       "False"
      ]
     },
     "execution_count": 39,
     "metadata": {},
     "output_type": "execute_result"
    }
   ],
   "source": [
    "is_even(11)"
   ]
  },
  {
   "cell_type": "code",
   "execution_count": 40,
   "id": "405144b1-d631-4fdb-9a1e-7290bbd9308f",
   "metadata": {},
   "outputs": [
    {
     "data": {
      "text/plain": [
       "False"
      ]
     },
     "execution_count": 40,
     "metadata": {},
     "output_type": "execute_result"
    }
   ],
   "source": [
    "is_even(33)"
   ]
  },
  {
   "cell_type": "markdown",
   "id": "3a1b43e4-6357-4829-9283-98a0f69d43ea",
   "metadata": {},
   "source": [
    "#### Fonction avec paramètres par défaut"
   ]
  },
  {
   "cell_type": "code",
   "execution_count": null,
   "id": "97f1c9a6-23ec-4da6-95de-0f25d6e41643",
   "metadata": {},
   "outputs": [],
   "source": [
    "# syntax\n",
    "# Declaring a function\n",
    "def function_name(para1=valeur1, para2=valeur2):\n",
    "    codes\n",
    "    codes\n",
    "\n",
    "# Calling a function\n",
    "function_name()\n",
    "function_name(para1=arg1, para2=arg2)"
   ]
  },
  {
   "cell_type": "code",
   "execution_count": 43,
   "id": "759e9931-d4d9-43de-9080-7c40551c9a8a",
   "metadata": {},
   "outputs": [],
   "source": [
    "# Exemple \n",
    "def generate_full_name(first_name='Asabeneth', last_name='Le Chat', space = ' '):\n",
    "    full_name = first_name + space + last_name\n",
    "\n",
    "    return full_name"
   ]
  },
  {
   "cell_type": "code",
   "execution_count": 44,
   "id": "22cd4787-6c0f-4332-9dc4-32e43690a982",
   "metadata": {},
   "outputs": [
    {
     "data": {
      "text/plain": [
       "'Asabeneth Le Chat'"
      ]
     },
     "execution_count": 44,
     "metadata": {},
     "output_type": "execute_result"
    }
   ],
   "source": [
    "generate_full_name()"
   ]
  },
  {
   "cell_type": "code",
   "execution_count": 48,
   "id": "d69377db-7e8c-464c-b400-357583f1d057",
   "metadata": {},
   "outputs": [],
   "source": [
    "# Exemple \n",
    "def generate_full_name(first_name, last_name, space = ' '):\n",
    "    full_name = first_name + space + last_name\n",
    "\n",
    "    return full_name"
   ]
  },
  {
   "cell_type": "code",
   "execution_count": 49,
   "id": "1df8bac5-1a01-4536-bd17-19bad1551654",
   "metadata": {},
   "outputs": [
    {
     "name": "stdout",
     "output_type": "stream",
     "text": [
      "EFFI Jean Mermoz\n"
     ]
    }
   ],
   "source": [
    "print(generate_full_name(last_name='Jean Mermoz', first_name='EFFI'))"
   ]
  },
  {
   "cell_type": "markdown",
   "id": "95f649e9-f2e1-408f-a4ff-1111dcb6318f",
   "metadata": {},
   "source": [
    "#### Nombre arbitraire d'arguments"
   ]
  },
  {
   "cell_type": "code",
   "execution_count": null,
   "id": "bdc01ca2-b91a-477c-879f-7c6feb305ef6",
   "metadata": {},
   "outputs": [],
   "source": [
    "# syntax\n",
    "# Declaring a function\n",
    "def function_name(*args):\n",
    "    codes\n",
    "    codes\n",
    "\n",
    "# Calling a function\n",
    "function_name(para1, para2, para2...)"
   ]
  },
  {
   "cell_type": "code",
   "execution_count": 6,
   "id": "1dd5657b-b0bd-43ac-aee4-cdd7abe5fd3c",
   "metadata": {},
   "outputs": [],
   "source": [
    "# Exemple\n",
    "def sum_all_nums(*nums):\n",
    "    total = 0\n",
    "    for num in nums:\n",
    "        total+=num\n",
    "    return total"
   ]
  },
  {
   "cell_type": "code",
   "execution_count": 8,
   "id": "f202bb1b-f1f5-467e-8b8f-2b379e08cf5f",
   "metadata": {},
   "outputs": [
    {
     "name": "stdout",
     "output_type": "stream",
     "text": [
      "25\n"
     ]
    }
   ],
   "source": [
    "result = sum_all_nums(2, 3, 5, 15)\n",
    "print(result)"
   ]
  },
  {
   "cell_type": "code",
   "execution_count": 58,
   "id": "6d3503fa-ec08-42f7-967d-32511a5e6cb7",
   "metadata": {},
   "outputs": [
    {
     "name": "stdout",
     "output_type": "stream",
     "text": [
      "209\n"
     ]
    }
   ],
   "source": [
    "result = sum_all_nums(150, 25, 34)\n",
    "print(result)"
   ]
  },
  {
   "cell_type": "code",
   "execution_count": 9,
   "id": "aefa977c-7471-497d-a881-1fc83ba864a0",
   "metadata": {},
   "outputs": [],
   "source": [
    "def generate_groups(team, *args):\n",
    "    print(team.upper())\n",
    "    count = 0\n",
    "    for name in args:\n",
    "        count+=1\n",
    "        print(f\"{count}: {name}\")"
   ]
  },
  {
   "cell_type": "code",
   "execution_count": 10,
   "id": "83f959e9-b858-4277-bf35-e2de863dfc17",
   "metadata": {},
   "outputs": [
    {
     "name": "stdout",
     "output_type": "stream",
     "text": [
      "DATALOVE\n",
      "1: Lea Fofana\n",
      "2: Searge Pacôme\n",
      "3: Sangare\n"
     ]
    }
   ],
   "source": [
    "generate_groups('DataLove', 'Lea Fofana', 'Searge Pacôme', 'Sangare')"
   ]
  },
  {
   "cell_type": "markdown",
   "id": "4a0e5f21-9c78-4478-8f72-71769829ecbf",
   "metadata": {},
   "source": [
    "#### Fonction comme paramètre d'une autre fonction"
   ]
  },
  {
   "cell_type": "code",
   "execution_count": 61,
   "id": "706c840f-150c-4c32-9435-428ba9d30b64",
   "metadata": {},
   "outputs": [],
   "source": [
    "def square_number(n):\n",
    "    return n * n\n",
    "\n",
    "def fait_quelque_chose(f, x):\n",
    "    return f(x)"
   ]
  },
  {
   "cell_type": "code",
   "execution_count": 62,
   "id": "6eb1dfbe-d7e1-4b87-9778-e396946ca969",
   "metadata": {},
   "outputs": [
    {
     "data": {
      "text/plain": [
       "9"
      ]
     },
     "execution_count": 62,
     "metadata": {},
     "output_type": "execute_result"
    }
   ],
   "source": [
    "fait_quelque_chose(square_number, 3)"
   ]
  },
  {
   "cell_type": "code",
   "execution_count": 12,
   "id": "fc3bc45a-078f-44a3-9e98-d247978a32cb",
   "metadata": {},
   "outputs": [],
   "source": [
    "def erreur(n, team='DataLove'):\n",
    "    pass"
   ]
  },
  {
   "cell_type": "markdown",
   "id": "10e33b49-d362-4590-97fa-2463121aca32",
   "metadata": {},
   "source": [
    "### Exercice 1\n",
    "Ecrire un programme qui permet de saisir le nom, le prix et la quantité des articles qui constitue une facture.\n",
    "(Le nombre d’article est fixé à 2).\n",
    "Le programme doit calculer le totale de la facture. N’oublier pas d’ajouter la TVA pour chaque article (20%) (MontantTTC=MontantHT + Montant HT*0.2). \n",
    "Votre programme doit afficher le montant totale de chaque article ainsi que le totale."
   ]
  },
  {
   "cell_type": "code",
   "execution_count": 20,
   "id": "6c105a32-457f-4a28-81b8-1856cc365f74",
   "metadata": {},
   "outputs": [],
   "source": [
    "# Definition des variables\n",
    "nbr_articles = 2\n",
    "\n",
    "def get_info_article():\n",
    "    articles = []\n",
    "    quantites = []\n",
    "    prix_all = []\n",
    "    \n",
    "    for i in range(1, nbr_articles+1):\n",
    "        nom_article = input(f\"Donner le nom l'article n {i} : \")\n",
    "        articles.append(nom_article.upper())\n",
    "        quantite = int(input(f\"Donner la quantité de l'article n {i} :\"))\n",
    "        quantites.append(quantite)\n",
    "        prix = float(input(f\"Donner le prix de l'article n {i} :\"))\n",
    "        prix_all.append(prix)\n",
    "\n",
    "    return articles, quantites, prix_all\n",
    "\n",
    "def get_montant_ht(quantite, prix):\n",
    "    montant_ht = quantite * prix\n",
    "    return montant_ht\n",
    "\n",
    "def get_montant_ttc(montant_ht, tva = 0.2):\n",
    "    montant_ttc = montant_ht + montant_ht * tva\n",
    "    return montant_ttc\n",
    "\n",
    "def main():\n",
    "    # Definition des variables\n",
    "    total_facture = 0\n",
    "    # Saisie des données\n",
    "    articles, quantites, prix_all = get_info_article()\n",
    "    for i in range(nbr_articles):\n",
    "        prix = prix_all[i]\n",
    "        quantite = quantites[i]\n",
    "        montant_ht = get_montant_ht(prix, quantite)\n",
    "        print(f\"Total de l'article {articles[i]} : {montant_ht}$ (HT)\")\n",
    "        montant_ttc = get_montant_ttc(montant_ht)\n",
    "        print(f\"Total de l'article {articles[i]} : {montant_ttc}$ (TTC)\")\n",
    "\n",
    "        total_facture += montant_ttc\n",
    "    print(\"*\" * 60)\n",
    "    print(f\"Le montant total de la facture est : {total_facture}$ (TTC)\")"
   ]
  },
  {
   "cell_type": "code",
   "execution_count": 21,
   "id": "fd7f916d-c6bc-421d-b1d9-32d0f648d95a",
   "metadata": {},
   "outputs": [
    {
     "name": "stdin",
     "output_type": "stream",
     "text": [
      "Donner le nom l'article n 1 :  pc\n",
      "Donner la quantité de l'article n 1 : 3\n",
      "Donner le prix de l'article n 1 : 7000\n",
      "Donner le nom l'article n 2 :  iphone pro max\n",
      "Donner la quantité de l'article n 2 : 2\n",
      "Donner le prix de l'article n 2 : 2500\n"
     ]
    },
    {
     "name": "stdout",
     "output_type": "stream",
     "text": [
      "Total de l'article PC : 21000.0$ (HT)\n",
      "Total de l'article PC : 25200.0$ (TTC)\n",
      "Total de l'article IPHONE PRO MAX : 5000.0$ (HT)\n",
      "Total de l'article IPHONE PRO MAX : 6000.0$ (TTC)\n",
      "****************************************\n",
      "Le montant total de la facture est : 31200.0$ (TTC)\n"
     ]
    }
   ],
   "source": [
    "main()"
   ]
  },
  {
   "cell_type": "markdown",
   "id": "c9a5bc80-0e0f-4a38-945a-d77930076c46",
   "metadata": {},
   "source": [
    "### Fonction Equation Quadratique"
   ]
  },
  {
   "cell_type": "code",
   "execution_count": 1,
   "id": "429a8795-9bb7-4ca8-8637-6e9f3d0e4586",
   "metadata": {},
   "outputs": [],
   "source": [
    "import math\n",
    "\n",
    "def equation_quadratique(a, b, c):\n",
    "    discriminant = b**2 - 4*a*c\n",
    "\n",
    "    # Cas où le discriminant est négatif, pas de solution réelles \n",
    "    if discriminant < 0:\n",
    "        return \"Pas de solution réelles.\"\n",
    "\n",
    "    if discriminant == 0:\n",
    "        pass\n",
    "    else: \n",
    "        pass"
   ]
  },
  {
   "cell_type": "markdown",
   "id": "fb2626e4-bc92-4513-ad42-3a067c1fdd66",
   "metadata": {},
   "source": [
    "### Fonction Lambda"
   ]
  },
  {
   "cell_type": "code",
   "execution_count": 2,
   "id": "5cb77199-6678-485b-b58b-135e9509f3bf",
   "metadata": {},
   "outputs": [
    {
     "data": {
      "text/plain": [
       "<function __main__.<lambda>(arguments)>"
      ]
     },
     "execution_count": 2,
     "metadata": {},
     "output_type": "execute_result"
    }
   ],
   "source": [
    "## Syntaxe :\n",
    "lambda arguments: expression"
   ]
  },
  {
   "cell_type": "markdown",
   "id": "910ed0ee-130d-4df4-a419-fe3082925fc7",
   "metadata": {},
   "source": [
    "- *lambda* est un mot-clé utilisé pour définir une fonction lambda.\n",
    "- *arguments* est une liste d'arguments séparés par des virgules, similaires aux arguments d'une fonction normale.\n",
    "- *expression* est une expression unique qui est évaluée et renvoyée lorsque la fonction lambda est appelée."
   ]
  },
  {
   "cell_type": "code",
   "execution_count": 3,
   "id": "fbfe375e-7a40-4513-ad75-9522073ebe7a",
   "metadata": {},
   "outputs": [],
   "source": [
    "# Exemple\n",
    "addition = lambda x, y: x + y"
   ]
  },
  {
   "cell_type": "code",
   "execution_count": 5,
   "id": "75707bbf-5fd6-46da-b9c7-8f2daf15abc2",
   "metadata": {},
   "outputs": [
    {
     "data": {
      "text/plain": [
       "11"
      ]
     },
     "execution_count": 5,
     "metadata": {},
     "output_type": "execute_result"
    }
   ],
   "source": [
    "addition(5, 6)"
   ]
  },
  {
   "cell_type": "markdown",
   "id": "1da2a397-deff-4a20-b754-bd4001f6e975",
   "metadata": {},
   "source": [
    "#### *map()*, *filter()*, *reduce()*"
   ]
  },
  {
   "cell_type": "code",
   "execution_count": 6,
   "id": "6ba0b97c-527b-4582-9425-4ab009246593",
   "metadata": {},
   "outputs": [],
   "source": [
    "liste = [1, 2, 3, 4, 5]\n",
    "\n",
    "double = map(lambda x: x * 2, liste)"
   ]
  },
  {
   "cell_type": "code",
   "execution_count": 9,
   "id": "f8bc56bb-9735-4c5e-88d2-948ae0373cee",
   "metadata": {},
   "outputs": [
    {
     "name": "stdout",
     "output_type": "stream",
     "text": [
      "[2, 4, 6, 8, 10]\n"
     ]
    }
   ],
   "source": [
    "resultat = list(double)\n",
    "print(resultat)"
   ]
  },
  {
   "cell_type": "code",
   "execution_count": 14,
   "id": "d74d53da-92ec-4a02-a4b1-686baf29b65e",
   "metadata": {},
   "outputs": [
    {
     "name": "stdout",
     "output_type": "stream",
     "text": [
      "('David', 20)\n",
      "('Bob', 25)\n",
      "('Alice', 30)\n",
      "('Serge', 35)\n"
     ]
    }
   ],
   "source": [
    "# Exerice\n",
    "personnes = [\n",
    "    (\"Alice\", 30),\n",
    "    (\"Bob\", 25),\n",
    "    (\"Serge\", 35),\n",
    "    (\"David\", 20)\n",
    "]\n",
    "\n",
    "personnes_triees = sorted(personnes, key=lambda x: x[1], reverse=False)\n",
    "\n",
    "for personne in personnes_triees:\n",
    "    print(personne)"
   ]
  },
  {
   "cell_type": "code",
   "execution_count": null,
   "id": "731239e9-7d78-46cc-95ae-94951543ffe3",
   "metadata": {},
   "outputs": [],
   "source": []
  },
  {
   "cell_type": "code",
   "execution_count": null,
   "id": "f5f7eb7a-fa4b-4bda-bbfb-a6ffbf5bdf6d",
   "metadata": {},
   "outputs": [],
   "source": []
  },
  {
   "cell_type": "code",
   "execution_count": null,
   "id": "eeb58056-3c9e-49a6-a9ff-e562af12abe7",
   "metadata": {},
   "outputs": [],
   "source": [
    "0101011"
   ]
  },
  {
   "cell_type": "code",
   "execution_count": null,
   "id": "ee26cd33-c54e-42e3-baa6-1fcb672e17af",
   "metadata": {},
   "outputs": [],
   "source": []
  },
  {
   "cell_type": "code",
   "execution_count": null,
   "id": "b03441cd-aff6-4fba-bf19-12f3729501c0",
   "metadata": {},
   "outputs": [],
   "source": []
  },
  {
   "cell_type": "code",
   "execution_count": null,
   "id": "8a8b321f-8d04-4785-a0a5-3134ecb2b492",
   "metadata": {},
   "outputs": [],
   "source": []
  },
  {
   "cell_type": "code",
   "execution_count": null,
   "id": "3b34cc92-b57d-4d5d-8b99-a5dfce3dc93a",
   "metadata": {},
   "outputs": [],
   "source": []
  },
  {
   "cell_type": "code",
   "execution_count": null,
   "id": "c95ae66b-55b4-4d5d-8c06-c34734213744",
   "metadata": {},
   "outputs": [],
   "source": []
  },
  {
   "cell_type": "code",
   "execution_count": null,
   "id": "a0596a51-5989-46f9-8f7d-e9364f00a263",
   "metadata": {},
   "outputs": [],
   "source": []
  },
  {
   "cell_type": "code",
   "execution_count": null,
   "id": "b670f89c-4844-4e3e-8c8f-9d8248123a29",
   "metadata": {},
   "outputs": [],
   "source": []
  },
  {
   "cell_type": "code",
   "execution_count": null,
   "id": "723901f0-fb03-4cfc-b80b-6420de6dcc55",
   "metadata": {},
   "outputs": [],
   "source": []
  },
  {
   "cell_type": "code",
   "execution_count": null,
   "id": "92c5d1f0-e90b-46ee-9d31-b55f823d33b3",
   "metadata": {},
   "outputs": [],
   "source": []
  },
  {
   "cell_type": "code",
   "execution_count": null,
   "id": "d288d800-d364-462b-9dc8-b003ff19c226",
   "metadata": {},
   "outputs": [],
   "source": []
  },
  {
   "cell_type": "code",
   "execution_count": null,
   "id": "475701f5-c5e4-4f27-9b23-7f69e0b60e11",
   "metadata": {},
   "outputs": [],
   "source": []
  }
 ],
 "metadata": {
  "kernelspec": {
   "display_name": "Python 3 (ipykernel)",
   "language": "python",
   "name": "python3"
  },
  "language_info": {
   "codemirror_mode": {
    "name": "ipython",
    "version": 3
   },
   "file_extension": ".py",
   "mimetype": "text/x-python",
   "name": "python",
   "nbconvert_exporter": "python",
   "pygments_lexer": "ipython3",
   "version": "3.11.7"
  }
 },
 "nbformat": 4,
 "nbformat_minor": 5
}
