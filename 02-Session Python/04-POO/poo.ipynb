{
 "cells": [
  {
   "cell_type": "markdown",
   "id": "c82789ab-1ad1-4177-b55b-4f74be40c097",
   "metadata": {},
   "source": [
    "## Classes et objets\n",
    "Les concepts clés de la POO sont l'*encapsulation, l'héritage et le polymorphisme*"
   ]
  },
  {
   "cell_type": "code",
   "execution_count": 1,
   "id": "2e2872f7-1788-4e23-9b77-854d58a45402",
   "metadata": {},
   "outputs": [
    {
     "data": {
      "text/plain": [
       "int"
      ]
     },
     "execution_count": 1,
     "metadata": {},
     "output_type": "execute_result"
    }
   ],
   "source": [
    "num = 10\n",
    "type(num)"
   ]
  },
  {
   "cell_type": "markdown",
   "id": "ceaa1c1d-7855-4716-94a0-474c4800745e",
   "metadata": {},
   "source": [
    "### Créer une classe"
   ]
  },
  {
   "cell_type": "code",
   "execution_count": null,
   "id": "2a06c28e-77f4-41b2-acbc-b7c666cbee6e",
   "metadata": {},
   "outputs": [],
   "source": [
    "## Syntaxe\n",
    "class ClassName:\n",
    "    #notre code"
   ]
  },
  {
   "cell_type": "code",
   "execution_count": 3,
   "id": "54fc2c68-94e9-4b66-8a19-813da74b9d46",
   "metadata": {},
   "outputs": [
    {
     "name": "stdout",
     "output_type": "stream",
     "text": [
      "<class '__main__.Person'>\n"
     ]
    }
   ],
   "source": [
    "class Person:\n",
    "    pass\n",
    "\n",
    "print(Person)"
   ]
  },
  {
   "cell_type": "markdown",
   "id": "7c595393-b9ce-48d5-9c67-9738d3bbecb7",
   "metadata": {},
   "source": [
    "### Création d'un objet"
   ]
  },
  {
   "cell_type": "code",
   "execution_count": 4,
   "id": "53ad548e-937e-481d-8833-29dd83bedf51",
   "metadata": {},
   "outputs": [
    {
     "name": "stdout",
     "output_type": "stream",
     "text": [
      "<__main__.Person object at 0x106a96a50>\n"
     ]
    }
   ],
   "source": [
    "p = Person()\n",
    "print(p)"
   ]
  },
  {
   "cell_type": "markdown",
   "id": "d89ab6ca-8733-46a9-a023-d81d72fc2a2d",
   "metadata": {},
   "source": [
    "### Constructeur de classe"
   ]
  },
  {
   "cell_type": "code",
   "execution_count": 5,
   "id": "b3ec949d-8e2d-42fb-b0b3-cd2fd6489b3b",
   "metadata": {},
   "outputs": [],
   "source": [
    "class Person:\n",
    "    def __init__(self, name):\n",
    "        self.name = name"
   ]
  },
  {
   "cell_type": "code",
   "execution_count": 6,
   "id": "7e445d49-f5da-46bb-9ec2-b5b15561a66f",
   "metadata": {},
   "outputs": [
    {
     "ename": "TypeError",
     "evalue": "Person.__init__() missing 1 required positional argument: 'name'",
     "output_type": "error",
     "traceback": [
      "\u001b[0;31m---------------------------------------------------------------------------\u001b[0m",
      "\u001b[0;31mTypeError\u001b[0m                                 Traceback (most recent call last)",
      "Cell \u001b[0;32mIn[6], line 1\u001b[0m\n\u001b[0;32m----> 1\u001b[0m p \u001b[38;5;241m=\u001b[39m Person()\n",
      "\u001b[0;31mTypeError\u001b[0m: Person.__init__() missing 1 required positional argument: 'name'"
     ]
    }
   ],
   "source": [
    "p = Person()"
   ]
  },
  {
   "cell_type": "code",
   "execution_count": 7,
   "id": "467667de-8280-4ee7-9ec1-8e6dfa68701c",
   "metadata": {},
   "outputs": [],
   "source": [
    "p = Person(\"Asabeneh\")"
   ]
  },
  {
   "cell_type": "code",
   "execution_count": 8,
   "id": "6d6c46c8-7e47-43ed-9747-9dff8bc59867",
   "metadata": {},
   "outputs": [
    {
     "name": "stdout",
     "output_type": "stream",
     "text": [
      "Asabeneh\n",
      "<__main__.Person object at 0x106816e10>\n"
     ]
    }
   ],
   "source": [
    "print(p.name)\n",
    "print(p)"
   ]
  },
  {
   "cell_type": "markdown",
   "id": "fc8a685c-15d7-406e-ae2f-a3dbb19aaee9",
   "metadata": {},
   "source": [
    "#### Ajoutons plus de paramètres à la fonction constructeur."
   ]
  },
  {
   "cell_type": "code",
   "execution_count": 9,
   "id": "9136bb45-8077-48f0-9569-3182b4759ae5",
   "metadata": {},
   "outputs": [],
   "source": [
    "class Person:\n",
    "    def __init__(self, firstname, lastname, age, country, city, contact):\n",
    "        self.firstname = firstname\n",
    "        self.lastname = lastname\n",
    "        self.age = age\n",
    "        self.country = country\n",
    "        self.city = city\n",
    "        self.contact = contact"
   ]
  },
  {
   "cell_type": "code",
   "execution_count": 10,
   "id": "c8dee808-5350-4f7e-af06-80e1597e731b",
   "metadata": {},
   "outputs": [
    {
     "name": "stdout",
     "output_type": "stream",
     "text": [
      "Asabeneh\n",
      "Yetayeh\n",
      "25\n",
      "Finland\n",
      "Helsinki\n",
      "+225 0707678945\n"
     ]
    }
   ],
   "source": [
    "p = Person('Asabeneh', 'Yetayeh', 25, 'Finland', 'Helsinki', '+225 0707678945')\n",
    "print(p.firstname)\n",
    "print(p.lastname)\n",
    "print(p.age)\n",
    "print(p.country)\n",
    "print(p.city)\n",
    "print(p.contact)"
   ]
  },
  {
   "cell_type": "code",
   "execution_count": 11,
   "id": "511b5109-32ee-40bd-91fb-4c0ecdb31cd0",
   "metadata": {},
   "outputs": [],
   "source": [
    "class Person:\n",
    "    def __init__(self, firstname, lastname, age, country, city, contact):\n",
    "        self.firstname = firstname\n",
    "        self.lastname = lastname\n",
    "        self.age = age\n",
    "        self.country = country\n",
    "        self.city = city\n",
    "        self.contact = contact\n",
    "\n",
    "    def get_person_info(self):\n",
    "        return f\"{self.firstname} {self.lastname} a {self.age} ans. Il habite à {self.city}, {self.country} et est joingnable au {self.contact}.\""
   ]
  },
  {
   "cell_type": "code",
   "execution_count": 12,
   "id": "873cdabb-2229-403d-b78b-4422a82d5275",
   "metadata": {},
   "outputs": [],
   "source": [
    "p = Person('Pacôme', 'Serge', 27, 'Côte d\\'Ivoire', 'Abidjan', '+225 0707678945')"
   ]
  },
  {
   "cell_type": "code",
   "execution_count": 13,
   "id": "80103afc-efc3-4b30-90fa-2b38dfecf3e9",
   "metadata": {},
   "outputs": [
    {
     "name": "stdout",
     "output_type": "stream",
     "text": [
      "Pacôme Serge a 27 ans. Il habite à Abidjan, Côte d'Ivoire et est joingnable au +225 0707678945.\n"
     ]
    }
   ],
   "source": [
    "print(p.get_person_info())"
   ]
  },
  {
   "cell_type": "markdown",
   "id": "e8527af7-15d1-4c63-a71b-b7514cbf085b",
   "metadata": {},
   "source": [
    "### Méthodes par défaut des objets"
   ]
  },
  {
   "cell_type": "code",
   "execution_count": 4,
   "id": "1e5735cd-111e-45ac-bc79-b0675b2155a7",
   "metadata": {},
   "outputs": [],
   "source": [
    "import datetime\n",
    "\n",
    "class Person:\n",
    "    def __init__(self, firstname='Pacôme', lastname='Serge', birth_day=1998, country='Côte d\\'Ivoire', city='Abidjan', contact='+225 0707678945'):\n",
    "        self.firstname = firstname\n",
    "        self.lastname = lastname\n",
    "        self.birth_day = birth_day\n",
    "        self.country = country\n",
    "        self.city = city\n",
    "        self.contact = contact\n",
    "        self.age = self.get_age()\n",
    "\n",
    "    def get_person_info(self):\n",
    "        return f\"{self.firstname} {self.lastname} a {self.age} ans. Il habite à {self.city}, {self.country} et est joingnable au {self.contact}.\"\n",
    "\n",
    "    def get_age(self):\n",
    "        current_date = datetime.datetime.now()\n",
    "        # Extrait l'année actuelle\n",
    "        current_year = current_date.year\n",
    "        return current_year - self.birth_day"
   ]
  },
  {
   "cell_type": "code",
   "execution_count": 21,
   "id": "f36bbefc-c81d-4b4a-9751-24d4ed403966",
   "metadata": {},
   "outputs": [],
   "source": [
    "p1 = Person()"
   ]
  },
  {
   "cell_type": "code",
   "execution_count": 23,
   "id": "f8197b06-9971-4731-bf9f-455c4ddb1bc4",
   "metadata": {},
   "outputs": [
    {
     "name": "stdout",
     "output_type": "stream",
     "text": [
      "Pacôme Serge a 26 ans. Il habite à Abidjan, Côte d'Ivoire et est joingnable au +225 0707678945.\n"
     ]
    }
   ],
   "source": [
    "print(p1.get_person_info())"
   ]
  },
  {
   "cell_type": "code",
   "execution_count": 24,
   "id": "762eefc9-cb04-4b74-81a5-4e878daa1482",
   "metadata": {},
   "outputs": [],
   "source": [
    "p2 = Person('Samake', 'Moussa', 1980, 'Mali', 'Bamako')"
   ]
  },
  {
   "cell_type": "code",
   "execution_count": 25,
   "id": "16c3677b-3f9c-4a36-a030-38aba5b6f61b",
   "metadata": {},
   "outputs": [
    {
     "name": "stdout",
     "output_type": "stream",
     "text": [
      "Samake Moussa a 44 ans. Il habite à Bamako, Mali et est joingnable au +225 0707678945.\n"
     ]
    }
   ],
   "source": [
    "print(p2.get_person_info())"
   ]
  },
  {
   "cell_type": "markdown",
   "id": "a67d194a-d501-4f46-926a-bdcb966f424e",
   "metadata": {},
   "source": [
    "### Méthode pour modifier les valeurs par défaut de la classe"
   ]
  },
  {
   "cell_type": "code",
   "execution_count": 5,
   "id": "f2cfe3f7-459b-4451-b388-8e643d0fd62c",
   "metadata": {},
   "outputs": [],
   "source": [
    "class Person:\n",
    "    def __init__(self, firstname='Pacôme', lastname='Serge', birth_day=1998, country='Côte d\\'Ivoire', city='Abidjan', contact='+225 0707678945'):\n",
    "        self.firstname = firstname\n",
    "        self.lastname = lastname\n",
    "        self.birth_day = birth_day\n",
    "        self.country = country\n",
    "        self.city = city\n",
    "        self.contact = contact\n",
    "        self.age = self.get_age()\n",
    "        self.skills = []\n",
    "\n",
    "    def get_person_info(self):\n",
    "        message = f\"{self.firstname} {self.lastname} a {self.age} ans. Il habite à {self.city}, {self.country} et est joingnable au {self.contact}.\"\n",
    "        return message\n",
    "\n",
    "    def get_age(self):\n",
    "        current_date = datetime.datetime.now()\n",
    "        # Extrait l'année actuelle\n",
    "        current_year = current_date.year\n",
    "        return current_year - self.birth_day\n",
    "\n",
    "    def add_skills(self, skill):\n",
    "        if skill not in self.skills:\n",
    "            self.skills.append(skill)\n",
    "\n",
    "    def get_skills(self):\n",
    "        print('*' * 40)\n",
    "        return self.skills"
   ]
  },
  {
   "cell_type": "code",
   "execution_count": 6,
   "id": "30c63753-9625-4d3c-a7ae-9a859f4f1d86",
   "metadata": {},
   "outputs": [],
   "source": [
    "p1 = Person()"
   ]
  },
  {
   "cell_type": "code",
   "execution_count": 7,
   "id": "4ed9e1d3-949c-4d4e-8896-48112ed4d255",
   "metadata": {},
   "outputs": [
    {
     "name": "stdout",
     "output_type": "stream",
     "text": [
      "['__class__', '__delattr__', '__dict__', '__dir__', '__doc__', '__eq__', '__format__', '__ge__', '__getattribute__', '__getstate__', '__gt__', '__hash__', '__init__', '__init_subclass__', '__le__', '__lt__', '__module__', '__ne__', '__new__', '__reduce__', '__reduce_ex__', '__repr__', '__setattr__', '__sizeof__', '__str__', '__subclasshook__', '__weakref__', 'add_skills', 'age', 'birth_day', 'city', 'contact', 'country', 'firstname', 'get_age', 'get_person_info', 'get_skills', 'lastname', 'skills']\n"
     ]
    }
   ],
   "source": [
    "print(dir(p1))"
   ]
  },
  {
   "cell_type": "code",
   "execution_count": null,
   "id": "e4444149-6a7d-497b-81fc-544d36a94b10",
   "metadata": {},
   "outputs": [],
   "source": []
  },
  {
   "cell_type": "code",
   "execution_count": 33,
   "id": "ee34afff-625c-4fcd-93cc-2d927df7b874",
   "metadata": {},
   "outputs": [
    {
     "name": "stdout",
     "output_type": "stream",
     "text": [
      "Pacôme Serge a 26 ans. Il habite à Abidjan, Côte d'Ivoire et est joingnable au +225 0707678945.\n"
     ]
    }
   ],
   "source": [
    "p1 = Person()\n",
    "print(p1.get_person_info())"
   ]
  },
  {
   "cell_type": "code",
   "execution_count": 34,
   "id": "eaa91509-e4d1-42b3-b925-7fd4a1c7deb4",
   "metadata": {},
   "outputs": [],
   "source": [
    "p1.add_skills('HTML')\n",
    "p1.add_skills('CSS')\n",
    "p1.add_skills('Python')"
   ]
  },
  {
   "cell_type": "code",
   "execution_count": 36,
   "id": "ae640c2f-7623-4afc-a965-cbad46151732",
   "metadata": {},
   "outputs": [
    {
     "name": "stdout",
     "output_type": "stream",
     "text": [
      "Pacôme Serge a 26 ans. Il habite à Abidjan, Côte d'Ivoire et est joingnable au +225 0707678945.\n",
      "****************************************\n",
      "['HTML', 'CSS', 'Python']\n"
     ]
    }
   ],
   "source": [
    "print(p1.get_person_info())\n",
    "print(p1.get_skills())"
   ]
  },
  {
   "cell_type": "markdown",
   "id": "56ca8532-f825-4e76-9dcd-8f3e8411faf6",
   "metadata": {},
   "source": [
    "### Héritage"
   ]
  },
  {
   "cell_type": "code",
   "execution_count": 47,
   "id": "ea636441-67bd-4664-a1d8-9ee14f3df4a5",
   "metadata": {},
   "outputs": [],
   "source": [
    "# nous voulons heriter de la class Person\n",
    "class Student(Person):\n",
    "    pass"
   ]
  },
  {
   "cell_type": "code",
   "execution_count": 48,
   "id": "8a65351f-3ad7-43b5-8f0f-d02425e4def7",
   "metadata": {},
   "outputs": [
    {
     "name": "stdout",
     "output_type": "stream",
     "text": [
      "Pacôme Serge a 26 ans. Il habite à Abidjan, Côte d'Ivoire et est joingnable au +225 0707678945.\n"
     ]
    }
   ],
   "source": [
    "s1 = Student()\n",
    "print(s1.get_person_info())"
   ]
  },
  {
   "cell_type": "code",
   "execution_count": 50,
   "id": "ee45f0c3-6d86-4aae-af22-c589d37d4ae2",
   "metadata": {},
   "outputs": [
    {
     "name": "stdout",
     "output_type": "stream",
     "text": [
      "Eyob Yetayeh a 1994 ans. Il habite à Helsinki, Finland et est joingnable au +225 0707678945.\n",
      "['JavaScript', 'React', 'Python']\n"
     ]
    }
   ],
   "source": [
    "s1 = Student('Eyob', 'Yetayeh', 30, 'Finland', 'Helsinki')\n",
    "s2 = Student('Lidiya', 'Teklemariam', 28, 'Finland', 'Espoo')\n",
    "print(s1.get_person_info())\n",
    "s1.add_skills('JavaScript')\n",
    "s1.add_skills('React')\n",
    "s1.add_skills('Python')\n",
    "print(s1.skills)"
   ]
  },
  {
   "cell_type": "code",
   "execution_count": 51,
   "id": "60337976-dedd-40be-8198-bc52ad92f139",
   "metadata": {},
   "outputs": [
    {
     "name": "stdout",
     "output_type": "stream",
     "text": [
      "Lidiya Teklemariam a 1996 ans. Il habite à Espoo, Finland et est joingnable au +225 0707678945.\n",
      "[]\n"
     ]
    }
   ],
   "source": [
    "print(s2.get_person_info())\n",
    "print(s2.skills)"
   ]
  },
  {
   "cell_type": "code",
   "execution_count": 53,
   "id": "2017785c-2d8f-42b7-9487-3a4dc274195b",
   "metadata": {},
   "outputs": [
    {
     "name": "stdout",
     "output_type": "stream",
     "text": [
      "Lidiya Teklemariam a 1996 ans. Il habite à Espoo, Finland et est joingnable au +225 0707678945.\n",
      "['Machine Learning', 'R', 'Statistics']\n"
     ]
    }
   ],
   "source": [
    "s2.add_skills('Machine Learning')\n",
    "s2.add_skills('R')\n",
    "s2.add_skills('Statistics')\n",
    "print(s2.get_person_info())\n",
    "print(s2.skills)"
   ]
  },
  {
   "cell_type": "code",
   "execution_count": 76,
   "id": "78a58342-43b1-44d1-8dea-874d6bc4b925",
   "metadata": {},
   "outputs": [],
   "source": [
    "class Instructor(Person):\n",
    "    def __init__(self, course='Python | Data Science', genre='M'):\n",
    "        self.course = course\n",
    "        self.genre = genre\n",
    "        super().__init__()\n",
    "\n",
    "    def get_person_info(self):\n",
    "        gender = 'M.' if self.genre == 'M' else 'Mme'\n",
    "        message = f\"Bonjour {gender} {self.firstname} {self.lastname}\\na {self.age} ans. Il habite à {self.city}, {self.country} et est joingnable au {self.contact}.\"\n",
    "        return message + f\"\\nEn charge du cours : {self.course}\"\n",
    "        "
   ]
  },
  {
   "cell_type": "code",
   "execution_count": 77,
   "id": "91df2eac-3213-40a8-83e8-7fe81ea17e3c",
   "metadata": {},
   "outputs": [],
   "source": [
    "instructor1 = Instructor()"
   ]
  },
  {
   "cell_type": "code",
   "execution_count": 78,
   "id": "db6022af-2bb5-4ae8-a047-bf3f1a92cbee",
   "metadata": {},
   "outputs": [
    {
     "name": "stdout",
     "output_type": "stream",
     "text": [
      "Bonjour M. Pacôme Serge\n",
      "a 26 ans. Il habite à Abidjan, Côte d'Ivoire et est joingnable au +225 0707678945.\n",
      "En charge du cours : Python | Data Science\n"
     ]
    }
   ],
   "source": [
    "print(instructor1.get_person_info())"
   ]
  },
  {
   "cell_type": "markdown",
   "id": "c29021dd-4c14-4fde-848c-1d805f39684d",
   "metadata": {},
   "source": [
    "## Exercice\n",
    "Créez une classe appelée PersonAccount. Il a des propriétés prénom, nom, revenus, dépenses et il a les méthodes total_revenu, total_expense, account_info, add_treatment, add_expense et account_balance. Les revenus sont un ensemble de revenus et leur description. Il en va de même pour les dépenses."
   ]
  },
  {
   "cell_type": "code",
   "execution_count": null,
   "id": "d9a3be9e-641c-43dc-8e7e-73d2cd208e1d",
   "metadata": {},
   "outputs": [],
   "source": []
  },
  {
   "cell_type": "code",
   "execution_count": null,
   "id": "dec0bae0-11c2-4315-908c-c5c18365a8d6",
   "metadata": {},
   "outputs": [],
   "source": []
  },
  {
   "cell_type": "code",
   "execution_count": null,
   "id": "9e94b520-c8e1-4494-97c6-f0ed3732560f",
   "metadata": {},
   "outputs": [],
   "source": []
  },
  {
   "cell_type": "code",
   "execution_count": null,
   "id": "d936d116-b65e-48ef-8ba5-8a3a56e07ef9",
   "metadata": {},
   "outputs": [],
   "source": []
  },
  {
   "cell_type": "code",
   "execution_count": null,
   "id": "8b1bdba5-69c2-45b5-92d5-273871be1f34",
   "metadata": {},
   "outputs": [],
   "source": []
  },
  {
   "cell_type": "code",
   "execution_count": null,
   "id": "2ca99057-785b-45e1-a054-80189643c671",
   "metadata": {},
   "outputs": [],
   "source": []
  }
 ],
 "metadata": {
  "kernelspec": {
   "display_name": "Python 3 (ipykernel)",
   "language": "python",
   "name": "python3"
  },
  "language_info": {
   "codemirror_mode": {
    "name": "ipython",
    "version": 3
   },
   "file_extension": ".py",
   "mimetype": "text/x-python",
   "name": "python",
   "nbconvert_exporter": "python",
   "pygments_lexer": "ipython3",
   "version": "3.11.7"
  }
 },
 "nbformat": 4,
 "nbformat_minor": 5
}
