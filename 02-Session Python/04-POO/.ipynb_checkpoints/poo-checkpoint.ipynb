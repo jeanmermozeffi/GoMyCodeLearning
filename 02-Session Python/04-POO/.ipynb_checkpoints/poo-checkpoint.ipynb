{
 "cells": [
  {
   "cell_type": "markdown",
   "id": "c82789ab-1ad1-4177-b55b-4f74be40c097",
   "metadata": {},
   "source": [
    "## Classes et objets\n",
    "Les concepts clés de la POO sont l'*encapsulation, l'héritage et le polymorphisme*"
   ]
  },
  {
   "cell_type": "code",
   "execution_count": 1,
   "id": "2e2872f7-1788-4e23-9b77-854d58a45402",
   "metadata": {},
   "outputs": [
    {
     "data": {
      "text/plain": [
       "int"
      ]
     },
     "execution_count": 1,
     "metadata": {},
     "output_type": "execute_result"
    }
   ],
   "source": [
    "num = 10\n",
    "type(num)"
   ]
  },
  {
   "cell_type": "markdown",
   "id": "ceaa1c1d-7855-4716-94a0-474c4800745e",
   "metadata": {},
   "source": [
    "### Créer une classe"
   ]
  },
  {
   "cell_type": "code",
   "execution_count": null,
   "id": "2a06c28e-77f4-41b2-acbc-b7c666cbee6e",
   "metadata": {},
   "outputs": [],
   "source": [
    "## Syntaxe\n",
    "class ClassName:\n",
    "    #notre code"
   ]
  },
  {
   "cell_type": "code",
   "execution_count": 3,
   "id": "54fc2c68-94e9-4b66-8a19-813da74b9d46",
   "metadata": {},
   "outputs": [
    {
     "name": "stdout",
     "output_type": "stream",
     "text": [
      "<class '__main__.Person'>\n"
     ]
    }
   ],
   "source": [
    "class Person:\n",
    "    pass\n",
    "\n",
    "print(Person)"
   ]
  },
  {
   "cell_type": "markdown",
   "id": "7c595393-b9ce-48d5-9c67-9738d3bbecb7",
   "metadata": {},
   "source": [
    "### Création d'un objet"
   ]
  },
  {
   "cell_type": "code",
   "execution_count": 4,
   "id": "53ad548e-937e-481d-8833-29dd83bedf51",
   "metadata": {},
   "outputs": [
    {
     "name": "stdout",
     "output_type": "stream",
     "text": [
      "<__main__.Person object at 0x106a96a50>\n"
     ]
    }
   ],
   "source": [
    "p = Person()\n",
    "print(p)"
   ]
  },
  {
   "cell_type": "markdown",
   "id": "d89ab6ca-8733-46a9-a023-d81d72fc2a2d",
   "metadata": {},
   "source": [
    "### Constructeur de classe"
   ]
  },
  {
   "cell_type": "code",
   "execution_count": 5,
   "id": "b3ec949d-8e2d-42fb-b0b3-cd2fd6489b3b",
   "metadata": {},
   "outputs": [],
   "source": [
    "class Person:\n",
    "    def __init__(self, name):\n",
    "        self.name = name"
   ]
  },
  {
   "cell_type": "code",
   "execution_count": 6,
   "id": "7e445d49-f5da-46bb-9ec2-b5b15561a66f",
   "metadata": {},
   "outputs": [
    {
     "ename": "TypeError",
     "evalue": "Person.__init__() missing 1 required positional argument: 'name'",
     "output_type": "error",
     "traceback": [
      "\u001b[0;31m---------------------------------------------------------------------------\u001b[0m",
      "\u001b[0;31mTypeError\u001b[0m                                 Traceback (most recent call last)",
      "Cell \u001b[0;32mIn[6], line 1\u001b[0m\n\u001b[0;32m----> 1\u001b[0m p \u001b[38;5;241m=\u001b[39m Person()\n",
      "\u001b[0;31mTypeError\u001b[0m: Person.__init__() missing 1 required positional argument: 'name'"
     ]
    }
   ],
   "source": [
    "p = Person()"
   ]
  },
  {
   "cell_type": "code",
   "execution_count": 7,
   "id": "467667de-8280-4ee7-9ec1-8e6dfa68701c",
   "metadata": {},
   "outputs": [],
   "source": [
    "p = Person(\"Asabeneh\")"
   ]
  },
  {
   "cell_type": "code",
   "execution_count": 8,
   "id": "6d6c46c8-7e47-43ed-9747-9dff8bc59867",
   "metadata": {},
   "outputs": [
    {
     "name": "stdout",
     "output_type": "stream",
     "text": [
      "Asabeneh\n",
      "<__main__.Person object at 0x106816e10>\n"
     ]
    }
   ],
   "source": [
    "print(p.name)\n",
    "print(p)"
   ]
  },
  {
   "cell_type": "markdown",
   "id": "fc8a685c-15d7-406e-ae2f-a3dbb19aaee9",
   "metadata": {},
   "source": [
    "#### Ajoutons plus de paramètres à la fonction constructeur."
   ]
  },
  {
   "cell_type": "code",
   "execution_count": 9,
   "id": "9136bb45-8077-48f0-9569-3182b4759ae5",
   "metadata": {},
   "outputs": [],
   "source": [
    "class Person:\n",
    "    def __init__(self, firstname, lastname, age, country, city, contact):\n",
    "        self.firstname = firstname\n",
    "        self.lastname = lastname\n",
    "        self.age = age\n",
    "        self.country = country\n",
    "        self.city = city\n",
    "        self.contact = contact"
   ]
  },
  {
   "cell_type": "code",
   "execution_count": 10,
   "id": "c8dee808-5350-4f7e-af06-80e1597e731b",
   "metadata": {},
   "outputs": [
    {
     "name": "stdout",
     "output_type": "stream",
     "text": [
      "Asabeneh\n",
      "Yetayeh\n",
      "25\n",
      "Finland\n",
      "Helsinki\n",
      "+225 0707678945\n"
     ]
    }
   ],
   "source": [
    "p = Person('Asabeneh', 'Yetayeh', 25, 'Finland', 'Helsinki', '+225 0707678945')\n",
    "print(p.firstname)\n",
    "print(p.lastname)\n",
    "print(p.age)\n",
    "print(p.country)\n",
    "print(p.city)\n",
    "print(p.contact)"
   ]
  },
  {
   "cell_type": "code",
   "execution_count": 11,
   "id": "511b5109-32ee-40bd-91fb-4c0ecdb31cd0",
   "metadata": {},
   "outputs": [],
   "source": [
    "class Person:\n",
    "    def __init__(self, firstname, lastname, age, country, city, contact):\n",
    "        self.firstname = firstname\n",
    "        self.lastname = lastname\n",
    "        self.age = age\n",
    "        self.country = country\n",
    "        self.city = city\n",
    "        self.contact = contact\n",
    "\n",
    "    def get_person_info(self):\n",
    "        return f\"{self.firstname} {self.lastname} a {self.age} ans. Il habite à {self.city}, {self.country} et est joingnable au {self.contact}.\""
   ]
  },
  {
   "cell_type": "code",
   "execution_count": 12,
   "id": "873cdabb-2229-403d-b78b-4422a82d5275",
   "metadata": {},
   "outputs": [],
   "source": [
    "p = Person('Pacôme', 'Serge', 27, 'Côte d\\'Ivoire', 'Abidjan', '+225 0707678945')"
   ]
  },
  {
   "cell_type": "code",
   "execution_count": 13,
   "id": "80103afc-efc3-4b30-90fa-2b38dfecf3e9",
   "metadata": {},
   "outputs": [
    {
     "name": "stdout",
     "output_type": "stream",
     "text": [
      "Pacôme Serge a 27 ans. Il habite à Abidjan, Côte d'Ivoire et est joingnable au +225 0707678945.\n"
     ]
    }
   ],
   "source": [
    "print(p.get_person_info())"
   ]
  },
  {
   "cell_type": "markdown",
   "id": "e8527af7-15d1-4c63-a71b-b7514cbf085b",
   "metadata": {},
   "source": [
    "### Méthodes par défaut des objets"
   ]
  },
  {
   "cell_type": "code",
   "execution_count": 17,
   "id": "1e5735cd-111e-45ac-bc79-b0675b2155a7",
   "metadata": {},
   "outputs": [],
   "source": [
    "import datetime\n",
    "\n",
    "class Person:\n",
    "    def __init__(self, firstname='Pacôme', lastname='Serge', birth_day=1998, country='Côte d\\'Ivoire', city='Abidjan', contact='+225 0707678945'):\n",
    "        self.firstname = firstname\n",
    "        self.lastname = lastname\n",
    "        self.birth_day = birth_day\n",
    "        self.country = country\n",
    "        self.city = city\n",
    "        self.contact = contact\n",
    "        self.age = self.get_age()\n",
    "\n",
    "    def get_person_info(self):\n",
    "        return f\"{self.firstname} {self.lastname} a {self.age} ans. Il habite à {self.city}, {self.country} et est joingnable au {self.contact}.\"\n",
    "\n",
    "    def get_age(self):\n",
    "        current_date = datetime.datetime.now()\n",
    "        # Extrait l'année actuelle\n",
    "        current_year = current_date.year\n",
    "    \n",
    "        return current_year - self.birth_day"
   ]
  },
  {
   "cell_type": "code",
   "execution_count": 15,
   "id": "f36bbefc-c81d-4b4a-9751-24d4ed403966",
   "metadata": {},
   "outputs": [],
   "source": [
    "p1 = Person()"
   ]
  },
  {
   "cell_type": "code",
   "execution_count": 19,
   "id": "f8197b06-9971-4731-bf9f-455c4ddb1bc4",
   "metadata": {},
   "outputs": [
    {
     "ename": "TypeError",
     "evalue": "'int' object is not callable",
     "output_type": "error",
     "traceback": [
      "\u001b[0;31m---------------------------------------------------------------------------\u001b[0m",
      "\u001b[0;31mTypeError\u001b[0m                                 Traceback (most recent call last)",
      "Cell \u001b[0;32mIn[19], line 1\u001b[0m\n\u001b[0;32m----> 1\u001b[0m \u001b[38;5;28mprint\u001b[39m(p1\u001b[38;5;241m.\u001b[39mget_person_info())\n",
      "Cell \u001b[0;32mIn[17], line 14\u001b[0m, in \u001b[0;36mPerson.get_person_info\u001b[0;34m(self)\u001b[0m\n\u001b[1;32m     13\u001b[0m \u001b[38;5;28;01mdef\u001b[39;00m \u001b[38;5;21mget_person_info\u001b[39m(\u001b[38;5;28mself\u001b[39m):\n\u001b[0;32m---> 14\u001b[0m     \u001b[38;5;28;01mreturn\u001b[39;00m \u001b[38;5;124mf\u001b[39m\u001b[38;5;124m\"\u001b[39m\u001b[38;5;132;01m{\u001b[39;00m\u001b[38;5;28mself\u001b[39m\u001b[38;5;241m.\u001b[39mfirstname\u001b[38;5;132;01m}\u001b[39;00m\u001b[38;5;124m \u001b[39m\u001b[38;5;132;01m{\u001b[39;00m\u001b[38;5;28mself\u001b[39m\u001b[38;5;241m.\u001b[39mlastname\u001b[38;5;132;01m}\u001b[39;00m\u001b[38;5;124m a \u001b[39m\u001b[38;5;132;01m{\u001b[39;00m\u001b[38;5;28mself\u001b[39m\u001b[38;5;241m.\u001b[39mage()\u001b[38;5;132;01m}\u001b[39;00m\u001b[38;5;124m ans. Il habite à \u001b[39m\u001b[38;5;132;01m{\u001b[39;00m\u001b[38;5;28mself\u001b[39m\u001b[38;5;241m.\u001b[39mcity\u001b[38;5;132;01m}\u001b[39;00m\u001b[38;5;124m, \u001b[39m\u001b[38;5;132;01m{\u001b[39;00m\u001b[38;5;28mself\u001b[39m\u001b[38;5;241m.\u001b[39mcountry\u001b[38;5;132;01m}\u001b[39;00m\u001b[38;5;124m et est joingnable au \u001b[39m\u001b[38;5;132;01m{\u001b[39;00m\u001b[38;5;28mself\u001b[39m\u001b[38;5;241m.\u001b[39mcontact\u001b[38;5;132;01m}\u001b[39;00m\u001b[38;5;124m.\u001b[39m\u001b[38;5;124m\"\u001b[39m\n",
      "\u001b[0;31mTypeError\u001b[0m: 'int' object is not callable"
     ]
    }
   ],
   "source": [
    "print(p1.get_person_info())"
   ]
  },
  {
   "cell_type": "code",
   "execution_count": 18,
   "id": "b22f03bf-37e2-4143-90bb-abe3e78bb0a8",
   "metadata": {},
   "outputs": [
    {
     "ename": "TypeError",
     "evalue": "'int' object is not callable",
     "output_type": "error",
     "traceback": [
      "\u001b[0;31m---------------------------------------------------------------------------\u001b[0m",
      "\u001b[0;31mTypeError\u001b[0m                                 Traceback (most recent call last)",
      "Cell \u001b[0;32mIn[18], line 1\u001b[0m\n\u001b[0;32m----> 1\u001b[0m \u001b[38;5;28mprint\u001b[39m(p1\u001b[38;5;241m.\u001b[39mget_person_info())\n\u001b[1;32m      3\u001b[0m p2 \u001b[38;5;241m=\u001b[39m Person(\u001b[38;5;124m'\u001b[39m\u001b[38;5;124mSamake\u001b[39m\u001b[38;5;124m'\u001b[39m, \u001b[38;5;124m'\u001b[39m\u001b[38;5;124mMoussa\u001b[39m\u001b[38;5;124m'\u001b[39m, \u001b[38;5;241m1980\u001b[39m, \u001b[38;5;124m'\u001b[39m\u001b[38;5;124mMali\u001b[39m\u001b[38;5;124m'\u001b[39m, \u001b[38;5;124m'\u001b[39m\u001b[38;5;124mBamako\u001b[39m\u001b[38;5;124m'\u001b[39m)\n\u001b[1;32m      5\u001b[0m \u001b[38;5;28mprint\u001b[39m(p2\u001b[38;5;241m.\u001b[39mget_person_info())\n",
      "Cell \u001b[0;32mIn[17], line 14\u001b[0m, in \u001b[0;36mPerson.get_person_info\u001b[0;34m(self)\u001b[0m\n\u001b[1;32m     13\u001b[0m \u001b[38;5;28;01mdef\u001b[39;00m \u001b[38;5;21mget_person_info\u001b[39m(\u001b[38;5;28mself\u001b[39m):\n\u001b[0;32m---> 14\u001b[0m     \u001b[38;5;28;01mreturn\u001b[39;00m \u001b[38;5;124mf\u001b[39m\u001b[38;5;124m\"\u001b[39m\u001b[38;5;132;01m{\u001b[39;00m\u001b[38;5;28mself\u001b[39m\u001b[38;5;241m.\u001b[39mfirstname\u001b[38;5;132;01m}\u001b[39;00m\u001b[38;5;124m \u001b[39m\u001b[38;5;132;01m{\u001b[39;00m\u001b[38;5;28mself\u001b[39m\u001b[38;5;241m.\u001b[39mlastname\u001b[38;5;132;01m}\u001b[39;00m\u001b[38;5;124m a \u001b[39m\u001b[38;5;132;01m{\u001b[39;00m\u001b[38;5;28mself\u001b[39m\u001b[38;5;241m.\u001b[39mage()\u001b[38;5;132;01m}\u001b[39;00m\u001b[38;5;124m ans. Il habite à \u001b[39m\u001b[38;5;132;01m{\u001b[39;00m\u001b[38;5;28mself\u001b[39m\u001b[38;5;241m.\u001b[39mcity\u001b[38;5;132;01m}\u001b[39;00m\u001b[38;5;124m, \u001b[39m\u001b[38;5;132;01m{\u001b[39;00m\u001b[38;5;28mself\u001b[39m\u001b[38;5;241m.\u001b[39mcountry\u001b[38;5;132;01m}\u001b[39;00m\u001b[38;5;124m et est joingnable au \u001b[39m\u001b[38;5;132;01m{\u001b[39;00m\u001b[38;5;28mself\u001b[39m\u001b[38;5;241m.\u001b[39mcontact\u001b[38;5;132;01m}\u001b[39;00m\u001b[38;5;124m.\u001b[39m\u001b[38;5;124m\"\u001b[39m\n",
      "\u001b[0;31mTypeError\u001b[0m: 'int' object is not callable"
     ]
    }
   ],
   "source": [
    "\n",
    "\n",
    "p2 = Person('Samake', 'Moussa', 1980, 'Mali', 'Bamako')\n",
    "\n",
    "print(p2.get_person_info())"
   ]
  },
  {
   "cell_type": "code",
   "execution_count": null,
   "id": "ee34afff-625c-4fcd-93cc-2d927df7b874",
   "metadata": {},
   "outputs": [],
   "source": []
  },
  {
   "cell_type": "code",
   "execution_count": null,
   "id": "d936d116-b65e-48ef-8ba5-8a3a56e07ef9",
   "metadata": {},
   "outputs": [],
   "source": []
  },
  {
   "cell_type": "code",
   "execution_count": null,
   "id": "8b1bdba5-69c2-45b5-92d5-273871be1f34",
   "metadata": {},
   "outputs": [],
   "source": []
  },
  {
   "cell_type": "code",
   "execution_count": 8,
   "id": "2ca99057-785b-45e1-a054-80189643c671",
   "metadata": {},
   "outputs": [
    {
     "name": "stdout",
     "output_type": "stream",
     "text": [
      "Bonjour\n"
     ]
    }
   ],
   "source": []
  }
 ],
 "metadata": {
  "kernelspec": {
   "display_name": "Python 3 (ipykernel)",
   "language": "python",
   "name": "python3"
  },
  "language_info": {
   "codemirror_mode": {
    "name": "ipython",
    "version": 3
   },
   "file_extension": ".py",
   "mimetype": "text/x-python",
   "name": "python",
   "nbconvert_exporter": "python",
   "pygments_lexer": "ipython3",
   "version": "3.11.7"
  }
 },
 "nbformat": 4,
 "nbformat_minor": 5
}
