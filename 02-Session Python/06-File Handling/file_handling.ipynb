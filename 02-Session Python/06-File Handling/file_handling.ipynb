{
 "cells": [
  {
   "cell_type": "markdown",
   "id": "6dde743b-bf80-4181-ade0-b42aab51428d",
   "metadata": {},
   "source": [
    "### Importation de fichiers texte en Python (open())"
   ]
  },
  {
   "cell_type": "code",
   "execution_count": 1,
   "id": "fe1da5fd-c7bf-48b3-a907-d4c30a1c8c1d",
   "metadata": {},
   "outputs": [],
   "source": [
    "## file_object = open(file_name, mode)"
   ]
  },
  {
   "cell_type": "code",
   "execution_count": 7,
   "id": "7666fb49-9c9a-4a57-a58b-bdc4aa9bac9c",
   "metadata": {},
   "outputs": [],
   "source": [
    "file_csv_path = '/Users/jeanmermozeffi/Documents/GOMYCODE/01-Session Data Base/DATA/Checkpoints/Clients.csv'"
   ]
  },
  {
   "cell_type": "code",
   "execution_count": 8,
   "id": "3104c17b-5c21-4262-ac97-d10ffd33b3d0",
   "metadata": {},
   "outputs": [],
   "source": [
    "file_csv = open(file_csv_path)"
   ]
  },
  {
   "cell_type": "code",
   "execution_count": 3,
   "id": "c7c0007d-0e55-484f-8cb6-24f2b370f467",
   "metadata": {},
   "outputs": [
    {
     "data": {
      "text/plain": [
       "<_io.TextIOWrapper name='/Users/jeanmermozeffi/Documents/GOMYCODE/01-Session Data Base/DATA/Checkpoints/Clients.csv' mode='r' encoding='UTF-8'>"
      ]
     },
     "execution_count": 3,
     "metadata": {},
     "output_type": "execute_result"
    }
   ],
   "source": [
    "file_csv"
   ]
  },
  {
   "cell_type": "code",
   "execution_count": null,
   "id": "eba56867-f4f9-47c7-9d03-50c5f40630c8",
   "metadata": {},
   "outputs": [],
   "source": [
    "file_csv."
   ]
  },
  {
   "cell_type": "code",
   "execution_count": 4,
   "id": "88bda090-d008-4a3d-afb7-77904372941d",
   "metadata": {},
   "outputs": [
    {
     "name": "stdout",
     "output_type": "stream",
     "text": [
      "ClientId,nom,prenom,telephone\n",
      "\n",
      "1,Dupont,Jean,0123456789\n",
      "\n",
      "2,Durand,Marie,0987654321\n",
      "\n",
      "3,Martin,Pierre,0654321098\n",
      "\n",
      "4,Lefevre,Sophie,0478963210\n",
      "\n",
      "5,Leroy,Paul,0365987412\n",
      "\n",
      "6,Moreau,Julie,0852147963\n",
      "\n",
      "7,Garcia,Luc,0231546879\n",
      "\n",
      "8,Roux,Emilie,0741258963\n",
      "\n",
      "9,Fontaine,Thomas,0369742158\n",
      "\n",
      "10,Girard,Sophie,0852147963\n",
      "\n",
      "11,Bernard,Philippe,0258967412\n",
      "\n",
      "12,Lambert,Alice,0632147859\n",
      "\n",
      "13,Andre,Louis,0147852369\n",
      "\n",
      "14,Bonnet,Claire,0958471236\n",
      "\n",
      "15,Paris,Marc,0845697312\n",
      "\n",
      "16,Muller,Sophie,0632147859\n",
      "\n",
      "17,Leclerc,Pierre,0356897421\n",
      "\n",
      "18,Fournier,Marie,0258746931\n",
      "\n",
      "19,Morel,David,0854123697\n",
      "\n",
      "20,Dubois,Sophie,0147852369\n",
      "\n",
      "21,Lopez,Sophie,0956321478\n",
      "\n",
      "22,Legrand,Antoine,0852147963\n",
      "\n",
      "23,Gauthier,Celine,0652148793\n",
      "\n",
      "24,Garnier,Julien,0236985471\n",
      "\n",
      "25,Chevalier,Marie,0147852369\n",
      "\n",
      "26,Roger,Laura,0647852319\n",
      "\n",
      "27,Hubert,Pierre,0452136978\n",
      "\n",
      "28,Meunier,Julien,0652148793\n",
      "\n",
      "29,Mathieu,Lucie,0756981235\n",
      "\n",
      "30,Adam,Paul,0852147963\n",
      "\n"
     ]
    }
   ],
   "source": [
    "for line in file_csv:\n",
    "    print(line)"
   ]
  },
  {
   "cell_type": "markdown",
   "id": "60a79375-0c36-4032-8933-627abef8820f",
   "metadata": {},
   "source": [
    "## importation de données avec numpy:"
   ]
  },
  {
   "cell_type": "code",
   "execution_count": 6,
   "id": "768c0434-f00a-41bf-b4d3-6fce8d00fe52",
   "metadata": {},
   "outputs": [],
   "source": [
    "import numpy as np"
   ]
  },
  {
   "cell_type": "code",
   "execution_count": 12,
   "id": "fa115e38-47b5-421e-8aa6-edc4dcd1c858",
   "metadata": {},
   "outputs": [],
   "source": [
    "data = np.genfromtxt(file_csv_path, delimiter=',')"
   ]
  },
  {
   "cell_type": "code",
   "execution_count": null,
   "id": "38705b14-f2b4-43fb-bf4f-4b85145ec32f",
   "metadata": {},
   "outputs": [],
   "source": [
    "data = np.loadtxt(file_csv_path, delimiter=',')"
   ]
  },
  {
   "cell_type": "code",
   "execution_count": null,
   "id": "9d30e215-9b62-4c3d-a61e-71801bda2e55",
   "metadata": {},
   "outputs": [],
   "source": []
  },
  {
   "cell_type": "code",
   "execution_count": 17,
   "id": "0c9e53d9-e68f-4108-a766-1c24c9d97a32",
   "metadata": {},
   "outputs": [
    {
     "name": "stdout",
     "output_type": "stream",
     "text": [
      "ClientId,nom,prenom,telephone\n",
      "\n",
      "1,Dupont,Jean,0123456789\n",
      "\n",
      "2,Durand,Marie,0987654321\n",
      "\n",
      "3,Martin,Pierre,0654321098\n",
      "\n",
      "4,Lefevre,Sophie,0478963210\n",
      "\n",
      "5,Leroy,Paul,0365987412\n",
      "\n",
      "6,Moreau,Julie,0852147963\n",
      "\n",
      "7,Garcia,Luc,0231546879\n",
      "\n",
      "8,Roux,Emilie,0741258963\n",
      "\n",
      "9,Fontaine,Thomas,0369742158\n",
      "\n",
      "10,Girard,Sophie,0852147963\n",
      "\n",
      "11,Bernard,Philippe,0258967412\n",
      "\n",
      "12,Lambert,Alice,0632147859\n",
      "\n",
      "13,Andre,Louis,0147852369\n",
      "\n",
      "14,Bonnet,Claire,0958471236\n",
      "\n",
      "15,Paris,Marc,0845697312\n",
      "\n",
      "16,Muller,Sophie,0632147859\n",
      "\n",
      "17,Leclerc,Pierre,0356897421\n",
      "\n",
      "18,Fournier,Marie,0258746931\n",
      "\n",
      "19,Morel,David,0854123697\n",
      "\n",
      "20,Dubois,Sophie,0147852369\n",
      "\n",
      "21,Lopez,Sophie,0956321478\n",
      "\n",
      "22,Legrand,Antoine,0852147963\n",
      "\n",
      "23,Gauthier,Celine,0652148793\n",
      "\n",
      "24,Garnier,Julien,0236985471\n",
      "\n",
      "25,Chevalier,Marie,0147852369\n",
      "\n",
      "26,Roger,Laura,0647852319\n",
      "\n",
      "27,Hubert,Pierre,0452136978\n",
      "\n",
      "28,Meunier,Julien,0652148793\n",
      "\n",
      "29,Mathieu,Lucie,0756981235\n",
      "\n",
      "30,Adam,Paul,0852147963\n",
      "\n"
     ]
    }
   ],
   "source": [
    "with open(file_csv_path, mode='r') as fichier_csv:\n",
    "    for line in fichier_csv:\n",
    "        print(line)\n",
    "        \n",
    "fichier_csv.close()"
   ]
  },
  {
   "cell_type": "code",
   "execution_count": 18,
   "id": "7252b273-fd75-48a0-b08f-f8df5dd9d4cb",
   "metadata": {},
   "outputs": [],
   "source": [
    "import csv"
   ]
  },
  {
   "cell_type": "code",
   "execution_count": 24,
   "id": "76a866ba-4eb6-44fa-8886-72f69355225f",
   "metadata": {},
   "outputs": [
    {
     "name": "stdout",
     "output_type": "stream",
     "text": [
      "['ClientId', 'nom', 'prenom', 'telephone']\n",
      "['1', 'Dupont', 'Jean', '0123456789']\n",
      "['2', 'Durand', 'Marie', '0987654321']\n",
      "['3', 'Martin', 'Pierre', '0654321098']\n",
      "['4', 'Lefevre', 'Sophie', '0478963210']\n",
      "['5', 'Leroy', 'Paul', '0365987412']\n",
      "['6', 'Moreau', 'Julie', '0852147963']\n",
      "['7', 'Garcia', 'Luc', '0231546879']\n",
      "['8', 'Roux', 'Emilie', '0741258963']\n",
      "['9', 'Fontaine', 'Thomas', '0369742158']\n",
      "['10', 'Girard', 'Sophie', '0852147963']\n",
      "['11', 'Bernard', 'Philippe', '0258967412']\n",
      "['12', 'Lambert', 'Alice', '0632147859']\n",
      "['13', 'Andre', 'Louis', '0147852369']\n",
      "['14', 'Bonnet', 'Claire', '0958471236']\n",
      "['15', 'Paris', 'Marc', '0845697312']\n",
      "['16', 'Muller', 'Sophie', '0632147859']\n",
      "['17', 'Leclerc', 'Pierre', '0356897421']\n",
      "['18', 'Fournier', 'Marie', '0258746931']\n",
      "['19', 'Morel', 'David', '0854123697']\n",
      "['20', 'Dubois', 'Sophie', '0147852369']\n",
      "['21', 'Lopez', 'Sophie', '0956321478']\n",
      "['22', 'Legrand', 'Antoine', '0852147963']\n",
      "['23', 'Gauthier', 'Celine', '0652148793']\n",
      "['24', 'Garnier', 'Julien', '0236985471']\n",
      "['25', 'Chevalier', 'Marie', '0147852369']\n",
      "['26', 'Roger', 'Laura', '0647852319']\n",
      "['27', 'Hubert', 'Pierre', '0452136978']\n",
      "['28', 'Meunier', 'Julien', '0652148793']\n",
      "['29', 'Mathieu', 'Lucie', '0756981235']\n",
      "['30', 'Adam', 'Paul', '0852147963']\n"
     ]
    }
   ],
   "source": [
    "with open(file_csv_path, mode='r') as fichier_csv:\n",
    "    lecteur_csv = csv.reader(fichier_csv)\n",
    "    \n",
    "    for line in lecteur_csv:\n",
    "        print(line)\n",
    "        \n",
    "fichier_csv.close()"
   ]
  },
  {
   "cell_type": "code",
   "execution_count": null,
   "id": "d8e704da-0e48-4efc-9d3a-a512664fb0d8",
   "metadata": {},
   "outputs": [],
   "source": []
  }
 ],
 "metadata": {
  "kernelspec": {
   "display_name": "Python 3 (ipykernel)",
   "language": "python",
   "name": "python3"
  },
  "language_info": {
   "codemirror_mode": {
    "name": "ipython",
    "version": 3
   },
   "file_extension": ".py",
   "mimetype": "text/x-python",
   "name": "python",
   "nbconvert_exporter": "python",
   "pygments_lexer": "ipython3",
   "version": "3.11.7"
  }
 },
 "nbformat": 4,
 "nbformat_minor": 5
}
