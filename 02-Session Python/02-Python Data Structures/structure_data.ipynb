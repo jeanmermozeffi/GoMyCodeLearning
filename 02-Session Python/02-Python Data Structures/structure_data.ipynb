{
 "cells": [
  {
   "cell_type": "markdown",
   "id": "75508572-17a1-4209-b91f-952e19d5d460",
   "metadata": {},
   "source": [
    "## Les Boucles\n",
    "#### - while\n",
    "#### - for"
   ]
  },
  {
   "cell_type": "markdown",
   "id": "011540ae-1b7b-46f8-b6db-39d1b8549d34",
   "metadata": {},
   "source": [
    "### Bouble While\n",
    "Nous utilisons le mot réservé while pour créer une boucle while. Il est utilisé pour exécuter un bloc d'instructions à plusieurs reprises jusqu'à ce qu'une condition donnée soit satisfaite. Lorsque la condition devient fausse, les lignes de code après la boucle continueront à être exécutées."
   ]
  },
  {
   "cell_type": "code",
   "execution_count": null,
   "id": "e1860efd-9bcc-468b-a091-8103f0c78432",
   "metadata": {},
   "outputs": [],
   "source": [
    "# syntaxe \n",
    "while condition:\n",
    "    mettre ici, les instructions."
   ]
  },
  {
   "cell_type": "markdown",
   "id": "8dac4ca0-83cf-413c-b496-d1a6fb2b6ed4",
   "metadata": {},
   "source": [
    "#### Exemple"
   ]
  },
  {
   "cell_type": "code",
   "execution_count": 2,
   "id": "1a7375e7-3ac3-45ae-8653-d09f3792a49d",
   "metadata": {},
   "outputs": [
    {
     "name": "stdout",
     "output_type": "stream",
     "text": [
      "0\n",
      "1\n",
      "2\n",
      "3\n",
      "4\n"
     ]
    }
   ],
   "source": [
    "count = 0 \n",
    "while count < 5:\n",
    "    print(count)\n",
    "    count = count + 1"
   ]
  },
  {
   "cell_type": "code",
   "execution_count": 3,
   "id": "bd280bac-6731-4594-81f4-c2739162ce93",
   "metadata": {},
   "outputs": [
    {
     "name": "stdout",
     "output_type": "stream",
     "text": [
      "0\n",
      "1\n",
      "2\n",
      "3\n",
      "4\n",
      "5\n"
     ]
    }
   ],
   "source": [
    "count = 0 \n",
    "while count < 5:\n",
    "    print(count)\n",
    "    count = count + 1\n",
    "else:\n",
    "    print(count)"
   ]
  },
  {
   "attachments": {},
   "cell_type": "markdown",
   "id": "b518f53a-3400-4117-87de-77ec3192bc05",
   "metadata": {},
   "source": [
    "#### Break(pause) et continue(continue)"
   ]
  },
  {
   "cell_type": "markdown",
   "id": "5e9dad4a-c8f7-4262-b5d9-6dd899b0f3e3",
   "metadata": {},
   "source": [
    "##### Break(pause)"
   ]
  },
  {
   "cell_type": "code",
   "execution_count": 4,
   "id": "0468af9a-f292-475d-9124-aadc56dd71a8",
   "metadata": {},
   "outputs": [
    {
     "name": "stdout",
     "output_type": "stream",
     "text": [
      "0\n",
      "1\n",
      "2\n"
     ]
    }
   ],
   "source": [
    "count = 0 \n",
    "while count < 5:\n",
    "    print(count)\n",
    "    count = count + 1\n",
    "    if count == 3:\n",
    "        break"
   ]
  },
  {
   "cell_type": "markdown",
   "id": "ecc766aa-6f63-4bc2-9a76-d4575da581b7",
   "metadata": {},
   "source": [
    "#### continue(continue)"
   ]
  },
  {
   "cell_type": "code",
   "execution_count": 5,
   "id": "35325c6c-04bd-4eeb-96ec-02d1a6eb2365",
   "metadata": {},
   "outputs": [
    {
     "name": "stdout",
     "output_type": "stream",
     "text": [
      "0\n",
      "1\n",
      "2\n",
      "4\n"
     ]
    }
   ],
   "source": [
    "count = 0 \n",
    "while count < 5:\n",
    "    if count == 3:\n",
    "        count = count + 1\n",
    "        continue\n",
    "    print(count)\n",
    "    count = count + 1"
   ]
  },
  {
   "cell_type": "markdown",
   "id": "836e16dc-5bcf-4ccb-8bfd-e6b9804f2939",
   "metadata": {},
   "source": [
    "## Boucle For(pour)"
   ]
  },
  {
   "cell_type": "code",
   "execution_count": null,
   "id": "9cf01d73-6a06-44ce-8ce2-92af34a72cab",
   "metadata": {},
   "outputs": [],
   "source": [
    "# Syntaxe\n",
    "for item in senquence:\n",
    "    # Mettre les instructions"
   ]
  },
  {
   "cell_type": "markdown",
   "id": "e7cc544f-7beb-4ce4-99b8-b1aa20c5f32c",
   "metadata": {},
   "source": [
    "#### Exemple"
   ]
  },
  {
   "cell_type": "code",
   "execution_count": 7,
   "id": "a98f0b7c-48bb-4714-95f6-925c20829b93",
   "metadata": {},
   "outputs": [
    {
     "name": "stdout",
     "output_type": "stream",
     "text": [
      "0\n",
      "1\n",
      "2\n",
      "3\n",
      "4\n",
      "5\n"
     ]
    }
   ],
   "source": [
    "numbers = [0, 1, 2, 3, 4, 5]\n",
    "for number in numbers:\n",
    "    print(number)"
   ]
  },
  {
   "cell_type": "code",
   "execution_count": 8,
   "id": "42a37e45-65ac-4dc7-a88c-e5b0982578e9",
   "metadata": {},
   "outputs": [
    {
     "name": "stdout",
     "output_type": "stream",
     "text": [
      "D\n",
      "a\n",
      "t\n",
      "a\n",
      " \n",
      "E\n",
      "n\n",
      "g\n",
      "i\n",
      "n\n",
      "e\n",
      "e\n",
      "r\n"
     ]
    }
   ],
   "source": [
    "for chars in \"Data Engineer\":\n",
    "    print(chars)"
   ]
  },
  {
   "cell_type": "markdown",
   "id": "ea27d77f-7ed1-4d23-8a99-410a279f5610",
   "metadata": {},
   "source": [
    "#### range()"
   ]
  },
  {
   "cell_type": "code",
   "execution_count": 12,
   "id": "19edbeeb-f358-4d9f-bec8-f7b2ea54082b",
   "metadata": {},
   "outputs": [
    {
     "name": "stdout",
     "output_type": "stream",
     "text": [
      "0\n",
      "1\n",
      "2\n",
      "3\n",
      "4\n",
      "5\n",
      "6\n",
      "7\n",
      "8\n",
      "9\n",
      "10\n",
      "11\n",
      "12\n"
     ]
    }
   ],
   "source": [
    "job = \"Data Engineer\"\n",
    "for chars in range(len(job)):\n",
    "    print(chars)"
   ]
  },
  {
   "cell_type": "code",
   "execution_count": null,
   "id": "03966672-0cb4-4bcb-98dc-ef2e450bc3fd",
   "metadata": {},
   "outputs": [],
   "source": []
  },
  {
   "cell_type": "code",
   "execution_count": 13,
   "id": "356da299-d82f-495a-99b9-cb86fc3b329f",
   "metadata": {},
   "outputs": [
    {
     "name": "stdout",
     "output_type": "stream",
     "text": [
      "D\n",
      "a\n",
      "t\n",
      "a\n",
      " \n",
      "E\n",
      "n\n",
      "g\n",
      "i\n",
      "n\n",
      "e\n",
      "e\n",
      "r\n"
     ]
    }
   ],
   "source": [
    "job = \"Data Engineer\"\n",
    "for chars in range(len(job)):\n",
    "    print(job[chars])"
   ]
  },
  {
   "cell_type": "code",
   "execution_count": 14,
   "id": "6c614ea8-7d6e-4bb8-8a2a-acb16857fef8",
   "metadata": {},
   "outputs": [],
   "source": [
    "person = {\n",
    "    'first_name':'Asabeneh',\n",
    "    'last_name':'Yetayeh',\n",
    "    'age':250,\n",
    "    'country':'Finland',\n",
    "    'is_marred':True,\n",
    "    'skills':['JavaScript', 'React', 'Node', 'MongoDB', 'Python'],\n",
    "    'address':{\n",
    "        'street':'Space street',\n",
    "        'zipcode':'02210'\n",
    "    }\n",
    "}"
   ]
  },
  {
   "cell_type": "code",
   "execution_count": 19,
   "id": "e54111d4-61dc-41e8-99ea-bffb7373eb7a",
   "metadata": {},
   "outputs": [
    {
     "name": "stdout",
     "output_type": "stream",
     "text": [
      "first_name\n",
      "**********\n",
      "last_name\n",
      "**********\n",
      "age\n",
      "**********\n",
      "country\n",
      "**********\n",
      "is_marred\n",
      "**********\n",
      "skills\n",
      "**********\n",
      "address\n",
      "**********\n"
     ]
    }
   ],
   "source": [
    "for key in person:\n",
    "    print(key)\n",
    "    print(\"*\" * 10)"
   ]
  },
  {
   "cell_type": "code",
   "execution_count": 22,
   "id": "91d2da4a-bc2c-4ef0-b1d9-bf446e3e3858",
   "metadata": {},
   "outputs": [
    {
     "name": "stdout",
     "output_type": "stream",
     "text": [
      "first_name = Asabeneh\n",
      "last_name = Yetayeh\n",
      "age = 250\n",
      "country = Finland\n",
      "is_marred = True\n",
      "skills = ['JavaScript', 'React', 'Node', 'MongoDB', 'Python']\n",
      "address = {'street': 'Space street', 'zipcode': '02210'}\n"
     ]
    }
   ],
   "source": [
    "for key, value in person.items():\n",
    "    print(f\"{key} = {value}\")"
   ]
  },
  {
   "cell_type": "code",
   "execution_count": null,
   "id": "1903f22d-c647-47e4-9c33-55f2b4c7859d",
   "metadata": {},
   "outputs": [],
   "source": []
  },
  {
   "cell_type": "markdown",
   "id": "fdeb887d-5186-44e2-83b5-65ebdf09f99e",
   "metadata": {},
   "source": [
    "### La fonction de plage"
   ]
  },
  {
   "cell_type": "code",
   "execution_count": null,
   "id": "ec51542a-5fad-4d83-a3a1-83136b52d8eb",
   "metadata": {},
   "outputs": [],
   "source": [
    "# range(debut, fin, etape)"
   ]
  },
  {
   "cell_type": "code",
   "execution_count": 30,
   "id": "d82cf505-8944-4db5-b769-70d351d7465c",
   "metadata": {},
   "outputs": [
    {
     "data": {
      "text/plain": [
       "([0, 1, 2, 3, 4, 5, 6, 7, 8, 9, 10], 11)"
      ]
     },
     "execution_count": 30,
     "metadata": {},
     "output_type": "execute_result"
    }
   ],
   "source": [
    "lst = list(range(11))\n",
    "lst, len(lst)"
   ]
  },
  {
   "cell_type": "code",
   "execution_count": null,
   "id": "0b3f80b6-4501-47fc-be63-2c2eae63d000",
   "metadata": {},
   "outputs": [],
   "source": []
  },
  {
   "cell_type": "code",
   "execution_count": 31,
   "id": "dc8f7d99-da0a-46fd-a566-5d1c6fcb3f51",
   "metadata": {},
   "outputs": [
    {
     "data": {
      "text/plain": [
       "([2, 3, 4, 5, 6, 7, 8, 9, 10], 9)"
      ]
     },
     "execution_count": 31,
     "metadata": {},
     "output_type": "execute_result"
    }
   ],
   "source": [
    "lst = list(range(2, 11))\n",
    "lst, len(lst)"
   ]
  },
  {
   "cell_type": "code",
   "execution_count": 32,
   "id": "5a4b7bf6-2224-48ed-868d-6658d971c542",
   "metadata": {},
   "outputs": [
    {
     "data": {
      "text/plain": [
       "{1, 2, 3, 4, 5, 6, 7, 8, 9, 10}"
      ]
     },
     "execution_count": 32,
     "metadata": {},
     "output_type": "execute_result"
    }
   ],
   "source": [
    "st = set(range(1,11))\n",
    "st"
   ]
  },
  {
   "cell_type": "code",
   "execution_count": 35,
   "id": "cab55bc4-b516-4049-af63-64b34d9a110c",
   "metadata": {},
   "outputs": [
    {
     "data": {
      "text/plain": [
       "([0, 2, 4, 6, 8, 10], 6)"
      ]
     },
     "execution_count": 35,
     "metadata": {},
     "output_type": "execute_result"
    }
   ],
   "source": [
    "lst = list(range(0, 11, 2))\n",
    "lst, len(lst)"
   ]
  },
  {
   "cell_type": "markdown",
   "id": "603f3f75-f94a-4703-b6c8-0400817e19ad",
   "metadata": {},
   "source": [
    "#### Boucle For imbriquée\n"
   ]
  },
  {
   "cell_type": "code",
   "execution_count": null,
   "id": "e093aab3-f3c4-4a60-b549-90b7f2ed15ba",
   "metadata": {},
   "outputs": [],
   "source": [
    "# Syntax\n",
    "for x in y:\n",
    "    for t in x:\n",
    "        print(t)"
   ]
  },
  {
   "cell_type": "code",
   "execution_count": 36,
   "id": "0fee8e53-99a8-4a62-a2dd-be920399d748",
   "metadata": {},
   "outputs": [],
   "source": [
    "person = {\n",
    "    'first_name':'Asabeneh',\n",
    "    'last_name':'Yetayeh',\n",
    "    'age':250,\n",
    "    'country':'Finland',\n",
    "    'is_marred':True,\n",
    "    'skills':['JavaScript', 'React', 'Node', 'MongoDB', 'Python'],\n",
    "    'address':{\n",
    "        'street':'Space street',\n",
    "        'zipcode':'02210'\n",
    "    }\n",
    "}"
   ]
  },
  {
   "cell_type": "code",
   "execution_count": 38,
   "id": "b21f5a92-42d8-4418-8252-7af4a98c289d",
   "metadata": {},
   "outputs": [
    {
     "name": "stdout",
     "output_type": "stream",
     "text": [
      "JavaScript\n",
      "React\n",
      "Node\n",
      "MongoDB\n",
      "Python\n"
     ]
    }
   ],
   "source": [
    "for key in person:\n",
    "    if key == 'skills':\n",
    "        for skill in person['skills']:\n",
    "            print(skill)"
   ]
  },
  {
   "cell_type": "code",
   "execution_count": null,
   "id": "9c170e55-9cc4-44e3-8b40-358534244734",
   "metadata": {},
   "outputs": [],
   "source": []
  },
  {
   "cell_type": "code",
   "execution_count": 39,
   "id": "370691cb-62ea-41dc-983c-934694d33884",
   "metadata": {},
   "outputs": [],
   "source": [
    "# Else avec for"
   ]
  },
  {
   "cell_type": "code",
   "execution_count": 40,
   "id": "cc819bb7-1093-4cf5-9e57-0e050464ae63",
   "metadata": {},
   "outputs": [
    {
     "name": "stdout",
     "output_type": "stream",
     "text": [
      "0\n",
      "1\n",
      "2\n",
      "3\n",
      "4\n",
      "5\n",
      "6\n",
      "7\n",
      "8\n",
      "9\n",
      "10\n",
      "La valeur de la condition de sortie est :  10\n"
     ]
    }
   ],
   "source": [
    "for number in range(11):\n",
    "    print(number)\n",
    "else:\n",
    "    print(\"La valeur de la condition de sortie est : \", number)"
   ]
  },
  {
   "cell_type": "code",
   "execution_count": null,
   "id": "6827f7df-b23d-422d-a9f9-e29a7d2212ae",
   "metadata": {},
   "outputs": [],
   "source": [
    "## pass"
   ]
  },
  {
   "cell_type": "code",
   "execution_count": 42,
   "id": "3a07fea3-678b-4398-8f3e-3e3fe1d5d300",
   "metadata": {},
   "outputs": [],
   "source": [
    "for number in range(6):\n",
    "    pass"
   ]
  },
  {
   "cell_type": "code",
   "execution_count": 49,
   "id": "061fdcf2-321c-495b-9d41-d0e841684386",
   "metadata": {},
   "outputs": [
    {
     "name": "stdin",
     "output_type": "stream",
     "text": [
      "Enter a number (or 'q' to quit):  q\n"
     ]
    },
    {
     "name": "stdout",
     "output_type": "stream",
     "text": [
      "Programme stop\n"
     ]
    }
   ],
   "source": [
    "while True:\n",
    "    user_input = input(\"Enter a number (or 'q' to quit): \")\n",
    "    if user_input == 'q':\n",
    "        print(\"Programme stop\")\n",
    "        break \n",
    "    else:\n",
    "        number = int(user_input)\n",
    "        print(\"The square of\", number, \"is\", number*number)"
   ]
  },
  {
   "cell_type": "code",
   "execution_count": 51,
   "id": "3da6cb54-5ef2-4316-9ccb-f97ba74ee8ee",
   "metadata": {},
   "outputs": [
    {
     "data": {
      "text/plain": [
       "'\\nInstructions :\\nTuple:\\n\\nCréez un tuple appelé \"person\" qui contient une chaîne \"John\" en tant que nom, 25 en tant qu\\'âge et \"male\" en tant que sexe.\\nImprimez le nom de la personne\\nEssayez de changer l\\'âge de la personne et de voir ce qui se passe.\\nListes:\\nCréez une liste appelée \"grocery_list\" qui contient \"lait\", \"pain\", \"oeufs\", \"bananes\"\\nImprimez le premier élément dans la liste_épicerie.\\nAjouter \"chocolat\" à la liste épicerie_\\nRetirer \"lait\" de la liste de courses\\nEnsembles:\\nCréez un ensemble appelé \"unique_numbers\" qui contient les entiers 1, 2, 3, 4, 5\\nAjoutez le numéro 6 au numéro unique_numbers\\nImprimez la longueur des numéros unique_numbers\\nEssayez d\\'ajouter un numéro en double et voyez ce qui se passe\\nDictionnaires:\\nCréez un dictionnaire appelé \"employé\" qui contient les clés \"nom\", \"âge\", \"position\" et \"salaire\", avec leurs valeurs correspondantes \"John\", 25, \"Developer\" et 3000 respectivement.\\nImprimez le nom de l\\'employé\\nChanger la position de l\\'employé en \"Gérant\"\\nAjoutez une nouvelle clé \"email\" avec la valeur \"john@example.com\" au dictionnaire des employés\\n'"
      ]
     },
     "execution_count": 51,
     "metadata": {},
     "output_type": "execute_result"
    }
   ],
   "source": [
    "\"\"\"\n",
    "Instructions :\n",
    "Tuple:\n",
    "\n",
    "Créez un tuple appelé \"person\" qui contient une chaîne \"John\" en tant que nom, 25 en tant qu'âge et \"male\" en tant que sexe.\n",
    "Imprimez le nom de la personne\n",
    "Essayez de changer l'âge de la personne et de voir ce qui se passe.\n",
    "Listes:\n",
    "Créez une liste appelée \"grocery_list\" qui contient \"lait\", \"pain\", \"oeufs\", \"bananes\"\n",
    "Imprimez le premier élément dans la liste_épicerie.\n",
    "Ajouter \"chocolat\" à la liste épicerie_\n",
    "Retirer \"lait\" de la liste de courses\n",
    "Ensembles:\n",
    "Créez un ensemble appelé \"unique_numbers\" qui contient les entiers 1, 2, 3, 4, 5\n",
    "Ajoutez le numéro 6 au numéro unique_numbers\n",
    "Imprimez la longueur des numéros unique_numbers\n",
    "Essayez d'ajouter un numéro en double et voyez ce qui se passe\n",
    "Dictionnaires:\n",
    "Créez un dictionnaire appelé \"employé\" qui contient les clés \"nom\", \"âge\", \"position\" et \"salaire\", avec leurs valeurs correspondantes \"John\", 25, \"Developer\" et 3000 respectivement.\n",
    "Imprimez le nom de l'employé\n",
    "Changer la position de l'employé en \"Gérant\"\n",
    "Ajoutez une nouvelle clé \"email\" avec la valeur \"john@example.com\" au dictionnaire des employés\n",
    "\"\"\""
   ]
  },
  {
   "cell_type": "code",
   "execution_count": null,
   "id": "7ae4ab60-8766-47df-b60d-88ea404a860c",
   "metadata": {},
   "outputs": [],
   "source": []
  },
  {
   "cell_type": "code",
   "execution_count": null,
   "id": "e46ead05-0114-4643-901b-58f144521983",
   "metadata": {},
   "outputs": [],
   "source": []
  },
  {
   "cell_type": "code",
   "execution_count": null,
   "id": "17415c81-bb9c-4afc-8e0b-574abe979750",
   "metadata": {},
   "outputs": [],
   "source": []
  },
  {
   "cell_type": "code",
   "execution_count": null,
   "id": "c2e5476f-39f8-4d1b-a1ef-21448760287c",
   "metadata": {},
   "outputs": [],
   "source": []
  },
  {
   "cell_type": "code",
   "execution_count": null,
   "id": "6468050b-6738-450e-a11b-1ef528efe6d7",
   "metadata": {},
   "outputs": [],
   "source": []
  },
  {
   "cell_type": "code",
   "execution_count": null,
   "id": "145cb16c-3d03-4bf8-9380-bbe72647ac89",
   "metadata": {},
   "outputs": [],
   "source": []
  },
  {
   "cell_type": "code",
   "execution_count": null,
   "id": "2d3fce5a-ee28-492c-a779-f80f64850928",
   "metadata": {},
   "outputs": [],
   "source": []
  },
  {
   "cell_type": "code",
   "execution_count": null,
   "id": "8ad306ea-a886-40f5-a4d4-a09e0dad9a41",
   "metadata": {},
   "outputs": [],
   "source": []
  },
  {
   "cell_type": "code",
   "execution_count": null,
   "id": "c7062506-57a5-425f-baeb-8e0af231996d",
   "metadata": {},
   "outputs": [],
   "source": []
  },
  {
   "cell_type": "code",
   "execution_count": null,
   "id": "c4de9741-663b-4220-add6-403abc1dc3d0",
   "metadata": {},
   "outputs": [],
   "source": []
  },
  {
   "cell_type": "code",
   "execution_count": null,
   "id": "86856a70-902d-4b1f-9173-f9575d36e915",
   "metadata": {},
   "outputs": [],
   "source": []
  },
  {
   "cell_type": "code",
   "execution_count": null,
   "id": "27382250-7d9e-4355-b248-b1fa8c60df1f",
   "metadata": {},
   "outputs": [],
   "source": []
  },
  {
   "cell_type": "code",
   "execution_count": null,
   "id": "1c7ef227-eae9-49df-be3a-db9d181e4fbf",
   "metadata": {},
   "outputs": [],
   "source": []
  },
  {
   "cell_type": "code",
   "execution_count": null,
   "id": "dc656c67-7178-4a75-b731-5a8024780b93",
   "metadata": {},
   "outputs": [],
   "source": []
  },
  {
   "cell_type": "code",
   "execution_count": null,
   "id": "f4fdccfd-747c-4921-a6db-639d4b7919ff",
   "metadata": {},
   "outputs": [],
   "source": []
  },
  {
   "cell_type": "code",
   "execution_count": null,
   "id": "1e0918b7-2cec-4d2b-ab6c-1e9913887f8a",
   "metadata": {},
   "outputs": [],
   "source": []
  },
  {
   "cell_type": "code",
   "execution_count": null,
   "id": "2ce279d9-ce5b-4cc0-8432-69525da57f4f",
   "metadata": {},
   "outputs": [],
   "source": []
  },
  {
   "cell_type": "code",
   "execution_count": null,
   "id": "3c253b7a-8841-403f-9e13-a8af210b4d98",
   "metadata": {},
   "outputs": [],
   "source": []
  },
  {
   "cell_type": "code",
   "execution_count": null,
   "id": "bb00d595-2bf7-4a23-8f5f-b3a06f5e83f2",
   "metadata": {},
   "outputs": [],
   "source": []
  },
  {
   "cell_type": "code",
   "execution_count": null,
   "id": "fc2d0641-17fc-45cf-89ce-81bcda9f5537",
   "metadata": {},
   "outputs": [],
   "source": []
  },
  {
   "cell_type": "code",
   "execution_count": null,
   "id": "82fddb4f-b961-4e3a-ae92-15d2d6ebe58a",
   "metadata": {},
   "outputs": [],
   "source": []
  },
  {
   "cell_type": "code",
   "execution_count": null,
   "id": "c1b3c474-01be-4379-bf80-ae2a43daa10a",
   "metadata": {},
   "outputs": [],
   "source": []
  },
  {
   "cell_type": "code",
   "execution_count": null,
   "id": "f6ffefca-a690-480e-82f8-a6ab4eb2be8e",
   "metadata": {},
   "outputs": [],
   "source": []
  },
  {
   "cell_type": "code",
   "execution_count": null,
   "id": "4fcff0b0-bf02-4c2f-a3b0-f679fd179f57",
   "metadata": {},
   "outputs": [],
   "source": []
  }
 ],
 "metadata": {
  "kernelspec": {
   "display_name": "Python 3 (ipykernel)",
   "language": "python",
   "name": "python3"
  },
  "language_info": {
   "codemirror_mode": {
    "name": "ipython",
    "version": 3
   },
   "file_extension": ".py",
   "mimetype": "text/x-python",
   "name": "python",
   "nbconvert_exporter": "python",
   "pygments_lexer": "ipython3",
   "version": "3.11.7"
  }
 },
 "nbformat": 4,
 "nbformat_minor": 5
}
