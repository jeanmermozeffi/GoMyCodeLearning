{
 "cells": [
  {
   "cell_type": "markdown",
   "id": "04a4af08-7d90-41a2-8a86-8fd953973a9e",
   "metadata": {},
   "source": [
    "## Python pour l'analyse statistique"
   ]
  },
  {
   "cell_type": "markdown",
   "id": "51c11985-4318-414e-b65c-7765f577bd50",
   "metadata": {},
   "source": [
    "- __Données__ : *Les données sont des faits bruts et non traités, souvent représentés sous forme numérique, textuelle ou symbolique. Les données peuvent être collectées à partir de diverses sources telles que des capteurs, des bases de données, des fichiers, etc.*\n",
    "- **Par exemple :** une série de nombres, un ensemble de mots ou une liste de valeurs binaires sont toutes des formes de données.\n",
    "- __Informations__ : *Les informations sont des données qui ont été traitées, organisées ou interprétées de manière à avoir une signification ou une utilité pour les utilisateurs.* Les informations sont le résultat du traitement ou de l'analyse des données brutes pour en extraire des connaissances ou des insights.\n",
    "- **Par exemple:** Si vous analysez les données de ventes d'une entreprise pour identifier les tendances de vente, les préférences des clients ou les performances des produits, les résultats de cette analyse constituent des informations.\n"
   ]
  },
  {
   "cell_type": "markdown",
   "id": "f57024bc-891f-4738-96ed-27a866caadf6",
   "metadata": {},
   "source": [
    "## NumPy\n",
    "NumPy est la bibliothèque principale du calcul scientifique en Python. Il fournit un objet tableau multidimensionnel hautes performances et des outils pour travailler avec des tableaux."
   ]
  },
  {
   "cell_type": "code",
   "execution_count": 1,
   "id": "8d224400-62dc-48e1-81c7-5c6bbd184e5e",
   "metadata": {},
   "outputs": [
    {
     "name": "stdout",
     "output_type": "stream",
     "text": [
      "Numpy Version 1.26.4\n"
     ]
    }
   ],
   "source": [
    " import numpy as np\n",
    "print('Numpy Version', np.__version__)"
   ]
  },
  {
   "cell_type": "code",
   "execution_count": 2,
   "id": "2e40145f-7aef-4c38-b87d-b39ea1c83076",
   "metadata": {},
   "outputs": [],
   "source": [
    "# print(dir(np))"
   ]
  },
  {
   "cell_type": "markdown",
   "id": "7b0cfbfb-c2cd-49b9-a5e8-b51e188310ff",
   "metadata": {},
   "source": [
    "### Création d'un tableau numpy en utilisant"
   ]
  },
  {
   "cell_type": "code",
   "execution_count": 3,
   "id": "ec244f7a-7bb1-497e-9725-958996c9355f",
   "metadata": {},
   "outputs": [],
   "source": [
    "python_list = [0, 1, 2, 3, 4, 5, 6, 7, 8, 9, 10]"
   ]
  },
  {
   "cell_type": "code",
   "execution_count": 4,
   "id": "62004e2a-0c01-47fb-85d2-75a5c22c8b75",
   "metadata": {},
   "outputs": [
    {
     "name": "stdout",
     "output_type": "stream",
     "text": [
      "[0, 1, 2, 3, 4, 5, 6, 7, 8, 9, 10]\n"
     ]
    }
   ],
   "source": [
    "print(python_list)"
   ]
  },
  {
   "cell_type": "code",
   "execution_count": 5,
   "id": "58ab05f0-36e8-4d96-9a2a-e8b60c2d49ad",
   "metadata": {},
   "outputs": [],
   "source": [
    "two_dimensional_list = [[0, 1, 2], [3, 4, 5], [6, 7, 8]]"
   ]
  },
  {
   "cell_type": "code",
   "execution_count": 6,
   "id": "e5908537-cb4a-484e-909d-c9ace348c9dc",
   "metadata": {},
   "outputs": [
    {
     "name": "stdout",
     "output_type": "stream",
     "text": [
      "[[0, 1, 2], [3, 4, 5], [6, 7, 8]]\n"
     ]
    }
   ],
   "source": [
    "print(two_dimensional_list)"
   ]
  },
  {
   "cell_type": "code",
   "execution_count": 7,
   "id": "d1671412-4165-44af-9e8c-624df4f36c99",
   "metadata": {},
   "outputs": [
    {
     "data": {
      "text/plain": [
       "[0, 1, 2]"
      ]
     },
     "execution_count": 7,
     "metadata": {},
     "output_type": "execute_result"
    }
   ],
   "source": [
    "two_dimensional_list[0]"
   ]
  },
  {
   "cell_type": "code",
   "execution_count": 8,
   "id": "73913386-02c5-4369-a892-4dd3f54d3db5",
   "metadata": {},
   "outputs": [
    {
     "data": {
      "text/plain": [
       "1"
      ]
     },
     "execution_count": 8,
     "metadata": {},
     "output_type": "execute_result"
    }
   ],
   "source": [
    "two_dimensional_list[0][1]"
   ]
  },
  {
   "cell_type": "code",
   "execution_count": 9,
   "id": "a1a2ac8f-dee3-48c1-aa8c-d4e69551c7a8",
   "metadata": {},
   "outputs": [
    {
     "data": {
      "text/plain": [
       "8"
      ]
     },
     "execution_count": 9,
     "metadata": {},
     "output_type": "execute_result"
    }
   ],
   "source": [
    "two_dimensional_list[2][2]"
   ]
  },
  {
   "cell_type": "code",
   "execution_count": 48,
   "id": "830250ea-5970-49fd-8d50-72b3a0cc29fe",
   "metadata": {},
   "outputs": [
    {
     "name": "stdout",
     "output_type": "stream",
     "text": [
      "<class 'numpy.ndarray'>\n"
     ]
    }
   ],
   "source": [
    "numpy_array = np.array(python_list)\n",
    "print(type(numpy_array))"
   ]
  },
  {
   "cell_type": "code",
   "execution_count": 11,
   "id": "787c9dcf-cf5e-4420-9b1e-766610b70089",
   "metadata": {},
   "outputs": [
    {
     "name": "stdout",
     "output_type": "stream",
     "text": [
      "[0, 1, 2, 3, 4, 5, 6, 7, 8, 9, 10]\n",
      "[ 0  1  2  3  4  5  6  7  8  9 10]\n"
     ]
    }
   ],
   "source": [
    "print(python_list) # list\n",
    "print(numpy_array) #numpy"
   ]
  },
  {
   "cell_type": "markdown",
   "id": "d4ceeeb0-6ee8-4105-8ade-172ae1de320e",
   "metadata": {},
   "source": [
    "### Création de tableaux numpy flottants"
   ]
  },
  {
   "cell_type": "code",
   "execution_count": 12,
   "id": "fec0b298-dccb-4659-b407-38d76c19d28c",
   "metadata": {},
   "outputs": [
    {
     "name": "stdout",
     "output_type": "stream",
     "text": [
      "[ 0.  1.  2.  3.  4.  5.  6.  7.  8.  9. 10.]\n"
     ]
    }
   ],
   "source": [
    "python_list = [0, 1, 2, 3, 4, 5, 6, 7, 8, 9, 10]\n",
    "numpy_array_float = np.array(python_list, dtype='float')\n",
    "print(numpy_array_float)"
   ]
  },
  {
   "cell_type": "markdown",
   "id": "16841737-11ac-4213-8dc0-c5ff7921a306",
   "metadata": {},
   "source": [
    "### Création de tableaux numpy booléens"
   ]
  },
  {
   "cell_type": "code",
   "execution_count": 13,
   "id": "158819df-14c5-4aa4-9794-45f444384263",
   "metadata": {},
   "outputs": [
    {
     "name": "stdout",
     "output_type": "stream",
     "text": [
      "[False  True  True False False  True  True]\n"
     ]
    }
   ],
   "source": [
    "python_list_bool = [0, 1, -1, 0, 0, -1, 1]\n",
    "numpy_array_bool = np.array(python_list_bool, dtype=bool)\n",
    "print(numpy_array_bool)"
   ]
  },
  {
   "cell_type": "markdown",
   "id": "ead050b1-421a-4c3c-a575-18ac027409ee",
   "metadata": {},
   "source": [
    "### Création d'un tableau multidimensionnel à l'aide de numpy"
   ]
  },
  {
   "cell_type": "code",
   "execution_count": 14,
   "id": "50b6c962-fcfe-4d46-87d5-04d7e5b776fe",
   "metadata": {},
   "outputs": [],
   "source": [
    "two_dimensional_list = [[0, 1, 2], [3, 4, 5], [6, 7, 8]]\n",
    "numpy_two_dimensional = np.array(two_dimensional_list)"
   ]
  },
  {
   "cell_type": "code",
   "execution_count": 15,
   "id": "7216e2e1-c8a6-48f8-aae4-dba45e4cd79b",
   "metadata": {},
   "outputs": [
    {
     "name": "stdout",
     "output_type": "stream",
     "text": [
      "<class 'numpy.ndarray'>\n"
     ]
    }
   ],
   "source": [
    "print(type(numpy_two_dimensional))"
   ]
  },
  {
   "cell_type": "code",
   "execution_count": 16,
   "id": "0d5064e4-bb77-47fe-ac70-e6c3c49078b7",
   "metadata": {},
   "outputs": [
    {
     "name": "stdout",
     "output_type": "stream",
     "text": [
      "[[0 1 2]\n",
      " [3 4 5]\n",
      " [6 7 8]]\n"
     ]
    }
   ],
   "source": [
    "print(numpy_two_dimensional)"
   ]
  },
  {
   "cell_type": "markdown",
   "id": "ac0d4471-da6a-41d1-96fd-ca5819f1db78",
   "metadata": {},
   "source": [
    "### Conversion d'un tableau numpy en liste"
   ]
  },
  {
   "cell_type": "code",
   "execution_count": 17,
   "id": "0d4b4e4f-b389-4469-af2d-b8797c1674b2",
   "metadata": {},
   "outputs": [
    {
     "name": "stdout",
     "output_type": "stream",
     "text": [
      "Type: <class 'list'>\n",
      "[[0, 1, 2], [3, 4, 5], [6, 7, 8]]\n"
     ]
    }
   ],
   "source": [
    "two_dimensional_list = numpy_two_dimensional.tolist()\n",
    "print('Type:', type(two_dimensional_list))\n",
    "print(two_dimensional_list)"
   ]
  },
  {
   "cell_type": "code",
   "execution_count": 18,
   "id": "ba315c28-dd03-4981-8cfa-5d35dc32592b",
   "metadata": {},
   "outputs": [
    {
     "data": {
      "text/plain": [
       "(1, 2, 3, 4)"
      ]
     },
     "execution_count": 18,
     "metadata": {},
     "output_type": "execute_result"
    }
   ],
   "source": [
    "python_tuple = (1, 2, 3, 4)\n",
    "python_tuple"
   ]
  },
  {
   "cell_type": "markdown",
   "id": "8d27650c-6d0b-4edb-87eb-0776ddb731a2",
   "metadata": {},
   "source": [
    "### Forme du tableau numpy"
   ]
  },
  {
   "cell_type": "code",
   "execution_count": 19,
   "id": "71a36256-df50-453a-a2af-ae985c0f1b14",
   "metadata": {},
   "outputs": [],
   "source": [
    "# Le premier element du shape : La ligne\n",
    "# Le deuxieme element du shape : La colonne\n",
    "# Unidimensionel = Taille"
   ]
  },
  {
   "cell_type": "code",
   "execution_count": 20,
   "id": "aa6b03eb-33ec-44e5-b0ad-6b10c5c60259",
   "metadata": {},
   "outputs": [
    {
     "data": {
      "text/plain": [
       "(11,)"
      ]
     },
     "execution_count": 20,
     "metadata": {},
     "output_type": "execute_result"
    }
   ],
   "source": [
    "np.shape([0, 1, 2, 3, 4, 5, 6, 7, 8, 9, 10])"
   ]
  },
  {
   "cell_type": "code",
   "execution_count": 21,
   "id": "84061b7b-55a8-4ca6-b487-58910ab5f0ad",
   "metadata": {},
   "outputs": [],
   "source": [
    "nums = np.array([0, 1, 2, 3, 4, 5, 6, 7, 8, 9, 10])"
   ]
  },
  {
   "cell_type": "code",
   "execution_count": 22,
   "id": "35a746c2-8acd-42ec-99da-dddeb8e99e85",
   "metadata": {},
   "outputs": [
    {
     "name": "stdout",
     "output_type": "stream",
     "text": [
      "[ 0  1  2  3  4  5  6  7  8  9 10]\n"
     ]
    }
   ],
   "source": [
    "print(nums)"
   ]
  },
  {
   "cell_type": "code",
   "execution_count": 23,
   "id": "4b29e447-f717-4989-af12-ec00ba86b7a3",
   "metadata": {},
   "outputs": [
    {
     "data": {
      "text/plain": [
       "(11,)"
      ]
     },
     "execution_count": 23,
     "metadata": {},
     "output_type": "execute_result"
    }
   ],
   "source": [
    "nums.shape"
   ]
  },
  {
   "cell_type": "code",
   "execution_count": 24,
   "id": "36997934-c4fb-4014-9bfe-c5207b0fcee7",
   "metadata": {},
   "outputs": [],
   "source": [
    "numpy_multi_dim = np.array(\n",
    "    [\n",
    "        [0, 1, 2, 3], \n",
    "        [4, 5, 6, 7], \n",
    "        [8, 9, 10, 11]\n",
    "    ]\n",
    ")"
   ]
  },
  {
   "cell_type": "code",
   "execution_count": 25,
   "id": "ceb85897-83ad-4afe-a453-9aaed815d074",
   "metadata": {},
   "outputs": [
    {
     "data": {
      "text/plain": [
       "(3, 4)"
      ]
     },
     "execution_count": 25,
     "metadata": {},
     "output_type": "execute_result"
    }
   ],
   "source": [
    "numpy_multi_dim.shape"
   ]
  },
  {
   "cell_type": "markdown",
   "id": "97aae88c-e29c-40ef-ad1c-04dc1310d0d2",
   "metadata": {},
   "source": [
    "### Type de données du tableau numpy"
   ]
  },
  {
   "cell_type": "code",
   "execution_count": 26,
   "id": "0378afb0-96fa-4b6a-b306-69eefae7841d",
   "metadata": {},
   "outputs": [],
   "source": [
    "python_list_int = [0, 1, 2, 3, 4, 5, 6, 7, 8, 9, 10]\n",
    "in_array_numpy = np.array(python_list_int)\n",
    "float_array_numpy = np.array(python_list_int, dtype='float')"
   ]
  },
  {
   "cell_type": "code",
   "execution_count": 27,
   "id": "d34f0cde-be94-4b2b-b6a3-944ccf36d628",
   "metadata": {},
   "outputs": [
    {
     "name": "stdout",
     "output_type": "stream",
     "text": [
      "int64\n",
      "float64\n"
     ]
    }
   ],
   "source": [
    "print(in_array_numpy.dtype)\n",
    "print(float_array_numpy.dtype)"
   ]
  },
  {
   "cell_type": "markdown",
   "id": "1e3b9eb2-06cf-408f-a727-da6c6ec9857a",
   "metadata": {},
   "source": [
    "### Taille d'un tableau numpy"
   ]
  },
  {
   "cell_type": "code",
   "execution_count": 28,
   "id": "7827a809-8732-485b-ba0f-adafa32febc3",
   "metadata": {},
   "outputs": [],
   "source": [
    "nums = np.array([0, 1, 2, 3, 4, 5, 6, 7, 8, 9, 10])\n",
    "numpy_multi_dim = np.array(\n",
    "    [\n",
    "        [0, 1, 2, 3], \n",
    "        [4, 5, 6, 7], \n",
    "        [8, 9, 10, 11]\n",
    "    ]\n",
    ")"
   ]
  },
  {
   "cell_type": "code",
   "execution_count": 29,
   "id": "f8606c4a-dff2-459f-8bc7-f3c93f1b2967",
   "metadata": {},
   "outputs": [
    {
     "name": "stdout",
     "output_type": "stream",
     "text": [
      "(11,)\n",
      "11\n"
     ]
    }
   ],
   "source": [
    "print(nums.shape)\n",
    "print(nums.size)"
   ]
  },
  {
   "cell_type": "code",
   "execution_count": 30,
   "id": "b3cc137f-2432-4d82-a833-d7e4a5238111",
   "metadata": {},
   "outputs": [
    {
     "name": "stdout",
     "output_type": "stream",
     "text": [
      "(3, 4)\n",
      "12\n"
     ]
    }
   ],
   "source": [
    "print(numpy_multi_dim.shape)\n",
    "print(numpy_multi_dim.size)"
   ]
  },
  {
   "cell_type": "markdown",
   "id": "1fc7d4c3-81d5-4d6f-9d90-d40e31d50492",
   "metadata": {},
   "source": [
    "### Opération mathématique utilisant numpy"
   ]
  },
  {
   "cell_type": "code",
   "execution_count": 31,
   "id": "21abdfe4-9a4c-405f-b212-997e5516ce04",
   "metadata": {},
   "outputs": [
    {
     "name": "stdout",
     "output_type": "stream",
     "text": [
      "[10 11 12 13 14 15 16 17 18 19 20]\n"
     ]
    }
   ],
   "source": [
    "nums = np.array([0, 1, 2, 3, 4, 5, 6, 7, 8, 9, 10])\n",
    "ten_addi_nums = nums + 10\n",
    "print(ten_addi_nums)"
   ]
  },
  {
   "cell_type": "code",
   "execution_count": 32,
   "id": "9e1ee734-1c78-4b8e-aba8-6e81e3197824",
   "metadata": {},
   "outputs": [
    {
     "name": "stdout",
     "output_type": "stream",
     "text": [
      "[  0   1   4   9  16  25  36  49  64  81 100]\n"
     ]
    }
   ],
   "source": [
    "nums = np.array([0, 1, 2, 3, 4, 5, 6, 7, 8, 9, 10])\n",
    "ten_axpo_nums = nums ** 2\n",
    "print(ten_axpo_nums)"
   ]
  },
  {
   "cell_type": "markdown",
   "id": "705cd476-12b7-4726-899b-ca47ff841122",
   "metadata": {},
   "source": [
    "## Indexation numpy\n",
    "### Obtenir des éléments d'un tableau numpy"
   ]
  },
  {
   "cell_type": "code",
   "execution_count": 33,
   "id": "1f045eb5-2eaa-497b-9e40-ea588172b220",
   "metadata": {},
   "outputs": [],
   "source": [
    "numpy_multi_dim = np.array(\n",
    "    [\n",
    "        [0, 1, 2, 3], \n",
    "        [4, 5, 6, 7], \n",
    "        [8, 9, 10, 11]\n",
    "    ]\n",
    ")"
   ]
  },
  {
   "cell_type": "code",
   "execution_count": 34,
   "id": "e682717a-4eaf-4c9c-8cba-46cf619929cd",
   "metadata": {},
   "outputs": [
    {
     "data": {
      "text/plain": [
       "(3, 4)"
      ]
     },
     "execution_count": 34,
     "metadata": {},
     "output_type": "execute_result"
    }
   ],
   "source": [
    "numpy_multi_dim.shape"
   ]
  },
  {
   "cell_type": "code",
   "execution_count": 35,
   "id": "4d73c71e-951b-414c-b4cd-46ec9b1330ab",
   "metadata": {},
   "outputs": [
    {
     "name": "stdout",
     "output_type": "stream",
     "text": [
      "1 Element [0 1 2 3]\n",
      "2 Element [4 5 6 7]\n",
      "3 Element [ 8  9 10 11]\n"
     ]
    }
   ],
   "source": [
    "firt_row = numpy_multi_dim[0]\n",
    "second_row = numpy_multi_dim[1]\n",
    "third_row = numpy_multi_dim[2]\n",
    "print('1 Element', firt_row)\n",
    "print('2 Element', second_row)\n",
    "print('3 Element', third_row)"
   ]
  },
  {
   "cell_type": "code",
   "execution_count": 36,
   "id": "b279edc4-f1b9-4470-a751-c33b40bd202e",
   "metadata": {},
   "outputs": [],
   "source": [
    "firt_row = [0, 1, 2, 3, 4, 5]"
   ]
  },
  {
   "cell_type": "code",
   "execution_count": 37,
   "id": "0fb931ee-fb85-495c-a30c-9ab18a6466ba",
   "metadata": {},
   "outputs": [
    {
     "data": {
      "text/plain": [
       "[0, 1, 2]"
      ]
     },
     "execution_count": 37,
     "metadata": {},
     "output_type": "execute_result"
    }
   ],
   "source": [
    "firt_row[:3]"
   ]
  },
  {
   "cell_type": "code",
   "execution_count": 38,
   "id": "cd086376-f286-43e8-a9e2-4118a6193a1f",
   "metadata": {},
   "outputs": [
    {
     "data": {
      "text/plain": [
       "[0, 3]"
      ]
     },
     "execution_count": 38,
     "metadata": {},
     "output_type": "execute_result"
    }
   ],
   "source": [
    "firt_row[::3]"
   ]
  },
  {
   "cell_type": "code",
   "execution_count": 39,
   "id": "8bc97121-1f53-4644-bc89-ceaea5fd4114",
   "metadata": {},
   "outputs": [],
   "source": [
    "numpy_multi_dim = np.array(\n",
    "    [\n",
    "        [0, 1, 2, 3], \n",
    "        [4, 5, 6, 7], \n",
    "        [8, 9, 10, 11]\n",
    "    ]\n",
    ")"
   ]
  },
  {
   "cell_type": "code",
   "execution_count": 40,
   "id": "d83f26b9-2a64-4134-b9d3-56dfb74d4375",
   "metadata": {},
   "outputs": [
    {
     "data": {
      "text/plain": [
       "(3, 4)"
      ]
     },
     "execution_count": 40,
     "metadata": {},
     "output_type": "execute_result"
    }
   ],
   "source": [
    "numpy_multi_dim.shape"
   ]
  },
  {
   "cell_type": "code",
   "execution_count": 41,
   "id": "403ceaad-24f0-4413-b00d-73f7e95ec00c",
   "metadata": {},
   "outputs": [],
   "source": [
    "test = numpy_multi_dim[:3, :5]"
   ]
  },
  {
   "cell_type": "code",
   "execution_count": 42,
   "id": "5c8a794a-fa87-4567-96ea-5bbe0c904cc7",
   "metadata": {},
   "outputs": [
    {
     "data": {
      "text/plain": [
       "array([[ 0,  1,  2,  3],\n",
       "       [ 4,  5,  6,  7],\n",
       "       [ 8,  9, 10, 11]])"
      ]
     },
     "execution_count": 42,
     "metadata": {},
     "output_type": "execute_result"
    }
   ],
   "source": [
    "test"
   ]
  },
  {
   "cell_type": "code",
   "execution_count": 43,
   "id": "e2d6c8d3-a248-45bb-a3cf-15ae11414761",
   "metadata": {},
   "outputs": [
    {
     "data": {
      "text/plain": [
       "array([[ 0,  1,  2,  3],\n",
       "       [ 4,  5,  6,  7],\n",
       "       [ 8,  9, 10, 11]])"
      ]
     },
     "execution_count": 43,
     "metadata": {},
     "output_type": "execute_result"
    }
   ],
   "source": [
    "numpy_multi_dim[::]"
   ]
  },
  {
   "cell_type": "code",
   "execution_count": 44,
   "id": "e81e616f-d885-4e9c-90fa-8e3588d2f11b",
   "metadata": {},
   "outputs": [
    {
     "data": {
      "text/plain": [
       "array([[11, 10,  9,  8],\n",
       "       [ 7,  6,  5,  4],\n",
       "       [ 3,  2,  1,  0]])"
      ]
     },
     "execution_count": 44,
     "metadata": {},
     "output_type": "execute_result"
    }
   ],
   "source": [
    "numpy_multi_dim[::-1, ::-1] ## Inverser"
   ]
  },
  {
   "cell_type": "code",
   "execution_count": 45,
   "id": "c814e37b-151f-4058-9544-9e8d0e08d8d9",
   "metadata": {},
   "outputs": [],
   "source": [
    "numpy_zeros = np.zeros((5, 6), dtype=int, order='C')"
   ]
  },
  {
   "cell_type": "code",
   "execution_count": 46,
   "id": "d4d4c1da-2230-4d56-b625-470b2fd0241e",
   "metadata": {},
   "outputs": [
    {
     "data": {
      "text/plain": [
       "array([[0, 0, 0, 0, 0, 0],\n",
       "       [0, 0, 0, 0, 0, 0],\n",
       "       [0, 0, 0, 0, 0, 0],\n",
       "       [0, 0, 0, 0, 0, 0],\n",
       "       [0, 0, 0, 0, 0, 0]])"
      ]
     },
     "execution_count": 46,
     "metadata": {},
     "output_type": "execute_result"
    }
   ],
   "source": [
    "numpy_zeros"
   ]
  },
  {
   "cell_type": "code",
   "execution_count": 49,
   "id": "c032197f-f1f1-43a4-bb97-9cd36bd093d6",
   "metadata": {},
   "outputs": [
    {
     "data": {
      "text/plain": [
       "array([[1, 1, 1, 1, 1, 1, 1, 1],\n",
       "       [1, 1, 1, 1, 1, 1, 1, 1],\n",
       "       [1, 1, 1, 1, 1, 1, 1, 1],\n",
       "       [1, 1, 1, 1, 1, 1, 1, 1],\n",
       "       [1, 1, 1, 1, 1, 1, 1, 1],\n",
       "       [1, 1, 1, 1, 1, 1, 1, 1],\n",
       "       [1, 1, 1, 1, 1, 1, 1, 1],\n",
       "       [1, 1, 1, 1, 1, 1, 1, 1],\n",
       "       [1, 1, 1, 1, 1, 1, 1, 1],\n",
       "       [1, 1, 1, 1, 1, 1, 1, 1]])"
      ]
     },
     "execution_count": 49,
     "metadata": {},
     "output_type": "execute_result"
    }
   ],
   "source": [
    "numpy_ones = np.ones((10, 8), dtype=int, order='C')\n",
    "numpy_ones"
   ]
  },
  {
   "cell_type": "markdown",
   "id": "a6466178-53b0-4f93-8978-b6baa25f3b2f",
   "metadata": {},
   "source": [
    "### Générer des nombres aléatoires"
   ]
  },
  {
   "cell_type": "code",
   "execution_count": 51,
   "id": "7138f9c2-89c7-46c1-8ab8-9ad09bddff49",
   "metadata": {},
   "outputs": [],
   "source": [
    "import random"
   ]
  },
  {
   "cell_type": "code",
   "execution_count": 54,
   "id": "176b29ef-43a9-4caa-8814-1df73d698885",
   "metadata": {},
   "outputs": [
    {
     "name": "stdout",
     "output_type": "stream",
     "text": [
      "0.5188699063407048\n"
     ]
    }
   ],
   "source": [
    "print(random.random())"
   ]
  },
  {
   "cell_type": "code",
   "execution_count": 57,
   "id": "a3871249-018f-49af-a6d5-9d3893e019ef",
   "metadata": {},
   "outputs": [
    {
     "name": "stdout",
     "output_type": "stream",
     "text": [
      "6\n"
     ]
    }
   ],
   "source": [
    "print(random.randint(0, 10))"
   ]
  },
  {
   "cell_type": "code",
   "execution_count": 66,
   "id": "c1c83fde-2939-4395-b08e-c1471109ad10",
   "metadata": {},
   "outputs": [
    {
     "data": {
      "text/plain": [
       "0.373890997646262"
      ]
     },
     "execution_count": 66,
     "metadata": {},
     "output_type": "execute_result"
    }
   ],
   "source": [
    "np.random.random()"
   ]
  },
  {
   "cell_type": "code",
   "execution_count": 60,
   "id": "eb98013c-7551-40d1-aa31-7c34189af7cd",
   "metadata": {},
   "outputs": [
    {
     "data": {
      "text/plain": [
       "0.7442832652034544"
      ]
     },
     "execution_count": 60,
     "metadata": {},
     "output_type": "execute_result"
    }
   ],
   "source": [
    "random_float = np.random.random()\n",
    "random_float"
   ]
  },
  {
   "cell_type": "code",
   "execution_count": 63,
   "id": "456229da-2f73-4aee-ab60-e39a939aedb4",
   "metadata": {},
   "outputs": [
    {
     "data": {
      "text/plain": [
       "array([0.78486251, 0.13858039, 0.05336254, 0.38862775, 0.5212803 ,\n",
       "       0.02619829, 0.61595353, 0.33680854, 0.87192321, 0.87261107,\n",
       "       0.09591879, 0.00719361, 0.47556553, 0.75644902, 0.25303492,\n",
       "       0.50838379, 0.29704023, 0.47390995, 0.66812638, 0.4443085 ])"
      ]
     },
     "execution_count": 63,
     "metadata": {},
     "output_type": "execute_result"
    }
   ],
   "source": [
    "random_floats = np.random.random(20)\n",
    "random_floats"
   ]
  },
  {
   "cell_type": "code",
   "execution_count": 62,
   "id": "e925145f-569a-434a-9e81-2b5ccb55c6a0",
   "metadata": {},
   "outputs": [
    {
     "data": {
      "text/plain": [
       "numpy.ndarray"
      ]
     },
     "execution_count": 62,
     "metadata": {},
     "output_type": "execute_result"
    }
   ],
   "source": [
    "type(random_floats)"
   ]
  },
  {
   "cell_type": "code",
   "execution_count": 65,
   "id": "e2195513-5fbc-4b7e-97db-a9558ebbd93e",
   "metadata": {},
   "outputs": [
    {
     "data": {
      "text/plain": [
       "4"
      ]
     },
     "execution_count": 65,
     "metadata": {},
     "output_type": "execute_result"
    }
   ],
   "source": [
    "random_int = np.random.randint(0, 11)\n",
    "random_int"
   ]
  },
  {
   "cell_type": "code",
   "execution_count": 68,
   "id": "541390b9-2f86-4738-832e-19139838a59f",
   "metadata": {},
   "outputs": [
    {
     "data": {
      "text/plain": [
       "array([7, 5, 4, 2])"
      ]
     },
     "execution_count": 68,
     "metadata": {},
     "output_type": "execute_result"
    }
   ],
   "source": [
    "random_int_unidi = np.random.randint(0, 10, size=4)\n",
    "random_int_unidi"
   ]
  },
  {
   "cell_type": "code",
   "execution_count": 69,
   "id": "5073add4-1868-4099-8546-c28f33035558",
   "metadata": {},
   "outputs": [
    {
     "data": {
      "text/plain": [
       "array([[8, 8, 4],\n",
       "       [8, 2, 1],\n",
       "       [2, 0, 6]])"
      ]
     },
     "execution_count": 69,
     "metadata": {},
     "output_type": "execute_result"
    }
   ],
   "source": [
    "random_int_multi = np.random.randint(0, 10, size=(3, 3))\n",
    "random_int_multi"
   ]
  },
  {
   "cell_type": "code",
   "execution_count": 74,
   "id": "26f78a9a-eca6-4257-a859-16cf74a93ffa",
   "metadata": {},
   "outputs": [
    {
     "data": {
      "text/plain": [
       "array([[ 73.15433895,  68.06397374,  76.54015813,  60.26695449,\n",
       "         93.83041253,  73.31074086,  82.33906207,  73.30558338],\n",
       "       [ 71.83127736,  86.25081746,  87.8675826 ,  83.51889539,\n",
       "         57.71333203,  61.1901935 ,  78.28161248,  99.51297402],\n",
       "       [ 87.53780051,  70.7481054 ,  73.8245949 ,  64.21653107,\n",
       "        113.93769551,  66.57036247, 107.28400778,  83.64044826],\n",
       "       [ 77.67674532,  49.67973178,  76.63731325,  74.23890931,\n",
       "         56.27442479,  79.70572579,  83.73688371,  64.19918562],\n",
       "       [ 76.92449853,  62.69457519,  56.74230259,  86.03283803,\n",
       "         99.02850793,  79.7273099 ,  93.0019569 ,  82.93123163]])"
      ]
     },
     "execution_count": 74,
     "metadata": {},
     "output_type": "execute_result"
    }
   ],
   "source": [
    "# normal_array = np.random.normal(mu, sigma, size)\n",
    "normal_array = np.random.normal(79, 15, (5, 8))\n",
    "normal_array"
   ]
  },
  {
   "cell_type": "code",
   "execution_count": 76,
   "id": "50a75b7e-30fa-450f-8141-94d64ff0b91b",
   "metadata": {},
   "outputs": [
    {
     "data": {
      "text/plain": [
       "(5, 8)"
      ]
     },
     "execution_count": 76,
     "metadata": {},
     "output_type": "execute_result"
    }
   ],
   "source": [
    "normal_array.shape"
   ]
  },
  {
   "cell_type": "code",
   "execution_count": 84,
   "id": "e11ecb0b-16a0-4232-9a35-ea238a40796e",
   "metadata": {},
   "outputs": [],
   "source": [
    "empty_normal_array = np.empty_like(normal_array)"
   ]
  },
  {
   "cell_type": "code",
   "execution_count": 85,
   "id": "2b521721-0e91-4d30-8161-664eaab8a471",
   "metadata": {},
   "outputs": [
    {
     "data": {
      "text/plain": [
       "(5, 8)"
      ]
     },
     "execution_count": 85,
     "metadata": {},
     "output_type": "execute_result"
    }
   ],
   "source": [
    "empty_normal_array.shape"
   ]
  },
  {
   "cell_type": "code",
   "execution_count": 82,
   "id": "bf94d688-c4ba-4dd6-bcaa-e93eb25a7a1a",
   "metadata": {},
   "outputs": [
    {
     "data": {
      "text/plain": [
       "array([[0., 0., 0., 0., 0., 0., 0., 0.],\n",
       "       [0., 0., 0., 0., 0., 0., 0., 0.],\n",
       "       [0., 0., 0., 0., 0., 0., 0., 0.],\n",
       "       [0., 0., 0., 0., 0., 0., 0., 0.],\n",
       "       [0., 0., 0., 0., 0., 0., 0., 0.]])"
      ]
     },
     "execution_count": 82,
     "metadata": {},
     "output_type": "execute_result"
    }
   ],
   "source": [
    "empty_normal_array"
   ]
  },
  {
   "cell_type": "code",
   "execution_count": 86,
   "id": "56de24cd-db90-4d6c-b81a-bfad27204a86",
   "metadata": {},
   "outputs": [
    {
     "data": {
      "text/plain": [
       "(5, 8)"
      ]
     },
     "execution_count": 86,
     "metadata": {},
     "output_type": "execute_result"
    }
   ],
   "source": [
    "empty_zero_normal_array = np.zeros_like(normal_array)\n",
    "empty_zero_normal_array.shape"
   ]
  },
  {
   "cell_type": "code",
   "execution_count": 87,
   "id": "ff31ac73-ef2b-4a17-a531-053c317613f6",
   "metadata": {},
   "outputs": [
    {
     "data": {
      "text/plain": [
       "array([ 0. ,  2.5,  5. ,  7.5, 10. , 12.5, 15. , 17.5, 20. , 22.5, 25. ,\n",
       "       27.5])"
      ]
     },
     "execution_count": 87,
     "metadata": {},
     "output_type": "execute_result"
    }
   ],
   "source": [
    "array_rng = np.arange(start = 0, stop =  30, step = 2.5)\n",
    "array_rng"
   ]
  },
  {
   "cell_type": "code",
   "execution_count": 88,
   "id": "99364e46-aa38-4219-b492-99b38ac24bdb",
   "metadata": {},
   "outputs": [
    {
     "data": {
      "text/plain": [
       "array([ 0,  2,  4,  6,  8, 10, 12, 14, 16, 18, 20, 22], dtype=int32)"
      ]
     },
     "execution_count": 88,
     "metadata": {},
     "output_type": "execute_result"
    }
   ],
   "source": [
    "array_rng = np.arange(start = 0, stop =  30, step = 2.5, dtype = np.int32)\n",
    "array_rng\n"
   ]
  },
  {
   "cell_type": "code",
   "execution_count": null,
   "id": "39289693-d478-4f0f-a6ef-f6a03fccf715",
   "metadata": {},
   "outputs": [],
   "source": []
  },
  {
   "cell_type": "markdown",
   "id": "07bf581f-135c-463a-b50c-ea54905583a7",
   "metadata": {},
   "source": [
    "### Matrice en numpy"
   ]
  },
  {
   "cell_type": "code",
   "execution_count": 107,
   "id": "63689ff6-3974-4b77-aa25-b2b04d96e5de",
   "metadata": {},
   "outputs": [
    {
     "data": {
      "text/plain": [
       "array([[0, 0, 0, 0],\n",
       "       [0, 0, 0, 0],\n",
       "       [0, 0, 0, 0],\n",
       "       [0, 0, 0, 0]])"
      ]
     },
     "execution_count": 107,
     "metadata": {},
     "output_type": "execute_result"
    }
   ],
   "source": [
    "four_by_four_array = np.zeros((4, 4), dtype=int)\n",
    "four_by_four_array"
   ]
  },
  {
   "cell_type": "code",
   "execution_count": 108,
   "id": "dbcb7238-0a67-466b-a272-c8f9c1dff1a3",
   "metadata": {},
   "outputs": [
    {
     "data": {
      "text/plain": [
       "numpy.ndarray"
      ]
     },
     "execution_count": 108,
     "metadata": {},
     "output_type": "execute_result"
    }
   ],
   "source": [
    "type(four_by_four_array)"
   ]
  },
  {
   "cell_type": "code",
   "execution_count": 112,
   "id": "67b56840-a57f-43aa-b9c7-ef1c48aa7a19",
   "metadata": {},
   "outputs": [],
   "source": [
    "four_by_four_matrix = np.matrix(np.zeros((4, 4), dtype=int), dtype=int)"
   ]
  },
  {
   "cell_type": "code",
   "execution_count": 113,
   "id": "4744bf52-869d-4463-9199-e52a58f4f23f",
   "metadata": {},
   "outputs": [
    {
     "data": {
      "text/plain": [
       "matrix([[0, 0, 0, 0],\n",
       "        [0, 0, 0, 0],\n",
       "        [0, 0, 0, 0],\n",
       "        [0, 0, 0, 0]])"
      ]
     },
     "execution_count": 113,
     "metadata": {},
     "output_type": "execute_result"
    }
   ],
   "source": [
    "four_by_four_matrix"
   ]
  },
  {
   "cell_type": "code",
   "execution_count": 94,
   "id": "848d837c-134a-48cc-ba9c-7edec08748ca",
   "metadata": {},
   "outputs": [
    {
     "data": {
      "text/plain": [
       "numpy.matrix"
      ]
     },
     "execution_count": 94,
     "metadata": {},
     "output_type": "execute_result"
    }
   ],
   "source": [
    "type(four_by_four_matrix)"
   ]
  },
  {
   "cell_type": "markdown",
   "id": "7cb04cbd-014a-4e4a-939b-825b9fd0271f",
   "metadata": {},
   "source": [
    "### Fonctions statistiques NumPy"
   ]
  },
  {
   "cell_type": "code",
   "execution_count": 97,
   "id": "12b074b6-ccd0-4054-bd05-eba72fdb5652",
   "metadata": {},
   "outputs": [],
   "source": [
    "np_normal_distri = np.random.normal(5, 0.5, 100)"
   ]
  },
  {
   "cell_type": "code",
   "execution_count": 98,
   "id": "5767162a-5eff-4cc6-92a4-1dbe249850a9",
   "metadata": {},
   "outputs": [
    {
     "data": {
      "text/plain": [
       "array([6.07669063, 5.63489005, 4.76098295, 5.59485498, 4.57426566,\n",
       "       4.66705104, 4.76287221, 5.09804359, 5.01241124, 4.90238558,\n",
       "       5.59429769, 5.51490771, 5.68827196, 4.73123717, 4.85065679,\n",
       "       3.86172216, 5.2517709 , 4.47964066, 4.88583612, 4.88474037,\n",
       "       4.73785286, 5.04081086, 5.31232199, 4.49304261, 4.67876272,\n",
       "       4.02718269, 4.44887676, 4.50009304, 6.70842602, 4.91655978,\n",
       "       4.95785695, 5.14137988, 4.40128201, 5.36253819, 4.75929778,\n",
       "       4.89602232, 5.38564428, 4.98617447, 5.22186174, 4.4397134 ,\n",
       "       5.13057524, 4.90272964, 4.75788858, 3.93210092, 4.7149752 ,\n",
       "       5.33926974, 5.80092236, 4.48193644, 5.01107518, 4.82740279,\n",
       "       4.45512939, 4.45578072, 4.51316196, 5.35405596, 5.05865431,\n",
       "       4.49118623, 5.91867648, 4.89954664, 4.57158823, 5.02722263,\n",
       "       4.71270532, 4.36846386, 4.94597234, 4.5432835 , 4.47225483,\n",
       "       5.06367768, 4.45963559, 5.18723664, 4.46482537, 4.18755835,\n",
       "       4.69781135, 4.65203971, 5.16037647, 4.12724968, 5.37395462,\n",
       "       4.4229327 , 5.1795878 , 4.73624094, 5.89824593, 4.2491731 ,\n",
       "       5.42390065, 5.41294081, 5.10641783, 5.44956906, 4.96547206,\n",
       "       4.44639954, 5.28133632, 4.33502958, 5.13273511, 4.63345851,\n",
       "       5.22648402, 4.88377652, 4.49088496, 4.47723608, 5.44815353,\n",
       "       5.54312449, 4.71300169, 5.37012063, 4.6000517 , 5.06219877])"
      ]
     },
     "execution_count": 98,
     "metadata": {},
     "output_type": "execute_result"
    }
   ],
   "source": [
    "np_normal_distri"
   ]
  },
  {
   "cell_type": "code",
   "execution_count": 115,
   "id": "dfa4bfd3-c4d1-4b96-b94c-87cf8e26a85f",
   "metadata": {},
   "outputs": [
    {
     "name": "stdout",
     "output_type": "stream",
     "text": [
      "Min : 3.861722158649563\n",
      "Max : 6.708426017043959\n",
      "Moyenne : 4.917926261304927\n",
      "Stanrd Deviation : 0.4836226731833408\n"
     ]
    }
   ],
   "source": [
    "print(\"Min :\", np_normal_distri.min())\n",
    "print(\"Max :\", np_normal_distri.max())\n",
    "print(\"Moyenne :\", np_normal_distri.mean())\n",
    "# print(\"Mediane :\", np_normal_distri.median())\n",
    "print(\"Stanrd Deviation :\", np_normal_distri.std())"
   ]
  },
  {
   "cell_type": "code",
   "execution_count": null,
   "id": "bc448bcb-917f-4a52-af8d-7a7c050c2cb5",
   "metadata": {},
   "outputs": [],
   "source": []
  },
  {
   "cell_type": "code",
   "execution_count": 116,
   "id": "fc71bc59-95ea-42b5-b97d-0b603d592d67",
   "metadata": {},
   "outputs": [],
   "source": [
    "np_normal_distri1 = np.random.normal(5, 0.5, (3, 4))"
   ]
  },
  {
   "cell_type": "code",
   "execution_count": 117,
   "id": "a1e0115d-6c1f-48f1-8df1-52b2e42ddac4",
   "metadata": {},
   "outputs": [
    {
     "data": {
      "text/plain": [
       "array([[5.01781983, 5.24439986, 5.59958292, 5.00293599],\n",
       "       [5.38385199, 4.5920841 , 4.61051933, 5.28162876],\n",
       "       [4.93685932, 5.4727516 , 5.48467678, 4.82671922]])"
      ]
     },
     "execution_count": 117,
     "metadata": {},
     "output_type": "execute_result"
    }
   ],
   "source": [
    "np_normal_distri1"
   ]
  },
  {
   "cell_type": "code",
   "execution_count": 118,
   "id": "4ede65fc-faf1-4de2-b832-c76215f68a49",
   "metadata": {},
   "outputs": [
    {
     "name": "stdout",
     "output_type": "stream",
     "text": [
      "[5.11284372 5.10307852 5.23159301 5.03709466]\n"
     ]
    }
   ],
   "source": [
    "print(np.mean(np_normal_distri1, axis=0))"
   ]
  },
  {
   "cell_type": "code",
   "execution_count": 119,
   "id": "92a0ad0d-1f43-40d4-a2b2-ee943a31d2d1",
   "metadata": {},
   "outputs": [
    {
     "name": "stdout",
     "output_type": "stream",
     "text": [
      "[5.21618465 4.96702105 5.18025173]\n"
     ]
    }
   ],
   "source": [
    "print(np.mean(np_normal_distri1, axis=1))"
   ]
  },
  {
   "cell_type": "code",
   "execution_count": 120,
   "id": "db3789db-0445-4a89-ac43-388ccd0d1da3",
   "metadata": {},
   "outputs": [],
   "source": [
    "x = np.array([[1, 2, 3], [4, 5, 6]])"
   ]
  },
  {
   "cell_type": "code",
   "execution_count": 121,
   "id": "c3e8ea3f-18cb-4313-bca0-51b75dec628a",
   "metadata": {},
   "outputs": [
    {
     "data": {
      "text/plain": [
       "array([[1, 2, 3],\n",
       "       [4, 5, 6]])"
      ]
     },
     "execution_count": 121,
     "metadata": {},
     "output_type": "execute_result"
    }
   ],
   "source": [
    "x"
   ]
  },
  {
   "cell_type": "code",
   "execution_count": 127,
   "id": "1300856d-adb7-4534-9eaa-f210212bb877",
   "metadata": {},
   "outputs": [
    {
     "name": "stdout",
     "output_type": "stream",
     "text": [
      "[2.5 3.5 4.5]\n"
     ]
    }
   ],
   "source": [
    "print(np.mean(x, axis=0))"
   ]
  },
  {
   "cell_type": "code",
   "execution_count": 125,
   "id": "2929c26c-695f-493b-897b-68e0a641134f",
   "metadata": {},
   "outputs": [
    {
     "name": "stdout",
     "output_type": "stream",
     "text": [
      "[2. 5.]\n"
     ]
    }
   ],
   "source": [
    "print(np.mean(x, axis=1))"
   ]
  },
  {
   "cell_type": "code",
   "execution_count": 128,
   "id": "56db5d10-a574-43e5-b397-4d9b5b8f1830",
   "metadata": {},
   "outputs": [
    {
     "data": {
      "text/plain": [
       "array([6.07669063, 5.63489005, 4.76098295, 5.59485498, 4.57426566,\n",
       "       4.66705104, 4.76287221, 5.09804359, 5.01241124, 4.90238558,\n",
       "       5.59429769, 5.51490771, 5.68827196, 4.73123717, 4.85065679,\n",
       "       3.86172216, 5.2517709 , 4.47964066, 4.88583612, 4.88474037,\n",
       "       4.73785286, 5.04081086, 5.31232199, 4.49304261, 4.67876272,\n",
       "       4.02718269, 4.44887676, 4.50009304, 6.70842602, 4.91655978,\n",
       "       4.95785695, 5.14137988, 4.40128201, 5.36253819, 4.75929778,\n",
       "       4.89602232, 5.38564428, 4.98617447, 5.22186174, 4.4397134 ,\n",
       "       5.13057524, 4.90272964, 4.75788858, 3.93210092, 4.7149752 ,\n",
       "       5.33926974, 5.80092236, 4.48193644, 5.01107518, 4.82740279,\n",
       "       4.45512939, 4.45578072, 4.51316196, 5.35405596, 5.05865431,\n",
       "       4.49118623, 5.91867648, 4.89954664, 4.57158823, 5.02722263,\n",
       "       4.71270532, 4.36846386, 4.94597234, 4.5432835 , 4.47225483,\n",
       "       5.06367768, 4.45963559, 5.18723664, 4.46482537, 4.18755835,\n",
       "       4.69781135, 4.65203971, 5.16037647, 4.12724968, 5.37395462,\n",
       "       4.4229327 , 5.1795878 , 4.73624094, 5.89824593, 4.2491731 ,\n",
       "       5.42390065, 5.41294081, 5.10641783, 5.44956906, 4.96547206,\n",
       "       4.44639954, 5.28133632, 4.33502958, 5.13273511, 4.63345851,\n",
       "       5.22648402, 4.88377652, 4.49088496, 4.47723608, 5.44815353,\n",
       "       5.54312449, 4.71300169, 5.37012063, 4.6000517 , 5.06219877])"
      ]
     },
     "execution_count": 128,
     "metadata": {},
     "output_type": "execute_result"
    }
   ],
   "source": [
    "np_normal_distri"
   ]
  },
  {
   "cell_type": "code",
   "execution_count": 134,
   "id": "27596b29-39c1-4bdf-a1aa-fd0db81eed93",
   "metadata": {},
   "outputs": [],
   "source": [
    "import matplotlib.pyplot as plt"
   ]
  },
  {
   "cell_type": "code",
   "execution_count": 135,
   "id": "3fa53f64-0e82-4897-90de-dd3c1a76d6dc",
   "metadata": {},
   "outputs": [
    {
     "data": {
      "image/png": "[encoded data removed]",
      "text/plain": [
       "<Figure size 640x480 with 1 Axes>"
      ]
     },
     "metadata": {},
     "output_type": "display_data"
    }
   ],
   "source": [
    "plt.hist(np_normal_distri, color=\"gray\", bins=21)\n",
    "plt.show()"
   ]
  },
  {
   "cell_type": "code",
   "execution_count": null,
   "id": "6fa1f97d-6d76-445f-919e-2ec8b97fcbbe",
   "metadata": {},
   "outputs": [],
   "source": []
  },
  {
   "cell_type": "code",
   "execution_count": null,
   "id": "e6250fc1-b55b-4738-b0cb-c058babd8e0b",
   "metadata": {},
   "outputs": [],
   "source": []
  },
  {
   "cell_type": "code",
   "execution_count": null,
   "id": "ca71ee9b-1306-423e-99fb-15d6f66fba9d",
   "metadata": {},
   "outputs": [],
   "source": []
  },
  {
   "cell_type": "code",
   "execution_count": null,
   "id": "8b3cad9a-5bc5-4d37-a68a-47f72dfa42d4",
   "metadata": {},
   "outputs": [],
   "source": []
  },
  {
   "cell_type": "code",
   "execution_count": null,
   "id": "083aa3ee-3c22-4b40-9b68-4152a22ff87a",
   "metadata": {},
   "outputs": [],
   "source": []
  },
  {
   "cell_type": "code",
   "execution_count": null,
   "id": "39a5d07b-1842-41f5-b258-68ef77c445c4",
   "metadata": {},
   "outputs": [],
   "source": []
  },
  {
   "cell_type": "code",
   "execution_count": null,
   "id": "76d5d81a-3470-4378-9b84-48104350bacb",
   "metadata": {},
   "outputs": [],
   "source": []
  },
  {
   "cell_type": "code",
   "execution_count": null,
   "id": "2e249279-8369-42e3-9112-80be97811a4f",
   "metadata": {},
   "outputs": [],
   "source": []
  },
  {
   "cell_type": "code",
   "execution_count": null,
   "id": "8293c211-8458-42b9-a42f-bcaa73584d20",
   "metadata": {},
   "outputs": [],
   "source": []
  },
  {
   "cell_type": "code",
   "execution_count": null,
   "id": "0c14cb6f-a6cb-476d-a057-5e1c7599d168",
   "metadata": {},
   "outputs": [],
   "source": []
  },
  {
   "cell_type": "code",
   "execution_count": null,
   "id": "08979d51-8f15-48ad-9dca-32fceb2c1204",
   "metadata": {},
   "outputs": [],
   "source": []
  },
  {
   "cell_type": "code",
   "execution_count": null,
   "id": "9dd54415-9b49-4258-a266-250ddcd5bb91",
   "metadata": {},
   "outputs": [],
   "source": []
  },
  {
   "cell_type": "code",
   "execution_count": null,
   "id": "5bb664ad-f18b-4bc1-ba19-a156a93c4e8b",
   "metadata": {},
   "outputs": [],
   "source": []
  },
  {
   "cell_type": "code",
   "execution_count": null,
   "id": "721ed7a4-9f14-48ae-91d5-f0973cf45fba",
   "metadata": {},
   "outputs": [],
   "source": []
  },
  {
   "cell_type": "code",
   "execution_count": null,
   "id": "112981e9-f4d9-4d70-a559-bb9ea814e2ea",
   "metadata": {},
   "outputs": [],
   "source": []
  },
  {
   "cell_type": "code",
   "execution_count": null,
   "id": "37d8a35d-e1e1-4a3a-86ec-2168f65dd54a",
   "metadata": {},
   "outputs": [],
   "source": []
  },
  {
   "cell_type": "code",
   "execution_count": null,
   "id": "65b67051-1388-45ce-ae76-c4a3ee4fe321",
   "metadata": {},
   "outputs": [],
   "source": []
  },
  {
   "cell_type": "code",
   "execution_count": null,
   "id": "edce624d-313c-4698-ba91-37ef3f3dcf3a",
   "metadata": {},
   "outputs": [],
   "source": []
  },
  {
   "cell_type": "code",
   "execution_count": null,
   "id": "69a3d488-91bd-4578-ac63-09337fc9f8ed",
   "metadata": {},
   "outputs": [],
   "source": []
  },
  {
   "cell_type": "code",
   "execution_count": null,
   "id": "c774af45-8582-48b2-842e-6f6b3fa1b262",
   "metadata": {},
   "outputs": [],
   "source": []
  },
  {
   "cell_type": "code",
   "execution_count": null,
   "id": "4b8c07cf-5dc6-42d9-a040-41798b16d789",
   "metadata": {},
   "outputs": [],
   "source": []
  },
  {
   "cell_type": "code",
   "execution_count": null,
   "id": "3bf90582-d3b6-455d-89d7-8e275f90a5ab",
   "metadata": {},
   "outputs": [],
   "source": []
  },
  {
   "cell_type": "code",
   "execution_count": null,
   "id": "1e16ac09-bfd5-4f0c-8388-c8e26c5946ca",
   "metadata": {},
   "outputs": [],
   "source": []
  },
  {
   "cell_type": "code",
   "execution_count": null,
   "id": "7bc31cb0-1cca-422f-a066-9ffd7c7669f3",
   "metadata": {},
   "outputs": [],
   "source": []
  },
  {
   "cell_type": "code",
   "execution_count": null,
   "id": "d0b622af-58bf-4c2f-bece-638e04edf5cc",
   "metadata": {},
   "outputs": [],
   "source": []
  }
 ],
 "metadata": {
  "kernelspec": {
   "display_name": "Python 3 (ipykernel)",
   "language": "python",
   "name": "python3"
  },
  "language_info": {
   "codemirror_mode": {
    "name": "ipython",
    "version": 3
   },
   "file_extension": ".py",
   "mimetype": "text/x-python",
   "name": "python",
   "nbconvert_exporter": "python",
   "pygments_lexer": "ipython3",
   "version": "3.11.7"
  }
 },
 "nbformat": 4,
 "nbformat_minor": 5
}
