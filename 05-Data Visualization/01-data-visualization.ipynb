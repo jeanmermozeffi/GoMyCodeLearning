{
 "cells": [
  {
   "cell_type": "markdown",
   "id": "0",
   "metadata": {},
   "source": [
    "## Pourquoi apprendre la visualisation des données ?\n",
    "- 1. Communication Efficace des Informations\n",
    "  2. Prise de Décision Informée\n",
    "  3. Détection des Problèmes et des Opportunités\n",
    "  4. Engagement et Persuasion\n",
    "  5. Compétence Transversale\n",
    "  6. Facilitation de la Collaboration\n",
    "  7. Accessibilité et Inclusion"
   ]
  },
  {
   "cell_type": "markdown",
   "id": "1",
   "metadata": {},
   "source": [
    "### Étapes pour Choisir la Bonne Visualisation\n",
    "\n",
    "#### Comprendre le But de Votre Visualisation\n",
    "\n",
    "1. **Exploration** : Vous cherchez à explorer les données pour trouver des insights ?\n",
    "2. **Explication** : Vous souhaitez expliquer ou présenter une conclusion tirée des données ?\n",
    "3. **Comparaison** : Vous devez comparer des valeurs ou des catégories ?\n",
    "4. **Distribution** : Vous souhaitez montrer comment les données sont réparties ?\n",
    "5. **Relation** : Vous voulez montrer la relation entre deux ou plusieurs variables ?\n",
    "6. **Composition** : Vous souhaitez montrer la composition d'un ensemble ?\n",
    "\n",
    "#### Connaître Vos Données\n",
    "\n",
    "1. **Type de données** : S'agit-il de données quantitatives (numériques) ou qualitatives (catégoriques) ?\n",
    "2. **Dimensions des données** : Combien de variables et d’observations avez-vous ?\n",
    "3. **Nature des variables** : Sont-elles continues, discrètes, ordonnées, ou nominales ?"
   ]
  },
  {
   "cell_type": "markdown",
   "id": "2",
   "metadata": {},
   "source": [
    "### Concepts Clés\n",
    "\n",
    "#### Types de Visualisation\n",
    "\n",
    "- **Graphiques en barres** : Pour comparer des catégories distinctes.\n",
    "- **Graphiques linéaires** : Pour afficher les tendances dans le temps.\n",
    "- **Graphiques en secteurs** : Pour montrer la part de chaque catégorie dans un ensemble.\n",
    "- **Graphiques à nuage de points** : Pour explorer les relations entre deux variables.\n",
    "- **Histogrammes** : Pour représenter la distribution des données.\n",
    "- **Cartes de chaleur (Heatmaps)** : Pour montrer la densité ou l'intensité des données.\n",
    "\n",
    "#### Principes de Base\n",
    "\n",
    "- **Clarté** : La visualisation doit être facile à comprendre.\n",
    "- **Précision** : Les données doivent être représentées de manière fidèle.\n",
    "- **Esthétique** : La visualisation doit être attrayante visuellement mais sans sacrifier la précision et la clarté.\n",
    "- **Interactivité** : Dans certains cas, permettre l'interaction avec la visualisation pour explorer les données en profondeur.\n",
    "\n",
    "#### Outils Couramment Utilisés\n",
    "\n",
    "- **Tableau** : Un outil puissant pour la visualisation de données interactives. Il permet de créer des tableaux de bord et des rapports dynamiques.\n",
    "- **Power BI** : Une autre solution de Microsoft pour les tableaux de bord interactifs et les rapports.\n",
    "- **Excel** : Offre des capacités de visualisation de base mais est largement utilisé en raison de sa familiarité et de sa facilité d'utilisation.\n",
    "- **Matplotlib et Seaborn (Python)** : Bibliothèques Python pour créer des visualisations statiques, animées et interactives.\n",
    "- **D3.js** : Une bibliothèque JavaScript pour produire des visualisations de données dynamiques et interactives dans les navigateurs web.\n",
    "- **ggplot2 (R)** : Une bibliothèque R pour la création de visualisations basées sur la \"grammaire des graphiques\".\n",
    "\n",
    "#### Exemples\n",
    "\n",
    "- **Analyse des Ventes** : Utilisation de graphiques en barres et de cartes de chaleur pour identifier les produits les plus vendus et les tendances saisonnières.\n",
    "- **Surveillance de la Santé Publique** : Utilisation de graphiques linéaires et de cartes géographiques pour suivre la propagation d'une maladie.\n",
    "- **Analyse Financière** : Utilisation de graphiques linéaires et de nuages de points pour analyser les tendances boursières et les relations entre différents indices."
   ]
  },
  {
   "cell_type": "code",
   "execution_count": null,
   "id": "3",
   "metadata": {},
   "outputs": [],
   "source": [
    "import pandas as pd"
   ]
  },
  {
   "cell_type": "code",
   "execution_count": null,
   "id": "4",
   "metadata": {},
   "outputs": [],
   "source": [
    "# Création du DataFrame avec les caractéristiques comparées\n",
    "data = {\n",
    "    'Caractéristique': [\n",
    "        'Complexité',\n",
    "        'Personnalisation',\n",
    "        'Types de graphiques',\n",
    "        'Esthétique par défaut',\n",
    "        'Intégration avec pandas'\n",
    "    ],\n",
    "    'Matplotlib': [\n",
    "        'Plus bas niveau, plus flexible',\n",
    "        'Très élevée',\n",
    "        'Très variés',\n",
    "        'Basique',\n",
    "        'Bonne'\n",
    "    ],\n",
    "    'Seaborn': [\n",
    "        'Plus haut niveau, plus simple',\n",
    "        'Limitée par rapport à Matplotlib',\n",
    "        'Axés sur les statistiques',\n",
    "        'Plus esthétique',\n",
    "        'Excellente'\n",
    "    ]\n",
    "}\n",
    "\n",
    "df_comparison = pd.DataFrame(data)"
   ]
  },
  {
   "cell_type": "code",
   "execution_count": null,
   "id": "5",
   "metadata": {},
   "outputs": [],
   "source": [
    "df_comparison"
   ]
  },
  {
   "cell_type": "code",
   "execution_count": null,
   "id": "6",
   "metadata": {},
   "outputs": [],
   "source": [
    "# Installation deplotly\n",
    "!pip install plotly==5.22.0"
   ]
  },
  {
   "cell_type": "markdown",
   "id": "7",
   "metadata": {},
   "source": [
    "## Graphique à barres"
   ]
  },
  {
   "cell_type": "markdown",
   "id": "8",
   "metadata": {},
   "source": [
    "### Pourquoi Utiliser un Graphique à Barres\n",
    "\n",
    "1. **Clarté et Lisibilité** :\n",
    "   - Les graphiques à barres permettent de comparer facilement différentes catégories entre elles.\n",
    "   - La longueur de chaque barre représente la valeur de chaque catégorie, ce qui facilite la visualisation et la comparaison.\n",
    "\n",
    "2. **Flexibilité** :\n",
    "   - Les graphiques à barres peuvent être utilisés pour une large gamme de données, qu'il s'agisse de données absolues ou de pourcentages.\n",
    "   - Ils peuvent représenter des données continues ou discrètes.\n",
    "\n",
    "3. **Efficacité Visuelle** :\n",
    "   - Les graphiques à barres sont visuellement intuitifs.\n",
    "   - Ils permettent aux spectateurs de comprendre rapidement les différences et les tendances dans les données.\n",
    "\n",
    "4. **Comparaison Facile** :\n",
    "   - Ils sont particulièrement efficaces pour comparer les valeurs de plusieurs catégories les unes par rapport aux autres, ce qui est utile pour identifier les plus grandes et les plus petites valeurs dans un ensemble de données.\n",
    "\n",
    "### Quand Utiliser un Graphique à Barres\n",
    "\n",
    "1. **Comparaison de Catégories** :\n",
    "   - Lorsque vous avez des catégories distinctes et que vous souhaitez comparer leurs valeurs.\n",
    "   - Par exemple, comparer les ventes de différents produits, les notes des étudiants par matière, ou la répartition du budget par département.\n",
    "\n",
    "2. **Affichage de Fréquences** :\n",
    "   - Pour montrer la fréquence d'occurrence de différentes catégories dans un ensemble de données.\n",
    "   - Par exemple, le nombre de réponses pour différentes options dans un sondage.\n",
    "\n",
    "3. **Visualisation de Données Nominales ou Ordinales** :\n",
    "   - Les graphiques à barres sont parfaits pour visualiser des données nominales (catégories sans ordre spécifique) ou ordinales (catégories avec un ordre spécifique).\n",
    "\n",
    "4. **Analyse Temporelle avec Catégories** :\n",
    "   - Lors de l'analyse des données temporelles où chaque barre représente une période spécifique.\n",
    "   - Par exemple, les ventes mensuelles d'un produit sur une année."
   ]
  },
  {
   "cell_type": "code",
   "execution_count": null,
   "id": "9",
   "metadata": {},
   "outputs": [],
   "source": [
    "import pandas as pd\n",
    "import plotly.express as px"
   ]
  },
  {
   "cell_type": "code",
   "execution_count": null,
   "id": "10",
   "metadata": {},
   "outputs": [],
   "source": [
    "df = pd.read_csv(\"DataSets/used cars.csv\")\n",
    "df.head(10)"
   ]
  },
  {
   "cell_type": "code",
   "execution_count": null,
   "id": "11",
   "metadata": {},
   "outputs": [],
   "source": [
    "df.columns"
   ]
  },
  {
   "cell_type": "code",
   "execution_count": null,
   "id": "12",
   "metadata": {},
   "outputs": [],
   "source": [
    "## Créer un graphique à barres en utilisant Plotly \n",
    "fig = px.bar(df, x=\"Brand\", y=\"Cars Listings\", color=\"Cars Listings\", height=400)\n",
    "# Afficher le graphique à barres\n",
    "fig.show()"
   ]
  },
  {
   "cell_type": "code",
   "execution_count": null,
   "id": "13",
   "metadata": {},
   "outputs": [],
   "source": [
    "# Créer un graphique à barres en utilisant Plotly \n",
    "fig = px.bar(df, x=\"Brand\", y=\"Cars Listings\", color=\"Cars Listings\", height=400)\n",
    "# Ajouter un titre et des étiquettes aux axes x et y\n",
    "fig.update_layout(title_text=\"Cars Listings by Brand\", xaxis_title=\"Marque\", yaxis_title=\"Fréquence\")\n",
    "# Personnalisez l'échelle de couleur et ajoutez une barre de couleur \n",
    "fig.update_traces(marker=dict(color='red', opacity=0.7, line=dict(color='blue', width=2.5)))\n",
    "fig.update_layout(coloraxis_colorbar=dict(title=\"Cars Listings\"))\n",
    "# Afficher le graphique à barres\n",
    "fig.show()"
   ]
  },
  {
   "cell_type": "code",
   "execution_count": null,
   "id": "14",
   "metadata": {},
   "outputs": [],
   "source": [
    "# Liste des couleurs personnalisées pour chaque barre\n",
    "colors = ['red', 'blue', 'green', 'purple', 'orange', 'yellow', 'pink']"
   ]
  },
  {
   "cell_type": "code",
   "execution_count": null,
   "id": "15",
   "metadata": {},
   "outputs": [],
   "source": [
    "# Créer un graphique à barres en utilisant Plotly \n",
    "fig = px.bar(df, x=\"Brand\", y=\"Cars Listings\", color=\"Cars Listings\", height=400)\n",
    "# Ajouter un titre et des étiquettes aux axes x et y\n",
    "fig.update_layout(title_text=\"Cars Listings by Brand\", xaxis_title=\"Marque\", yaxis_title=\"Fréquence\")\n",
    "# Personnalisez l'échelle de couleur et ajoutez une barre de couleur \n",
    "fig.update_traces(marker=dict(color=colors, opacity=0.7, line=dict(color='black', width=1.5)))\n",
    "# Afficher le graphique à barres\n",
    "fig.show()"
   ]
  },
  {
   "cell_type": "code",
   "execution_count": null,
   "id": "16",
   "metadata": {},
   "outputs": [],
   "source": [
    "df['Brand'].unique"
   ]
  },
  {
   "cell_type": "code",
   "execution_count": null,
   "id": "17",
   "metadata": {},
   "outputs": [],
   "source": [
    "colors = ['gray' if brand != 'Volkswagen'] else 'red' for brand in df['Brand']]"
   ]
  },
  {
   "cell_type": "code",
   "execution_count": null,
   "id": "18",
   "metadata": {},
   "outputs": [],
   "source": [
    "colors = []\n",
    "for brand in df['Brand']:\n",
    "    if brand == 'Volkswagen':\n",
    "        colors.append('red')\n",
    "    elif brand == 'Audi':\n",
    "        colors.append('blue')\n",
    "    else:\n",
    "        colors.append('gray')\n",
    "print(colors)"
   ]
  },
  {
   "cell_type": "code",
   "execution_count": null,
   "id": "19",
   "metadata": {},
   "outputs": [],
   "source": [
    "len(colors)"
   ]
  },
  {
   "cell_type": "code",
   "execution_count": null,
   "id": "20",
   "metadata": {},
   "outputs": [],
   "source": [
    "# Créer un graphique à barres en utilisant Plotly \n",
    "fig = px.bar(df, x=\"Brand\", y=\"Cars Listings\", color=\"Cars Listings\", height=400)\n",
    "# Ajouter un titre et des étiquettes aux axes x et y\n",
    "fig.update_layout(title_text=\"Cars Listings by Brand\", xaxis_title=\"Marque\", yaxis_title=\"Fréquence\")\n",
    "# Personnalisez l'échelle de couleur et ajoutez une barre de couleur \n",
    "fig.update_traces(marker=dict(color=colors, opacity=0.7, line=dict(color='black', width=1.5)))\n",
    "# Afficher le graphique à barres\n",
    "fig.show()"
   ]
  },
  {
   "cell_type": "markdown",
   "id": "21",
   "metadata": {},
   "source": [
    "## Graphique en Secteurs (Pie Chart)."
   ]
  },
  {
   "cell_type": "markdown",
   "id": "22",
   "metadata": {},
   "source": [
    "### Pourquoi Utiliser un Graphique en Secteurs\n",
    "\n",
    "1. **Visualisation de Proportions** : Les graphiques en secteurs sont excellents pour montrer les proportions ou les pourcentages de chaque catégorie par rapport à l'ensemble.\n",
    "2. **Impact Visuel** : Ils fournissent un impact visuel fort pour représenter la part de chaque catégorie dans un ensemble, ce qui peut être particulièrement efficace pour les présentations.\n",
    "3. **Clarté** : Idéal pour afficher une distribution de données en pourcentage lorsqu'il y a peu de catégories distinctes.\n",
    "\n",
    "### Quand Utiliser un Graphique en Secteurs\n",
    "\n",
    "1. **Comparaison des Parts** : Lorsque vous voulez comparer les parts relatives de différentes catégories dans un tout.\n",
    "2. **Données Limitées** : Lorsqu'il y a un nombre limité de catégories (généralement pas plus de 5-7), car un grand nombre de segments peut rendre le graphique difficile à lire.\n",
    "3. **Visualisation de Pourcentages** : Lorsque les données sont en pourcentage et que vous souhaitez montrer comment le tout est divisé entre différentes catégories.\n",
    "\n",
    "### Comment Interpréter un Graphique en Secteurs\n",
    "\n",
    "- **Segments** : Chaque segment représente une catégorie différente. La taille du segment est proportionnelle à la part de cette catégorie dans l'ensemble.\n",
    "- **Labels** : Les segments sont généralement étiquetés avec les pourcentages ou les valeurs absolues pour chaque catégorie.\n",
    "- **Couleurs** : Les segments sont souvent colorés différemment pour aider à distinguer facilement les différentes catégories.\n",
    "\n",
    "### Exemple\n",
    "\n",
    "**Scénario** : Vous êtes un analyste marketing et vous voulez montrer la répartition des sources de trafic sur le site web de votre entreprise."
   ]
  },
  {
   "cell_type": "code",
   "execution_count": null,
   "id": "23",
   "metadata": {},
   "outputs": [],
   "source": [
    "# Définir les données comme un dictionnaire\n",
    "labels = ['Référencement naturel', 'Réseaux sociaux', 'Email', 'Publicité payante', 'Direct']\n",
    "sizes = [40, 20, 15, 10, 15]\n",
    "colors = ['skyblue', 'lightgreen', 'lightcoral', 'lightskyblue', 'yellow']"
   ]
  },
  {
   "cell_type": "code",
   "execution_count": null,
   "id": "24",
   "metadata": {},
   "outputs": [],
   "source": [
    "data = {\n",
    "    'Canal Communication': labels,\n",
    "    'Nombre Abonne' : sizes\n",
    "}"
   ]
  },
  {
   "cell_type": "code",
   "execution_count": null,
   "id": "25",
   "metadata": {},
   "outputs": [],
   "source": [
    "df_pie = pd.DataFrame(data)\n",
    "df_pie.head(10)"
   ]
  },
  {
   "cell_type": "code",
   "execution_count": null,
   "id": "26",
   "metadata": {},
   "outputs": [],
   "source": [
    "# Créez un graphique circulaire à l'aide de Plotly Express\n",
    "fig = px.pie(df_pie, values='Nombre Abonne', names='Canal Communication', \n",
    "             color='Canal Communication', title='Distribution par Canal de Communication')\n",
    "fig.update_traces(textposition='inside', textinfo='percent+label')\n",
    "fig.show()"
   ]
  },
  {
   "cell_type": "code",
   "execution_count": null,
   "id": "27",
   "metadata": {},
   "outputs": [],
   "source": [
    "import pandas as pd\n",
    "import plotly.express as px"
   ]
  },
  {
   "cell_type": "markdown",
   "id": "28",
   "metadata": {},
   "source": [
    "## Graphique Régional (Choropleth Map)"
   ]
  },
  {
   "cell_type": "markdown",
   "id": "29",
   "metadata": {},
   "source": [
    "### Pourquoi Utiliser un Graphique Régional\n",
    "\n",
    "1. **Visualisation Géographique** :\n",
    "   - Les graphiques régionaux permettent de visualiser des données géographiques sur une carte, montrant comment une variable est distribuée ou varie dans différentes régions.\n",
    "\n",
    "2. **Facilité de Compréhension** :\n",
    "   - Ils rendent facile l'identification des tendances géographiques et des zones à forte ou faible densité de la variable étudiée.\n",
    "\n",
    "3. **Impact Visuel** :\n",
    "   - Ils fournissent un impact visuel puissant, en particulier pour les présentations, car ils peuvent montrer des différences régionales de manière claire et intuitive.\n",
    "\n",
    "### Quand Utiliser un Graphique Régional\n",
    "\n",
    "- **Données Géographiques** :\n",
    "   - Lorsqu'il est nécessaire de représenter des données liées à des régions géographiques spécifiques (pays, états, départements, etc.).\n",
    "   \n",
    "- **Comparaison Régionale** :\n",
    "   - Lorsque vous voulez comparer des valeurs à travers différentes régions pour identifier des tendances ou des anomalies géographiques.\n",
    "   \n",
    "- **Analyse Spatiale** :\n",
    "   - Lors de l'analyse de données où la localisation est une dimension importante, par exemple, les taux de chômage par région, les niveaux de pollution, les résultats électoraux, etc.\n",
    "\n",
    "### Comment Interpréter un Graphique Régional\n",
    "\n",
    "- **Couleurs** :\n",
    "   - Les régions sont colorées selon une échelle de couleurs qui représente les valeurs de la variable étudiée. Les couleurs plus foncées ou plus claires indiquent généralement des valeurs plus élevées ou plus basses.\n",
    "\n",
    "- **Légende** :\n",
    "   - Une légende est essentielle pour comprendre ce que représentent les différentes couleurs.\n",
    "\n",
    "- **Échelle** :\n",
    "   - L'échelle de la carte doit être appropriée pour représenter clairement les différences entre les régions.\n",
    "\n",
    "### Exemple\n",
    "\n",
    "**Scénario** : Vous êtes un analyste en santé publique et vous voulez montrer les taux de vaccination contre la grippe dans les différents départements de la France."
   ]
  },
  {
   "cell_type": "code",
   "execution_count": null,
   "id": "30",
   "metadata": {},
   "outputs": [],
   "source": [
    "## PQCC = Pourquoi - Quand - Comment Appliquer - Comment Interpreter"
   ]
  },
  {
   "cell_type": "code",
   "execution_count": null,
   "id": "31",
   "metadata": {},
   "outputs": [],
   "source": [
    "# Donnée \n",
    "data = {\n",
    "    'Département': ['Paris', 'Bouches-du-Rhône', 'Nord', 'Rhône', 'Gironde'],\n",
    "    'Taux de Vaccination (%)': [70, 60, 55, 65, 75]\n",
    "}\n",
    "df = pd.DataFrame(data)"
   ]
  },
  {
   "cell_type": "code",
   "execution_count": null,
   "id": "32",
   "metadata": {},
   "outputs": [],
   "source": [
    "df"
   ]
  },
  {
   "cell_type": "code",
   "execution_count": null,
   "id": "33",
   "metadata": {},
   "outputs": [],
   "source": [
    "# Ajout des codes INSEE pour les départements (nécessaire pour la géolocalisation dans Plotly)\n",
    "df['Code Département'] = ['75', '13', '59', '69', '33']"
   ]
  },
  {
   "cell_type": "code",
   "execution_count": null,
   "id": "34",
   "metadata": {},
   "outputs": [],
   "source": [
    "df"
   ]
  },
  {
   "cell_type": "code",
   "execution_count": null,
   "id": "35",
   "metadata": {},
   "outputs": [],
   "source": [
    "# https://raw.githubusercontent.com/johan/world.geo.json/master/countries/CIV.geo.json"
   ]
  },
  {
   "cell_type": "code",
   "execution_count": null,
   "id": "36",
   "metadata": {},
   "outputs": [],
   "source": [
    "# Création de la carte régionale\n",
    "fig = px.choropleth(\n",
    "    df, \n",
    "    geojson='https://france-geojson.gregoiredavid.fr/repo/departements.geojson',  \n",
    "    locations='Code Département',\n",
    "    featureidkey=\"properties.code\",\n",
    "    color='Taux de Vaccination (%)',\n",
    "    hover_name='Département',\n",
    "    color_continuous_scale=\"Viridis\"\n",
    ")"
   ]
  },
  {
   "cell_type": "code",
   "execution_count": null,
   "id": "37",
   "metadata": {},
   "outputs": [],
   "source": [
    "fig.update_geos(fitbounds=\"locations\", visible=True)\n",
    "fig.update_layout(title=\"Taux de Vaccination contre la Grippe par Département en France\")\n",
    "fig.show()"
   ]
  },
  {
   "cell_type": "code",
   "execution_count": null,
   "id": "38",
   "metadata": {},
   "outputs": [],
   "source": [
    "from urllib.request import urlopen\n",
    "import json\n",
    "with urlopen('https://raw.githubusercontent.com/plotly/datasets/master/geojson-counties-fips.json') as response:\n",
    "    counties = json.load(response)"
   ]
  },
  {
   "cell_type": "code",
   "execution_count": null,
   "id": "39",
   "metadata": {},
   "outputs": [],
   "source": [
    "counties[\"features\"][0]"
   ]
  },
  {
   "cell_type": "code",
   "execution_count": null,
   "id": "40",
   "metadata": {},
   "outputs": [],
   "source": [
    "print(counties[\"features\"][0][\"properties\"])"
   ]
  },
  {
   "cell_type": "code",
   "execution_count": null,
   "id": "41",
   "metadata": {},
   "outputs": [],
   "source": [
    "from urllib.request import urlopen\n",
    "import json\n",
    "with urlopen('https://raw.githubusercontent.com/plotly/datasets/master/geojson-counties-fips.json') as response:\n",
    "    counties = json.load(response)\n",
    "\n",
    "import pandas as pd\n",
    "df = pd.read_csv(\"https://raw.githubusercontent.com/plotly/datasets/master/fips-unemp-16.csv\",\n",
    "                   dtype={\"fips\": str})"
   ]
  },
  {
   "cell_type": "code",
   "execution_count": null,
   "id": "42",
   "metadata": {},
   "outputs": [],
   "source": [
    "fig = px.choropleth(df, geojson=counties, locations='fips', color='unemp',\n",
    "                           color_continuous_scale=\"Viridis\",\n",
    "                           range_color=(0, 12),\n",
    "                           scope=\"usa\",\n",
    "                           labels={'unemp':'unemployment rate'}\n",
    "                          )\n",
    "fig.update_layout(margin={\"r\":0,\"t\":0,\"l\":0,\"b\":0})\n",
    "fig.show()"
   ]
  },
  {
   "cell_type": "markdown",
   "id": "43",
   "metadata": {},
   "source": [
    "### Graphique en Aires (Area Chart)\n",
    "\n",
    "#### Pourquoi Utiliser un Graphique en Aires\n",
    "\n",
    "1. **Visualisation de la Contribution Cumulative** : Les graphiques en aires sont utiles pour montrer comment différentes catégories contribuent à un total au fil du temps ou sur une autre dimension continue.\n",
    "2. **Représentation des Proportions** : Ils permettent de visualiser les proportions relatives de plusieurs séries de données et leur évolution dans le temps.\n",
    "3. **Tendance et Volume** : En plus de montrer les tendances, ils peuvent également donner une idée du volume total de la donnée représentée.\n",
    "\n",
    "#### Quand Utiliser un Graphique en Aires\n",
    "\n",
    "1. **Données Temporelles** : Lorsque vous souhaitez visualiser la contribution cumulée de différentes catégories sur une période de temps, comme les ventes cumulées par région ou les sources d'énergie au fil des années.\n",
    "2. **Comparaison de Séries** : Pour comparer plusieurs séries de données en montrant leur contribution au total.\n",
    "3. **Analyse de Volume** : Lorsque le volume total et la part de chaque composant sont importants pour l'analyse.\n",
    "\n",
    "#### Comment Interpréter un Graphique en Aires\n",
    "\n",
    "- **Axes** : L'axe horizontal (x) représente généralement le temps ou une autre variable continue, et l'axe vertical (y) représente la valeur cumulée.\n",
    "- **Zones Colorées** : Chaque zone colorée représente une catégorie ou une série de données. La taille de la zone indique la contribution de cette catégorie.\n",
    "- **Tendance Générale** : La forme générale du graphique montre la tendance cumulative des valeurs.\n",
    "\n",
    "#### Exemple\n",
    "Scénario : \n",
    "- Vous êtes un analyste des ventes et vous voulez montrer la contribution des ventes de différents produits au chiffre d'affaires total de l'entreprise sur une période de six mois."
   ]
  },
  {
   "cell_type": "code",
   "execution_count": null,
   "id": "44",
   "metadata": {},
   "outputs": [],
   "source": [
    "data = {\n",
    "    'Mois': ['Janvier', 'Février', 'Mars', 'Avril', 'Mai', 'Juin'],\n",
    "    'Iphone': [100, 120, 140, 160, 180, 200],\n",
    "    'Huawei': [150, 130, 170, 180, 160, 190],\n",
    "    'Samsung': [200, 210, 220, 240, 230, 250]\n",
    "}\n",
    "\n",
    "df = pd.DataFrame(data)"
   ]
  },
  {
   "cell_type": "code",
   "execution_count": null,
   "id": "45",
   "metadata": {},
   "outputs": [],
   "source": [
    "df.head(10)"
   ]
  },
  {
   "cell_type": "code",
   "execution_count": null,
   "id": "46",
   "metadata": {},
   "outputs": [],
   "source": [
    "# Transformer les données pour l'utilisation avec Plotly\n",
    "df_melted = df.melt(id_vars=\"Mois\", var_name=\"Produit\", value_name=\"Ventes\")"
   ]
  },
  {
   "cell_type": "code",
   "execution_count": null,
   "id": "47",
   "metadata": {},
   "outputs": [],
   "source": [
    "df_melted"
   ]
  },
  {
   "cell_type": "code",
   "execution_count": null,
   "id": "48",
   "metadata": {},
   "outputs": [],
   "source": [
    "# Créer un graphique en aires en utilisant Plotly\n",
    "fig = px.area(df_melted, x=\"Mois\", y=\"Ventes\", line_group=\"Produit\", color=\"Produit\", height=400)\n",
    "\n",
    "# Ajouter un titre et des étiquettes aux axes x et y\n",
    "fig.update_layout(title_text=\"Contribution des Ventes par Produit au Chiffre d'Affaires\", xaxis_title=\"Mois\", yaxis_title=\"Ventes\")\n",
    "\n",
    "fig.show()"
   ]
  },
  {
   "cell_type": "markdown",
   "id": "49",
   "metadata": {},
   "source": [
    "### Graphique en Lignes (Line Chart)\n",
    "\n",
    "#### Pourquoi Utiliser un Graphique en Lignes\n",
    "\n",
    "1. **Visualisation des Tendances** : Les graphiques en lignes sont excellents pour montrer des tendances et des changements au fil du temps. Ils aident à identifier des motifs et des variations dans les données temporelles.\n",
    "2. **Comparaison de Séries** : Ils permettent de comparer facilement plusieurs séries de données sur un même graphique, facilitant ainsi l'analyse des relations entre différentes variables.\n",
    "3. **Clarté et Simplicité** : Ils sont simples à comprendre et à interpréter, rendant les données accessibles même à ceux qui n'ont pas de formation technique.\n",
    "\n",
    "#### Quand Utiliser un Graphique en Lignes\n",
    "\n",
    "1. **Données Temporelles** : Lorsqu'il est nécessaire de représenter des données chronologiques, comme les ventes mensuelles, les températures quotidiennes, ou les prix des actions.\n",
    "2. **Comparaison de Séries Temporelles** : Pour comparer plusieurs séries de données sur la même période, comme les performances de différents produits ou les variations des indicateurs économiques.\n",
    "3. **Analyse des Tendances** : Pour détecter des tendances à long terme ou des cycles saisonniers dans les données.\n",
    "\n",
    "#### Comment Interpréter un Graphique en Lignes\n",
    "\n",
    "- **Axes** : L'axe horizontal (x) représente généralement le temps ou une autre variable continue, tandis que l'axe vertical (y) représente les valeurs mesurées.\n",
    "- **Lignes** : Chaque ligne représente une série de données. La pente et la direction de la ligne indiquent les tendances et les variations.\n",
    "- **Points de Données** : Les points sur la ligne montrent les valeurs individuelles à des intervalles spécifiques.\n",
    "\n",
    "#### Exemple\n",
    "\n",
    "**Scénario** : Vous êtes un analyste financier et vous voulez montrer l'évolution du cours des actions de deux entreprises sur une période d'un an."
   ]
  },
  {
   "cell_type": "code",
   "execution_count": null,
   "id": "50",
   "metadata": {},
   "outputs": [],
   "source": [
    "data = {\n",
    "    'Date': ['Janvier', 'Février', 'Mars', 'Avril', 'Mai', 'Juin', 'Juillet', 'Août', 'Septembre', 'Octobre', 'Novembre', 'Décembre'],\n",
    "    'CIE': [100, 105, 102, 110, 115, 120, 125, 130, 128, 132, 135, 140],\n",
    "    'SODECI': [90, 95, 93, 98, 100, 105, 110, 108, 112, 115, 118, 120]\n",
    "}\n",
    "\n",
    "df = pd.DataFrame(data)"
   ]
  },
  {
   "cell_type": "code",
   "execution_count": null,
   "id": "51",
   "metadata": {},
   "outputs": [],
   "source": [
    "df.head(10)"
   ]
  },
  {
   "cell_type": "code",
   "execution_count": null,
   "id": "52",
   "metadata": {},
   "outputs": [],
   "source": [
    "# Utilisation de Matplotlib\n",
    "import matplotlib.pyplot as plt"
   ]
  },
  {
   "cell_type": "code",
   "execution_count": null,
   "id": "53",
   "metadata": {},
   "outputs": [],
   "source": [
    "# Création du graphique en lignes\n",
    "plt.figure(figsize=(15, 6))\n",
    "plt.plot(df['Date'], df['CIE'], marker=\"o\", label=\"CIE\", color='orange')\n",
    "plt.plot(df['Date'], df['SODECI'], marker=\"o\", label=\"SODECI\", color='green')\n",
    "\n",
    "plt.xlabel('Date')\n",
    "plt.ylabel('Cours de l\\'action')\n",
    "plt.title('Évolution du Cours des Actions de la CIE & SODECI')\n",
    "\n",
    "plt.xticks(rotation=45)\n",
    "plt.legend()\n",
    "plt.grid(True)\n",
    "\n",
    "plt.show()"
   ]
  },
  {
   "cell_type": "markdown",
   "id": "54",
   "metadata": {},
   "source": [
    "### Histogramme\n",
    "\n",
    "#### Pourquoi Utiliser un Histogramme\n",
    "\n",
    "1. **Distribution des Données** : Les histogrammes sont excellents pour montrer la distribution d'un ensemble de données continues ou discrètes. Ils permettent de visualiser comment les données sont réparties sur une plage de valeurs.\n",
    "2. **Identification des Tendances** : Ils aident à identifier les tendances centrales, la dispersion, et la forme de la distribution des données.\n",
    "3. **Détection des Anomalies** : Les histogrammes sont utiles pour détecter des valeurs atypiques (outliers) et comprendre la variabilité des données.\n",
    "\n",
    "#### Quand Utiliser un Histogramme\n",
    "\n",
    "1. **Analyse de Distribution** : Lorsque vous avez besoin de comprendre la distribution d'une variable continue, comme les notes des étudiants, les temps de réponse, ou les prix des maisons.\n",
    "2. **Résumé Visuel des Données** : Pour résumer de grandes quantités de données et rendre les informations plus accessibles.\n",
    "3. **Comparaison de Distributions** : Pour comparer la distribution de la même variable entre différentes sous-populations ou conditions.\n",
    "\n",
    "#### Comment Interpréter un Histogramme\n",
    "\n",
    "- **Axes** : L'axe horizontal (x) représente les intervalles de valeurs (bins), et l'axe vertical (y) représente la fréquence ou le nombre de données dans chaque intervalle.\n",
    "- **Barres** : La hauteur de chaque barre indique combien de données tombent dans cet intervalle. Les barres plus hautes indiquent une fréquence plus élevée.\n",
    "- **Forme de la Distribution** : La forme globale des barres peut indiquer si la distribution est normale, biaisée, bimodale, etc.\n",
    "\n",
    "#### Exemple\n",
    "\n",
    "**Scénario** : Vous êtes un analyste en ressources humaines et vous voulez montrer la distribution des salaires des employés dans votre entreprise."
   ]
  },
  {
   "cell_type": "code",
   "execution_count": null,
   "id": "55",
   "metadata": {},
   "outputs": [],
   "source": [
    "import matplotlib.pyplot as plt"
   ]
  },
  {
   "cell_type": "code",
   "execution_count": null,
   "id": "56",
   "metadata": {},
   "outputs": [],
   "source": [
    "# Données d'exemple\n",
    "salaries = [40000, 45000, 50000, 52000, 53000, 55000, 60000, 62000, 65000,\n",
    "            70000, 75000, 80000, 85000, 90000, 95000, 100000]\n",
    "\n",
    "df = pd.DataFrame(salaries, columns=['Salaire'])"
   ]
  },
  {
   "cell_type": "code",
   "execution_count": null,
   "id": "57",
   "metadata": {},
   "outputs": [],
   "source": [
    "df.head()"
   ]
  },
  {
   "cell_type": "code",
   "execution_count": null,
   "id": "58",
   "metadata": {},
   "outputs": [],
   "source": [
    "# Création de l'histogramme\n",
    "plt.figure(figsize=(15, 6))\n",
    "plt.hist(df['Salaire'], bins=10, color='skyblue', edgecolor='black')\n",
    "\n",
    "plt.xlabel('Salaire ($)')\n",
    "plt.ylabel('Nombre d\\'employés')\n",
    "plt.title('Distribution des Salaires des Employés')\n",
    "plt.grid(True)\n",
    "\n",
    "# Affichage\n",
    "plt.show()"
   ]
  },
  {
   "cell_type": "markdown",
   "id": "59",
   "metadata": {},
   "source": [
    "#### Exemple 2"
   ]
  },
  {
   "cell_type": "code",
   "execution_count": null,
   "id": "60",
   "metadata": {},
   "outputs": [],
   "source": [
    "# Données d'exemple pour les âges d'une population\n",
    "ages = [22, 25, 25, 27, 28, 30, 32, 35, 37, 40, 41, 42, 45, 46, 50, 52, 55, 57, 60, 62, 65, 68, 70, 75, 78, 80]\n",
    "\n",
    "# Création de l'histogramme avec des tranches d'âge de 10 ans\n",
    "bins = [0, 10, 20, 30, 40, 50, 60, 70, 80, 90]  # Définir les tranches d'âge\n",
    "\n",
    "plt.figure(figsize=(15, 6))\n",
    "plt.hist(ages, bins=bins, color='lightgreen', edgecolor='black')\n",
    "\n",
    "plt.xlabel('Âge')\n",
    "plt.ylabel('Nombre de personnes')\n",
    "plt.title('Distribution des Âges dans la Population par Tranches d\\'Âge')\n",
    "plt.grid(True)\n",
    "# Pour afficher les limites des bins sur l'axe des x\n",
    "plt.xticks(bins)  \n",
    "plt.show()"
   ]
  },
  {
   "cell_type": "code",
   "execution_count": null,
   "id": "61",
   "metadata": {},
   "outputs": [],
   "source": [
    "# Avec Plotly\n",
    "fig = px.histogram(df, x='Salaire', nbins=10)\n",
    "fig.show()"
   ]
  },
  {
   "cell_type": "markdown",
   "id": "62",
   "metadata": {},
   "source": [
    "### Graphique en Nuages de Points (Scatter Plot)\n",
    "\n",
    "#### Pourquoi Utiliser un Graphique en Nuages de Points\n",
    "\n",
    "1. **Visualisation de la Relation** : Les graphiques en nuages de points sont parfaits pour visualiser la relation entre deux variables numériques. Ils permettent de voir comment une variable affecte une autre.\n",
    "2. **Détection des Tendances** : Ils aident à identifier des tendances, des corrélations, et des relations de causalité potentielles entre les variables.\n",
    "3. **Identification des Anomalies** : Les graphiques en nuages de points sont utiles pour repérer les valeurs atypiques (outliers) et comprendre la variabilité des données.\n",
    "\n",
    "#### Quand Utiliser un Graphique en Nuages de Points\n",
    "\n",
    "1. **Analyse Bivariée** : Lorsque vous souhaitez analyser la relation entre deux variables numériques, comme la hauteur et le poids, le prix et la surface d'une maison, ou le temps de réaction et l'âge.\n",
    "2. **Détection de Corrélation** : Pour détecter des corrélations ou des patterns entre deux variables.\n",
    "3. **Exploration de Données** : Lors de l'exploration des données pour repérer des tendances générales ou des anomalies.\n",
    "\n",
    "#### Comment Interpréter un Graphique en Nuages de Points\n",
    "\n",
    "- **Points** : Chaque point représente une observation dans les données, avec ses coordonnées correspondant aux valeurs des deux variables.\n",
    "- **Tendance Générale** : La distribution des points peut indiquer une tendance positive, négative, ou nulle entre les variables.\n",
    "- **Densité des Points** : La concentration des points dans certaines zones peut indiquer une forte relation ou des valeurs fréquemment observées.\n",
    "- **Outliers** : Les points éloignés des autres peuvent être des valeurs atypiques ou des anomalies.\n",
    "\n",
    "#### Exemple\n",
    "\n",
    "**Scénario** : Vous êtes un économiste et vous voulez montrer la relation entre le PIB (Produit Intérieur Brut) par habitant et le taux de chômage de différents pays."
   ]
  },
  {
   "cell_type": "code",
   "execution_count": null,
   "id": "63",
   "metadata": {},
   "outputs": [],
   "source": [
    "# Exemple de donée\n",
    "data = {\n",
    "    'Pays': ['France', 'Allemagne', 'États-Unis', 'Japon', 'Canada', 'Australie', 'Royaume-Uni', 'Italie', 'Brésil', 'Inde'],\n",
    "    'PIB par habitant (USD)': [42000, 50000, 60000, 40000, 45000, 47000, 41000, 35000, 15000, 8000],\n",
    "    'Taux de chômage (%)': [6, 5, 4, 3, 7, 5.5, 4.5, 8, 12, 10]\n",
    "}\n",
    "\n",
    "df = pd.DataFrame(data)\n",
    "df.head(10)"
   ]
  },
  {
   "cell_type": "code",
   "execution_count": null,
   "id": "64",
   "metadata": {},
   "outputs": [],
   "source": [
    "pib_per_capita = df['PIB par habitant (USD)']\n",
    "unemployment_rate = df['Taux de chômage (%)']\n",
    "countries = df['Pays']"
   ]
  },
  {
   "cell_type": "code",
   "execution_count": null,
   "id": "65",
   "metadata": {},
   "outputs": [],
   "source": [
    "countries"
   ]
  },
  {
   "cell_type": "code",
   "execution_count": null,
   "id": "66",
   "metadata": {},
   "outputs": [],
   "source": [
    "# Création du graphique en nuages de points\n",
    "plt.figure(figsize=(15, 6))\n",
    "plt.scatter(pib_per_capita, unemployment_rate, color='blue')\n",
    "\n",
    "# Annotation des points avec les noms des pays\n",
    "for index, country in enumerate(countries):\n",
    "    plt.annotate(country, (pib_per_capita[index], unemployment_rate[index]))\n",
    "    \n",
    "plt.xlabel('PIB par habitant (USD)')\n",
    "plt.ylabel('Taux de chômage (%)')\n",
    "plt.title('Relation entre le PIB par habitant et le Taux de Chômage')\n",
    "plt.grid(True)\n",
    "\n",
    "# Affichage\n",
    "plt.show()"
   ]
  },
  {
   "cell_type": "code",
   "execution_count": null,
   "id": "67",
   "metadata": {},
   "outputs": [],
   "source": []
  },
  {
   "cell_type": "code",
   "execution_count": null,
   "id": "68",
   "metadata": {},
   "outputs": [],
   "source": [
    "import pandas as pd\n",
    "import plotly.express as px\n",
    "\n",
    "# Données\n",
    "data = {\n",
    "    'Pays': ['France', 'Allemagne', 'États-Unis', 'Japon', 'Canada', 'Australie', 'Royaume-Uni', 'Italie', 'Brésil', 'Inde'],\n",
    "    'PIB par habitant (USD)': [42000, 50000, 60000, 40000, 45000, 47000, 41000, 35000, 15000, 8000],\n",
    "    'Taux de chômage (%)': [6, 5, 4, 3, 7, 5.5, 4.5, 8, 12, 10]\n",
    "}\n",
    "\n",
    "# Convertir le dictionnaire en DataFrame pandas\n",
    "df = pd.DataFrame(data)\n",
    "\n",
    "# Créer le diagramme de dispersion\n",
    "fig = px.scatter(df, x='PIB par habitant (USD)', y='Taux de chômage (%)', text='Pays',\n",
    "                 title='Relation entre le PIB par habitant et le Taux de Chômage',\n",
    "                 labels={'PIB par habitant (USD)': 'PIB par habitant (USD)', 'Taux de chômage (%)': 'Taux de chômage (%)'})\n",
    "\n",
    "# Ajouter les étiquettes des points\n",
    "fig.update_traces(textposition='top center')\n",
    "\n",
    "# Afficher le graphique\n",
    "fig.show()"
   ]
  },
  {
   "cell_type": "code",
   "execution_count": null,
   "id": "69",
   "metadata": {},
   "outputs": [],
   "source": [
    "import plotly.express as px\n",
    "df = px.data.tips()\n",
    "df.head()"
   ]
  },
  {
   "cell_type": "code",
   "execution_count": null,
   "id": "70",
   "metadata": {},
   "outputs": [],
   "source": [
    "df.shape"
   ]
  },
  {
   "cell_type": "code",
   "execution_count": null,
   "id": "71",
   "metadata": {},
   "outputs": [],
   "source": [
    "fig = px.scatter(df, x=\"total_bill\", y=\"tip\", color=\"smoker\", facet_col=\"sex\")\n",
    "fig.show()"
   ]
  },
  {
   "cell_type": "code",
   "execution_count": null,
   "id": "72",
   "metadata": {},
   "outputs": [],
   "source": [
    "df_test = px.data.election()"
   ]
  },
  {
   "cell_type": "code",
   "execution_count": null,
   "id": "73",
   "metadata": {},
   "outputs": [],
   "source": [
    "df_test.head()"
   ]
  },
  {
   "cell_type": "code",
   "execution_count": null,
   "id": "74",
   "metadata": {},
   "outputs": [],
   "source": [
    "df_test.shape"
   ]
  },
  {
   "cell_type": "code",
   "execution_count": null,
   "id": "75",
   "metadata": {},
   "outputs": [],
   "source": [
    "df_test['winner'].unique()"
   ]
  },
  {
   "cell_type": "code",
   "execution_count": null,
   "id": "76",
   "metadata": {},
   "outputs": [],
   "source": [
    "# Créer un diagramme à barres pour visualiser les votes\n",
    "fig_bar = px.bar(df_test, x='district', y=df_test['winner'].unique(),\n",
    "                 title=\"Votes par candidat et par district\",\n",
    "                 labels={'value': 'Nombre de votes', 'variable': 'Candidat', 'district': 'District'},\n",
    "                 barmode='group')\n",
    "\n",
    "# Afficher le diagramme à barres\n",
    "fig_bar.show()"
   ]
  },
  {
   "cell_type": "code",
   "execution_count": null,
   "id": "77",
   "metadata": {},
   "outputs": [],
   "source": [
    "# Créer un diagramme de dispersion pour visualiser les votes de deux candidats\n",
    "\n",
    "# Créer un dictionnaire pour les couleurs des gagnants\n",
    "color_map = {'Joly': 'yellow', 'Bergeron': 'blue'}\n",
    "\n",
    "fig_scatter = px.scatter(df_test, x='Joly', y='Bergeron',\n",
    "                         title=\"Votes de Joly vs Bergeron\",\n",
    "                         labels={'Joly': 'Votes pour Joly', 'Bergeron': 'Votes pour Bergeron'},\n",
    "                         color='winner',\n",
    "                         color_discrete_map=color_map\n",
    "                        )\n",
    "\n",
    "# Afficher le diagramme de dispersion\n",
    "fig_scatter.show()"
   ]
  },
  {
   "cell_type": "code",
   "execution_count": null,
   "id": "78",
   "metadata": {},
   "outputs": [],
   "source": [
    "# Créer une carte choroplèthe pour visualiser les résultats par district\n",
    "geojson = px.data.election_geojson()\n",
    "\n",
    "fig_choropleth = px.choropleth(df_test, geojson=geojson, locations='district', color='winner',\n",
    "                               featureidkey=\"properties.district\",\n",
    "                               projection=\"mercator\",\n",
    "                               title=\"Résultats par district\",\n",
    "                               labels={'winner': 'Gagnant par district'})\n",
    "\n",
    "fig_choropleth.update_geos(fitbounds=\"locations\", visible=False)\n",
    "fig_choropleth.show()"
   ]
  },
  {
   "cell_type": "code",
   "execution_count": null,
   "id": "79",
   "metadata": {},
   "outputs": [],
   "source": [
    "import plotly.express as px\n",
    "df = px.data.gapminder().query(\"continent == 'Oceania'\")\n",
    "fig = px.line(df, x='year', y='lifeExp', color='country', symbol=\"country\")\n",
    "fig.show()\n"
   ]
  },
  {
   "cell_type": "code",
   "execution_count": null,
   "id": "80",
   "metadata": {},
   "outputs": [],
   "source": []
  },
  {
   "cell_type": "markdown",
   "id": "81",
   "metadata": {},
   "source": [
    "## Checkpoint Objective \n",
    "#### Instructions\n",
    "1. Chargez l'ensemble de données dans un cadre de données à l'aide de Python.\n",
    "2. Nettoyez les données au besoin.\n",
    "3. Tracez un graphique linéaire pour montrer les fluctuations moyennes de température en Tunisie et au Cameroun. Interpréter les résultats.\n",
    "4. Zoomez pour n'inclure que les données entre 1980 et 2005, essayez de personnaliser les étiquettes des axes.\n",
    "5. Créer des histogrammes pour montrer la distribution de la température au Sénégal entre [1980,2000] et [2000,2023] (dans la même figure). 6. Décrire les résultats obtenus.\n",
    "7. Sélectionnez le meilleur graphique pour afficher la température moyenne par pays.\n",
    "8. Posez vos propres questions sur l'ensemble de données et essayez d'y répondre en utilisant les visuels appropriés.\n",
    "\n",
    "Lien Data : https://drive.google.com/file/d/1I8eV4-8p61CNNlVJzzho2xeoZ5-P7Q0F/view"
   ]
  },
  {
   "cell_type": "code",
   "execution_count": null,
   "id": "82",
   "metadata": {},
   "outputs": [],
   "source": []
  },
  {
   "cell_type": "code",
   "execution_count": null,
   "id": "83",
   "metadata": {},
   "outputs": [],
   "source": []
  }
 ],
 "metadata": {
  "kernelspec": {
   "display_name": "Python 3 (ipykernel)",
   "language": "python",
   "name": "python3"
  },
  "language_info": {
   "codemirror_mode": {
    "name": "ipython",
    "version": 3
   },
   "file_extension": ".py",
   "mimetype": "text/x-python",
   "name": "python",
   "nbconvert_exporter": "python",
   "pygments_lexer": "ipython3",
   "version": "3.11.7"
  }
 },
 "nbformat": 4,
 "nbformat_minor": 5
}
